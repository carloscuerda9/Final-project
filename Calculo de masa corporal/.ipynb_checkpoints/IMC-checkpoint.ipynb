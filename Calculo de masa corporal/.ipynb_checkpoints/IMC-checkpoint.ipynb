{
 "cells": [
  {
   "cell_type": "code",
   "execution_count": 1,
   "id": "25a882ca-aac4-47f4-a2c6-0336df5608b7",
   "metadata": {
    "tags": []
   },
   "outputs": [],
   "source": [
    "import pandas as pd\n",
    "from sklearn.model_selection import train_test_split\n",
    "from sklearn.linear_model import LinearRegression\n",
    "from sklearn.metrics import r2_score, mean_squared_error, mean_absolute_error\n",
    "import numpy as np"
   ]
  },
  {
   "cell_type": "code",
   "execution_count": 2,
   "id": "d44d697a-4fe0-4923-bc3e-5facc61096c5",
   "metadata": {
    "tags": []
   },
   "outputs": [],
   "source": [
    "data= pd.read_csv('Dataset.csv')"
   ]
  },
  {
   "cell_type": "code",
   "execution_count": 3,
   "id": "3020d6ca-cee5-416b-b8dd-faefbf0262fb",
   "metadata": {
    "tags": []
   },
   "outputs": [
    {
     "data": {
      "text/html": [
       "<div>\n",
       "<style scoped>\n",
       "    .dataframe tbody tr th:only-of-type {\n",
       "        vertical-align: middle;\n",
       "    }\n",
       "\n",
       "    .dataframe tbody tr th {\n",
       "        vertical-align: top;\n",
       "    }\n",
       "\n",
       "    .dataframe thead th {\n",
       "        text-align: right;\n",
       "    }\n",
       "</style>\n",
       "<table border=\"1\" class=\"dataframe\">\n",
       "  <thead>\n",
       "    <tr style=\"text-align: right;\">\n",
       "      <th></th>\n",
       "      <th>Unnamed: 0</th>\n",
       "      <th>age</th>\n",
       "      <th>weight(kg)</th>\n",
       "      <th>height(m)</th>\n",
       "      <th>gender</th>\n",
       "      <th>BMI</th>\n",
       "      <th>BMR</th>\n",
       "      <th>activity_level</th>\n",
       "      <th>calories_to_maintain_weight</th>\n",
       "      <th>BMI_tags</th>\n",
       "      <th>Label</th>\n",
       "    </tr>\n",
       "  </thead>\n",
       "  <tbody>\n",
       "    <tr>\n",
       "      <th>6438</th>\n",
       "      <td>13399</td>\n",
       "      <td>28</td>\n",
       "      <td>67.629682</td>\n",
       "      <td>1.631374</td>\n",
       "      <td>M</td>\n",
       "      <td>25.411499</td>\n",
       "      <td>1617.814</td>\n",
       "      <td>1.7</td>\n",
       "      <td>2750.2838</td>\n",
       "      <td>9</td>\n",
       "      <td>31</td>\n",
       "    </tr>\n",
       "    <tr>\n",
       "      <th>9953</th>\n",
       "      <td>22418</td>\n",
       "      <td>88</td>\n",
       "      <td>98.749607</td>\n",
       "      <td>1.630980</td>\n",
       "      <td>M</td>\n",
       "      <td>37.122583</td>\n",
       "      <td>1635.960</td>\n",
       "      <td>1.5</td>\n",
       "      <td>2453.9400</td>\n",
       "      <td>9</td>\n",
       "      <td>30</td>\n",
       "    </tr>\n",
       "    <tr>\n",
       "      <th>4981</th>\n",
       "      <td>9766</td>\n",
       "      <td>19</td>\n",
       "      <td>57.616348</td>\n",
       "      <td>1.632490</td>\n",
       "      <td>F</td>\n",
       "      <td>21.619458</td>\n",
       "      <td>1396.340</td>\n",
       "      <td>1.3</td>\n",
       "      <td>1815.2420</td>\n",
       "      <td>8</td>\n",
       "      <td>16</td>\n",
       "    </tr>\n",
       "    <tr>\n",
       "      <th>7636</th>\n",
       "      <td>15846</td>\n",
       "      <td>33</td>\n",
       "      <td>75.268830</td>\n",
       "      <td>1.631805</td>\n",
       "      <td>M</td>\n",
       "      <td>28.266923</td>\n",
       "      <td>1688.686</td>\n",
       "      <td>1.5</td>\n",
       "      <td>2533.0290</td>\n",
       "      <td>9</td>\n",
       "      <td>30</td>\n",
       "    </tr>\n",
       "    <tr>\n",
       "      <th>4634</th>\n",
       "      <td>9207</td>\n",
       "      <td>21</td>\n",
       "      <td>57.000203</td>\n",
       "      <td>1.632301</td>\n",
       "      <td>M</td>\n",
       "      <td>21.393197</td>\n",
       "      <td>1520.253</td>\n",
       "      <td>1.7</td>\n",
       "      <td>2584.4301</td>\n",
       "      <td>8</td>\n",
       "      <td>20</td>\n",
       "    </tr>\n",
       "  </tbody>\n",
       "</table>\n",
       "</div>"
      ],
      "text/plain": [
       "      Unnamed: 0  age  weight(kg)  height(m) gender        BMI       BMR  \\\n",
       "6438       13399   28   67.629682   1.631374      M  25.411499  1617.814   \n",
       "9953       22418   88   98.749607   1.630980      M  37.122583  1635.960   \n",
       "4981        9766   19   57.616348   1.632490      F  21.619458  1396.340   \n",
       "7636       15846   33   75.268830   1.631805      M  28.266923  1688.686   \n",
       "4634        9207   21   57.000203   1.632301      M  21.393197  1520.253   \n",
       "\n",
       "      activity_level  calories_to_maintain_weight  BMI_tags  Label  \n",
       "6438             1.7                    2750.2838         9     31  \n",
       "9953             1.5                    2453.9400         9     30  \n",
       "4981             1.3                    1815.2420         8     16  \n",
       "7636             1.5                    2533.0290         9     30  \n",
       "4634             1.7                    2584.4301         8     20  "
      ]
     },
     "execution_count": 3,
     "metadata": {},
     "output_type": "execute_result"
    }
   ],
   "source": [
    "data.sample(5)"
   ]
  },
  {
   "cell_type": "code",
   "execution_count": 4,
   "id": "04000f7c-5573-43de-962b-591f445261b1",
   "metadata": {
    "tags": []
   },
   "outputs": [],
   "source": [
    "data = data.drop([\"Unnamed: 0\", \"BMI_tags\", \"Label\"], axis=1)"
   ]
  },
  {
   "cell_type": "code",
   "execution_count": 5,
   "id": "c4bd8943-98db-4169-9a90-6d03fa83dc41",
   "metadata": {
    "tags": []
   },
   "outputs": [],
   "source": [
    "data = pd.get_dummies(data, columns=['gender'], drop_first=False)"
   ]
  },
  {
   "cell_type": "code",
   "execution_count": 6,
   "id": "c1e2bfb8-f031-45c4-8516-d421dffa2fb4",
   "metadata": {
    "tags": []
   },
   "outputs": [
    {
     "data": {
      "text/html": [
       "<div>\n",
       "<style scoped>\n",
       "    .dataframe tbody tr th:only-of-type {\n",
       "        vertical-align: middle;\n",
       "    }\n",
       "\n",
       "    .dataframe tbody tr th {\n",
       "        vertical-align: top;\n",
       "    }\n",
       "\n",
       "    .dataframe thead th {\n",
       "        text-align: right;\n",
       "    }\n",
       "</style>\n",
       "<table border=\"1\" class=\"dataframe\">\n",
       "  <thead>\n",
       "    <tr style=\"text-align: right;\">\n",
       "      <th></th>\n",
       "      <th>age</th>\n",
       "      <th>weight(kg)</th>\n",
       "      <th>height(m)</th>\n",
       "      <th>BMI</th>\n",
       "      <th>BMR</th>\n",
       "      <th>activity_level</th>\n",
       "      <th>calories_to_maintain_weight</th>\n",
       "      <th>gender_F</th>\n",
       "      <th>gender_M</th>\n",
       "    </tr>\n",
       "  </thead>\n",
       "  <tbody>\n",
       "    <tr>\n",
       "      <th>3574</th>\n",
       "      <td>16</td>\n",
       "      <td>52.376701</td>\n",
       "      <td>1.594365</td>\n",
       "      <td>20.604530</td>\n",
       "      <td>1353.658</td>\n",
       "      <td>1.9</td>\n",
       "      <td>2571.9502</td>\n",
       "      <td>True</td>\n",
       "      <td>False</td>\n",
       "    </tr>\n",
       "    <tr>\n",
       "      <th>1067</th>\n",
       "      <td>8</td>\n",
       "      <td>23.040823</td>\n",
       "      <td>1.175735</td>\n",
       "      <td>16.667839</td>\n",
       "      <td>915.127</td>\n",
       "      <td>1.9</td>\n",
       "      <td>1738.7413</td>\n",
       "      <td>False</td>\n",
       "      <td>True</td>\n",
       "    </tr>\n",
       "    <tr>\n",
       "      <th>9593</th>\n",
       "      <td>43</td>\n",
       "      <td>92.803060</td>\n",
       "      <td>1.632253</td>\n",
       "      <td>34.832724</td>\n",
       "      <td>1861.128</td>\n",
       "      <td>1.2</td>\n",
       "      <td>2233.3536</td>\n",
       "      <td>False</td>\n",
       "      <td>True</td>\n",
       "    </tr>\n",
       "    <tr>\n",
       "      <th>6291</th>\n",
       "      <td>27</td>\n",
       "      <td>66.080631</td>\n",
       "      <td>1.630706</td>\n",
       "      <td>24.849787</td>\n",
       "      <td>1603.058</td>\n",
       "      <td>1.5</td>\n",
       "      <td>2404.5870</td>\n",
       "      <td>False</td>\n",
       "      <td>True</td>\n",
       "    </tr>\n",
       "    <tr>\n",
       "      <th>3411</th>\n",
       "      <td>15</td>\n",
       "      <td>54.039520</td>\n",
       "      <td>1.597050</td>\n",
       "      <td>21.187248</td>\n",
       "      <td>1502.866</td>\n",
       "      <td>1.7</td>\n",
       "      <td>2554.8722</td>\n",
       "      <td>False</td>\n",
       "      <td>True</td>\n",
       "    </tr>\n",
       "  </tbody>\n",
       "</table>\n",
       "</div>"
      ],
      "text/plain": [
       "      age  weight(kg)  height(m)        BMI       BMR  activity_level  \\\n",
       "3574   16   52.376701   1.594365  20.604530  1353.658             1.9   \n",
       "1067    8   23.040823   1.175735  16.667839   915.127             1.9   \n",
       "9593   43   92.803060   1.632253  34.832724  1861.128             1.2   \n",
       "6291   27   66.080631   1.630706  24.849787  1603.058             1.5   \n",
       "3411   15   54.039520   1.597050  21.187248  1502.866             1.7   \n",
       "\n",
       "      calories_to_maintain_weight  gender_F  gender_M  \n",
       "3574                    2571.9502      True     False  \n",
       "1067                    1738.7413     False      True  \n",
       "9593                    2233.3536     False      True  \n",
       "6291                    2404.5870     False      True  \n",
       "3411                    2554.8722     False      True  "
      ]
     },
     "execution_count": 6,
     "metadata": {},
     "output_type": "execute_result"
    }
   ],
   "source": [
    "data.sample(5)"
   ]
  },
  {
   "cell_type": "code",
   "execution_count": 7,
   "id": "f739c732-85c1-4df4-b5b5-e2c802c24109",
   "metadata": {},
   "outputs": [],
   "source": [
    "data['activity_level'] = (data['activity_level'] - 1) * 100"
   ]
  },
  {
   "cell_type": "code",
   "execution_count": null,
   "id": "2748501c-a365-48d5-9002-a9c9c2e5e1ff",
   "metadata": {},
   "outputs": [],
   "source": []
  },
  {
   "cell_type": "code",
   "execution_count": 8,
   "id": "9e394be1-790b-46ad-bbad-048d13dabd71",
   "metadata": {
    "tags": []
   },
   "outputs": [],
   "source": [
    "data['gender_F'] = data['gender_F'] * 1\n",
    "data['gender_M'] = data['gender_M'] * 1"
   ]
  },
  {
   "cell_type": "code",
   "execution_count": 9,
   "id": "d8e429bc-470f-475f-8584-22ad978ef085",
   "metadata": {
    "tags": []
   },
   "outputs": [],
   "source": [
    "numeric_data = data.select_dtypes(include='number')\n",
    "data = data.drop('activity_level', axis=1)"
   ]
  },
  {
   "cell_type": "code",
   "execution_count": 10,
   "id": "12876d9f-b66f-409a-a0e6-12cca4868328",
   "metadata": {
    "tags": []
   },
   "outputs": [
    {
     "data": {
      "text/plain": [
       "Index(['age', 'weight(kg)', 'height(m)', 'BMI', 'BMR', 'activity_level',\n",
       "       'calories_to_maintain_weight', 'gender_F', 'gender_M'],\n",
       "      dtype='object')"
      ]
     },
     "execution_count": 10,
     "metadata": {},
     "output_type": "execute_result"
    }
   ],
   "source": [
    "numeric_data.columns"
   ]
  },
  {
   "cell_type": "code",
   "execution_count": 24,
   "id": "9bff4ee8-6b55-4c08-a681-7fb770204e93",
   "metadata": {
    "tags": []
   },
   "outputs": [
    {
     "data": {
      "text/html": [
       "<div>\n",
       "<style scoped>\n",
       "    .dataframe tbody tr th:only-of-type {\n",
       "        vertical-align: middle;\n",
       "    }\n",
       "\n",
       "    .dataframe tbody tr th {\n",
       "        vertical-align: top;\n",
       "    }\n",
       "\n",
       "    .dataframe thead th {\n",
       "        text-align: right;\n",
       "    }\n",
       "</style>\n",
       "<table border=\"1\" class=\"dataframe\">\n",
       "  <thead>\n",
       "    <tr style=\"text-align: right;\">\n",
       "      <th></th>\n",
       "      <th>age</th>\n",
       "      <th>weight(kg)</th>\n",
       "      <th>height(m)</th>\n",
       "      <th>BMI</th>\n",
       "      <th>BMR</th>\n",
       "      <th>activity_level</th>\n",
       "      <th>calories_to_maintain_weight</th>\n",
       "      <th>gender_F</th>\n",
       "      <th>gender_M</th>\n",
       "    </tr>\n",
       "  </thead>\n",
       "  <tbody>\n",
       "    <tr>\n",
       "      <th>9332</th>\n",
       "      <td>44</td>\n",
       "      <td>93.988691</td>\n",
       "      <td>1.631272</td>\n",
       "      <td>35.320195</td>\n",
       "      <td>1870.081</td>\n",
       "      <td>20.0</td>\n",
       "      <td>2244.0972</td>\n",
       "      <td>0</td>\n",
       "      <td>1</td>\n",
       "    </tr>\n",
       "    <tr>\n",
       "      <th>5822</th>\n",
       "      <td>27</td>\n",
       "      <td>66.679507</td>\n",
       "      <td>1.630818</td>\n",
       "      <td>25.071575</td>\n",
       "      <td>1445.462</td>\n",
       "      <td>50.0</td>\n",
       "      <td>2168.1930</td>\n",
       "      <td>1</td>\n",
       "      <td>0</td>\n",
       "    </tr>\n",
       "    <tr>\n",
       "      <th>9861</th>\n",
       "      <td>55</td>\n",
       "      <td>96.405433</td>\n",
       "      <td>1.632867</td>\n",
       "      <td>36.157623</td>\n",
       "      <td>1829.188</td>\n",
       "      <td>20.0</td>\n",
       "      <td>2195.0256</td>\n",
       "      <td>0</td>\n",
       "      <td>1</td>\n",
       "    </tr>\n",
       "  </tbody>\n",
       "</table>\n",
       "</div>"
      ],
      "text/plain": [
       "      age  weight(kg)  height(m)        BMI       BMR  activity_level  \\\n",
       "9332   44   93.988691   1.631272  35.320195  1870.081            20.0   \n",
       "5822   27   66.679507   1.630818  25.071575  1445.462            50.0   \n",
       "9861   55   96.405433   1.632867  36.157623  1829.188            20.0   \n",
       "\n",
       "      calories_to_maintain_weight  gender_F  gender_M  \n",
       "9332                    2244.0972         0         1  \n",
       "5822                    2168.1930         1         0  \n",
       "9861                    2195.0256         0         1  "
      ]
     },
     "execution_count": 24,
     "metadata": {},
     "output_type": "execute_result"
    }
   ],
   "source": [
    "numeric_data.sample(3)"
   ]
  },
  {
   "cell_type": "code",
   "execution_count": 23,
   "id": "ee07cdb6-08a8-4164-8c10-efe2d36734b4",
   "metadata": {
    "tags": []
   },
   "outputs": [],
   "source": [
    "numeric_data.to_csv('numeric_data.csv', index=False)"
   ]
  },
  {
   "cell_type": "code",
   "execution_count": 11,
   "id": "ad4f7593-a65b-4404-80f6-72dd7930cdbf",
   "metadata": {
    "tags": []
   },
   "outputs": [],
   "source": [
    "X = numeric_data.drop(['calories_to_maintain_weight'], axis=1)  \n",
    "y = numeric_data['calories_to_maintain_weight']"
   ]
  },
  {
   "cell_type": "code",
   "execution_count": 12,
   "id": "c69fc5f5-4678-44f0-8aa9-732fd70c827b",
   "metadata": {
    "tags": []
   },
   "outputs": [],
   "source": [
    "X_train, X_test, y_train, y_test = train_test_split(X, y, test_size=0.2, random_state=42)"
   ]
  },
  {
   "cell_type": "code",
   "execution_count": 13,
   "id": "4bab1807-a3ca-4e86-b699-5b16e3ba4ef1",
   "metadata": {
    "tags": []
   },
   "outputs": [
    {
     "name": "stdout",
     "output_type": "stream",
     "text": [
      "100% of our data: 10726.\n",
      "80% for training data: 8580.\n",
      "20% for test data: 2146.\n"
     ]
    }
   ],
   "source": [
    "print(f'100% of our data: {len(data)}.')\n",
    "print(f'80% for training data: {len(X_train)}.')\n",
    "print(f'20% for test data: {len(X_test)}.')"
   ]
  },
  {
   "cell_type": "code",
   "execution_count": 14,
   "id": "35622483-4d0c-4d46-80b5-628fcbf486f4",
   "metadata": {
    "tags": []
   },
   "outputs": [
    {
     "data": {
      "text/html": [
       "<style>#sk-container-id-1 {color: black;}#sk-container-id-1 pre{padding: 0;}#sk-container-id-1 div.sk-toggleable {background-color: white;}#sk-container-id-1 label.sk-toggleable__label {cursor: pointer;display: block;width: 100%;margin-bottom: 0;padding: 0.3em;box-sizing: border-box;text-align: center;}#sk-container-id-1 label.sk-toggleable__label-arrow:before {content: \"▸\";float: left;margin-right: 0.25em;color: #696969;}#sk-container-id-1 label.sk-toggleable__label-arrow:hover:before {color: black;}#sk-container-id-1 div.sk-estimator:hover label.sk-toggleable__label-arrow:before {color: black;}#sk-container-id-1 div.sk-toggleable__content {max-height: 0;max-width: 0;overflow: hidden;text-align: left;background-color: #f0f8ff;}#sk-container-id-1 div.sk-toggleable__content pre {margin: 0.2em;color: black;border-radius: 0.25em;background-color: #f0f8ff;}#sk-container-id-1 input.sk-toggleable__control:checked~div.sk-toggleable__content {max-height: 200px;max-width: 100%;overflow: auto;}#sk-container-id-1 input.sk-toggleable__control:checked~label.sk-toggleable__label-arrow:before {content: \"▾\";}#sk-container-id-1 div.sk-estimator input.sk-toggleable__control:checked~label.sk-toggleable__label {background-color: #d4ebff;}#sk-container-id-1 div.sk-label input.sk-toggleable__control:checked~label.sk-toggleable__label {background-color: #d4ebff;}#sk-container-id-1 input.sk-hidden--visually {border: 0;clip: rect(1px 1px 1px 1px);clip: rect(1px, 1px, 1px, 1px);height: 1px;margin: -1px;overflow: hidden;padding: 0;position: absolute;width: 1px;}#sk-container-id-1 div.sk-estimator {font-family: monospace;background-color: #f0f8ff;border: 1px dotted black;border-radius: 0.25em;box-sizing: border-box;margin-bottom: 0.5em;}#sk-container-id-1 div.sk-estimator:hover {background-color: #d4ebff;}#sk-container-id-1 div.sk-parallel-item::after {content: \"\";width: 100%;border-bottom: 1px solid gray;flex-grow: 1;}#sk-container-id-1 div.sk-label:hover label.sk-toggleable__label {background-color: #d4ebff;}#sk-container-id-1 div.sk-serial::before {content: \"\";position: absolute;border-left: 1px solid gray;box-sizing: border-box;top: 0;bottom: 0;left: 50%;z-index: 0;}#sk-container-id-1 div.sk-serial {display: flex;flex-direction: column;align-items: center;background-color: white;padding-right: 0.2em;padding-left: 0.2em;position: relative;}#sk-container-id-1 div.sk-item {position: relative;z-index: 1;}#sk-container-id-1 div.sk-parallel {display: flex;align-items: stretch;justify-content: center;background-color: white;position: relative;}#sk-container-id-1 div.sk-item::before, #sk-container-id-1 div.sk-parallel-item::before {content: \"\";position: absolute;border-left: 1px solid gray;box-sizing: border-box;top: 0;bottom: 0;left: 50%;z-index: -1;}#sk-container-id-1 div.sk-parallel-item {display: flex;flex-direction: column;z-index: 1;position: relative;background-color: white;}#sk-container-id-1 div.sk-parallel-item:first-child::after {align-self: flex-end;width: 50%;}#sk-container-id-1 div.sk-parallel-item:last-child::after {align-self: flex-start;width: 50%;}#sk-container-id-1 div.sk-parallel-item:only-child::after {width: 0;}#sk-container-id-1 div.sk-dashed-wrapped {border: 1px dashed gray;margin: 0 0.4em 0.5em 0.4em;box-sizing: border-box;padding-bottom: 0.4em;background-color: white;}#sk-container-id-1 div.sk-label label {font-family: monospace;font-weight: bold;display: inline-block;line-height: 1.2em;}#sk-container-id-1 div.sk-label-container {text-align: center;}#sk-container-id-1 div.sk-container {/* jupyter's `normalize.less` sets `[hidden] { display: none; }` but bootstrap.min.css set `[hidden] { display: none !important; }` so we also need the `!important` here to be able to override the default hidden behavior on the sphinx rendered scikit-learn.org. See: https://github.com/scikit-learn/scikit-learn/issues/21755 */display: inline-block !important;position: relative;}#sk-container-id-1 div.sk-text-repr-fallback {display: none;}</style><div id=\"sk-container-id-1\" class=\"sk-top-container\"><div class=\"sk-text-repr-fallback\"><pre>LinearRegression()</pre><b>In a Jupyter environment, please rerun this cell to show the HTML representation or trust the notebook. <br />On GitHub, the HTML representation is unable to render, please try loading this page with nbviewer.org.</b></div><div class=\"sk-container\" hidden><div class=\"sk-item\"><div class=\"sk-estimator sk-toggleable\"><input class=\"sk-toggleable__control sk-hidden--visually\" id=\"sk-estimator-id-1\" type=\"checkbox\" checked><label for=\"sk-estimator-id-1\" class=\"sk-toggleable__label sk-toggleable__label-arrow\">LinearRegression</label><div class=\"sk-toggleable__content\"><pre>LinearRegression()</pre></div></div></div></div></div>"
      ],
      "text/plain": [
       "LinearRegression()"
      ]
     },
     "execution_count": 14,
     "metadata": {},
     "output_type": "execute_result"
    }
   ],
   "source": [
    "model = LinearRegression()\n",
    "model.fit(X_train, y_train)"
   ]
  },
  {
   "cell_type": "code",
   "execution_count": 15,
   "id": "6ef07cf1-5b7c-4e8a-8607-a28aae309986",
   "metadata": {
    "tags": []
   },
   "outputs": [],
   "source": [
    "predictions = model.predict(X_test)"
   ]
  },
  {
   "cell_type": "code",
   "execution_count": 16,
   "id": "9d2248f6-f2f7-49a2-a3c3-b91f0e5cbc50",
   "metadata": {
    "tags": []
   },
   "outputs": [],
   "source": [
    "r2_3 = r2_score(y_test, predictions)\n",
    "RMSE_3 = mean_squared_error(y_test, predictions, squared=False)\n",
    "MSE_3 = mean_squared_error(y_test, predictions)\n",
    "MAE_3 = mean_absolute_error(y_test, predictions)"
   ]
  },
  {
   "cell_type": "code",
   "execution_count": 17,
   "id": "8675a08d-1c7a-43d1-8f30-b44689a47ce2",
   "metadata": {
    "tags": []
   },
   "outputs": [
    {
     "name": "stdout",
     "output_type": "stream",
     "text": [
      "R2 =  0.987\n",
      "RMSE =  45.3786\n",
      "The value of the metric MSE is  2059.2173\n",
      "MAE =  32.4556\n"
     ]
    }
   ],
   "source": [
    "print(\"R2 = \", round(r2_3, 4))\n",
    "print(\"RMSE = \", round(RMSE_3, 4))\n",
    "print(\"The value of the metric MSE is \", round(MSE_3, 4))\n",
    "print(\"MAE = \", round(MAE_3, 4))"
   ]
  },
  {
   "cell_type": "code",
   "execution_count": 18,
   "id": "b16f718f-b7e9-4b01-b116-8de49c886dd5",
   "metadata": {
    "tags": []
   },
   "outputs": [],
   "source": [
    "def calculate_bmi(weight_kg, height_m):\n",
    "    return weight_kg / (height_m ** 2)"
   ]
  },
  {
   "cell_type": "code",
   "execution_count": 19,
   "id": "485163d4-532e-4e68-b876-0a29070a664d",
   "metadata": {
    "tags": []
   },
   "outputs": [
    {
     "data": {
      "text/html": [
       "<div>\n",
       "<style scoped>\n",
       "    .dataframe tbody tr th:only-of-type {\n",
       "        vertical-align: middle;\n",
       "    }\n",
       "\n",
       "    .dataframe tbody tr th {\n",
       "        vertical-align: top;\n",
       "    }\n",
       "\n",
       "    .dataframe thead th {\n",
       "        text-align: right;\n",
       "    }\n",
       "</style>\n",
       "<table border=\"1\" class=\"dataframe\">\n",
       "  <thead>\n",
       "    <tr style=\"text-align: right;\">\n",
       "      <th></th>\n",
       "      <th>age</th>\n",
       "      <th>weight(kg)</th>\n",
       "      <th>height(m)</th>\n",
       "      <th>BMI</th>\n",
       "      <th>BMR</th>\n",
       "      <th>calories_to_maintain_weight</th>\n",
       "      <th>gender_F</th>\n",
       "      <th>gender_M</th>\n",
       "    </tr>\n",
       "  </thead>\n",
       "  <tbody>\n",
       "    <tr>\n",
       "      <th>6936</th>\n",
       "      <td>31</td>\n",
       "      <td>73.853549</td>\n",
       "      <td>1.632041</td>\n",
       "      <td>27.727402</td>\n",
       "      <td>1683.014</td>\n",
       "      <td>2187.9182</td>\n",
       "      <td>0</td>\n",
       "      <td>1</td>\n",
       "    </tr>\n",
       "    <tr>\n",
       "      <th>9782</th>\n",
       "      <td>83</td>\n",
       "      <td>97.253413</td>\n",
       "      <td>1.632700</td>\n",
       "      <td>36.483147</td>\n",
       "      <td>1650.322</td>\n",
       "      <td>2145.4186</td>\n",
       "      <td>0</td>\n",
       "      <td>1</td>\n",
       "    </tr>\n",
       "    <tr>\n",
       "      <th>7356</th>\n",
       "      <td>31</td>\n",
       "      <td>75.211026</td>\n",
       "      <td>1.631223</td>\n",
       "      <td>28.265384</td>\n",
       "      <td>1701.203</td>\n",
       "      <td>2211.5639</td>\n",
       "      <td>0</td>\n",
       "      <td>1</td>\n",
       "    </tr>\n",
       "    <tr>\n",
       "      <th>10457</th>\n",
       "      <td>62</td>\n",
       "      <td>96.867880</td>\n",
       "      <td>1.631743</td>\n",
       "      <td>36.381157</td>\n",
       "      <td>1570.928</td>\n",
       "      <td>2042.2064</td>\n",
       "      <td>1</td>\n",
       "      <td>0</td>\n",
       "    </tr>\n",
       "    <tr>\n",
       "      <th>5300</th>\n",
       "      <td>24</td>\n",
       "      <td>60.463319</td>\n",
       "      <td>1.631533</td>\n",
       "      <td>22.714335</td>\n",
       "      <td>1546.914</td>\n",
       "      <td>2629.7538</td>\n",
       "      <td>0</td>\n",
       "      <td>1</td>\n",
       "    </tr>\n",
       "  </tbody>\n",
       "</table>\n",
       "</div>"
      ],
      "text/plain": [
       "       age  weight(kg)  height(m)        BMI       BMR  \\\n",
       "6936    31   73.853549   1.632041  27.727402  1683.014   \n",
       "9782    83   97.253413   1.632700  36.483147  1650.322   \n",
       "7356    31   75.211026   1.631223  28.265384  1701.203   \n",
       "10457   62   96.867880   1.631743  36.381157  1570.928   \n",
       "5300    24   60.463319   1.631533  22.714335  1546.914   \n",
       "\n",
       "       calories_to_maintain_weight  gender_F  gender_M  \n",
       "6936                     2187.9182         0         1  \n",
       "9782                     2145.4186         0         1  \n",
       "7356                     2211.5639         0         1  \n",
       "10457                    2042.2064         1         0  \n",
       "5300                     2629.7538         0         1  "
      ]
     },
     "execution_count": 19,
     "metadata": {},
     "output_type": "execute_result"
    }
   ],
   "source": [
    "data.sample(5)"
   ]
  },
  {
   "cell_type": "code",
   "execution_count": 20,
   "id": "6393085b-e77a-4446-937a-d3b2ae5e1f11",
   "metadata": {
    "tags": []
   },
   "outputs": [],
   "source": [
    "def calculate_bmr(age, weight_kg, height_m, gender_F, gender_M):\n",
    "    if gender_F == 1:  # Female\n",
    "        return 655 + (9.6 * weight_kg) + (1.8 * height_m * 100) - (4.7 * age)\n",
    "    elif gender_M == 1:  # Male\n",
    "        return 66 + (13.7 * weight_kg) + (5 * height_m * 100) - (6.8 * age)\n",
    "    else:\n",
    "        raise ValueError(\"Invalid gender values\")"
   ]
  },
  {
   "cell_type": "code",
   "execution_count": 21,
   "id": "690272f7-5527-40a9-a584-552fe0e393d1",
   "metadata": {
    "tags": []
   },
   "outputs": [],
   "source": [
    "def calculate_daily_calories_direct(user_inputs, initial_weight, desired_weight, time_interval, modelLR):\n",
    "    # Extract user inputs\n",
    "    age = user_inputs['age']\n",
    "    weight_kg = user_inputs['weight']\n",
    "    height_m = user_inputs['height']\n",
    "    gender_F = user_inputs['gender_F']\n",
    "    gender_M = user_inputs['gender_M']\n",
    "    activity_level = user_inputs['activity_level']\n",
    "\n",
    "    # Calculate BMI and BMR using the provided formulas\n",
    "    BMI = calculate_bmi(weight_kg, height_m)\n",
    "    BMR = calculate_bmr(age, weight_kg, height_m, gender_F, gender_M)\n",
    "\n",
    "    # Calculate total weight change\n",
    "    weight_change = desired_weight - initial_weight\n",
    "    calories_per_kg = 7700\n",
    "\n",
    "    # Estimated calories per kg change (adjust as needed)\n",
    "    daily_weight_change = weight_change / time_interval\n",
    "\n",
    "    # Calculate caloric difference based on weight change goal\n",
    "    caloric_difference = daily_weight_change * calories_per_kg\n",
    "\n",
    "    # Create input array for model prediction\n",
    "    input_array = np.array([[age, weight_kg, height_m, BMI, BMR, activity_level, gender_F, gender_M]])\n",
    "\n",
    "    # Use the trained model to predict daily maintenance calories\n",
    "    model_predicted_calories = modelLR.predict(input_array)\n",
    "\n",
    "    # Sum the model predicted calories and caloric difference\n",
    "    daily_cal = model_predicted_calories + caloric_difference\n",
    "\n",
    "    return daily_cal\n"
   ]
  },
  {
   "cell_type": "code",
   "execution_count": 22,
   "id": "ee5fe47b-f000-4175-93c2-2763ac3dfe6f",
   "metadata": {
    "tags": []
   },
   "outputs": [
    {
     "name": "stdin",
     "output_type": "stream",
     "text": [
      "Enter your age:  28\n",
      "Enter your weight in kg:  76\n",
      "Enter your height in meters:  1.74\n",
      "Are you a woman? (1 for Yes, 0 for No):  0\n",
      "\n",
      "Enter your activity level between 0 and 1:\n",
      "0   - 0 minutes of exercise per day\n",
      "10  - 1 hour of exercise per day\n",
      "20  - 2 hours of exercise per day\n",
      "30  - 3 hours of exercise per day\n",
      "40  - 4 hours of exercise per day\n",
      "50  - 5 hours of exercise per day\n",
      "60  - 6 hours of exercise per day\n",
      "70  - 7 hours of exercise per day\n",
      "80  - 8 hours of exercise per day\n",
      "90  - 9 hours of exercise per day\n",
      "100 - 10 hours of exercise per day\n",
      " 80\n",
      "Enter your desired weight in kg:  80\n",
      "Enter the time interval in days to reach your desired weight:  90\n"
     ]
    },
    {
     "name": "stdout",
     "output_type": "stream",
     "text": [
      "\n",
      "Estimated daily calories: 3381.5125986847493\n"
     ]
    },
    {
     "name": "stderr",
     "output_type": "stream",
     "text": [
      "C:\\Users\\Carlos\\anaconda3\\Lib\\site-packages\\sklearn\\base.py:464: UserWarning: X does not have valid feature names, but LinearRegression was fitted with feature names\n",
      "  warnings.warn(\n"
     ]
    }
   ],
   "source": [
    "user_inputs = {}\n",
    "user_inputs['age'] = float(input(\"Enter your age: \"))\n",
    "user_inputs['weight'] = float(input(\"Enter your weight in kg: \"))\n",
    "user_inputs['height'] = float(input(\"Enter your height in meters: \"))\n",
    "user_inputs['gender_F'] = int(input(\"Are you a woman? (1 for Yes, 0 for No): \"))\n",
    "\n",
    "# Calculate the opposite value for gender_M\n",
    "user_inputs['gender_M'] = 1 if user_inputs['gender_F'] == 0 else 0\n",
    "\n",
    "user_inputs['activity_level'] = float(input(\"\"\"\n",
    "Enter your activity level between 0 and 1:\n",
    "0   - 0 minutes of exercise per day\n",
    "10  - 1 hour of exercise per day\n",
    "20  - 2 hours of exercise per day\n",
    "30  - 3 hours of exercise per day\n",
    "40  - 4 hours of exercise per day\n",
    "50  - 5 hours of exercise per day\n",
    "60  - 6 hours of exercise per day\n",
    "70  - 7 hours of exercise per day\n",
    "80  - 8 hours of exercise per day\n",
    "90  - 9 hours of exercise per day\n",
    "100 - 10 hours of exercise per day\n",
    "\"\"\"))\n",
    "\n",
    "initial_weight = user_inputs['weight']\n",
    "desired_weight = float(input(\"Enter your desired weight in kg: \"))\n",
    "time_interval = float(input(\"Enter the time interval in days to reach your desired weight: \"))\n",
    "\n",
    "# Call the function to calculate daily calories\n",
    "result = calculate_daily_calories_direct(user_inputs, initial_weight, desired_weight, time_interval, model)\n",
    "print(f\"\\nEstimated daily calories: {result[0]}\")"
   ]
  },
  {
   "cell_type": "code",
   "execution_count": null,
   "id": "8f2b8b90-44c9-4088-95c2-5c8e124a6798",
   "metadata": {
    "tags": []
   },
   "outputs": [],
   "source": []
  },
  {
   "cell_type": "code",
   "execution_count": null,
   "id": "bba41569-9028-462b-a640-e59f0da3fdb9",
   "metadata": {},
   "outputs": [],
   "source": []
  }
 ],
 "metadata": {
  "kernelspec": {
   "display_name": "Python 3 (ipykernel)",
   "language": "python",
   "name": "python3"
  },
  "language_info": {
   "codemirror_mode": {
    "name": "ipython",
    "version": 3
   },
   "file_extension": ".py",
   "mimetype": "text/x-python",
   "name": "python",
   "nbconvert_exporter": "python",
   "pygments_lexer": "ipython3",
   "version": "3.11.5"
  }
 },
 "nbformat": 4,
 "nbformat_minor": 5
}
