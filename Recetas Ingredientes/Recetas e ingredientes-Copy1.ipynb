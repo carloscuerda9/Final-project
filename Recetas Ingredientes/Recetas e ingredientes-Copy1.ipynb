{
 "cells": [
  {
   "cell_type": "code",
   "execution_count": 1,
   "id": "6c32a6e5-e4b0-4f3c-9f46-a54fd67b320b",
   "metadata": {
    "tags": []
   },
   "outputs": [],
   "source": [
    "import numpy as np # operaciones matemáticas (numerical python)\n",
    "import pandas as pd # manipulación de datos\n",
    "import warnings # nobody likes warnings\n",
    "\n",
    "\n",
    "from surprise import accuracy"
   ]
  },
  {
   "cell_type": "code",
   "execution_count": 2,
   "id": "3cc11478-6495-495c-aa75-6743fd4f41d3",
   "metadata": {
    "tags": []
   },
   "outputs": [],
   "source": [
    "data5 = pd.read_csv('RAW_interactions.csv')"
   ]
  },
  {
   "cell_type": "code",
   "execution_count": 3,
   "id": "9378f5ae-4497-4254-98cb-e170cb8221bf",
   "metadata": {
    "tags": []
   },
   "outputs": [],
   "source": [
    "data6= pd.read_csv('RAW_recipes.csv')"
   ]
  },
  {
   "cell_type": "markdown",
   "id": "1cfb605d-b349-4146-86b8-57e603ce5b84",
   "metadata": {
    "tags": []
   },
   "source": [
    "U = user id\n",
    "i = recipe id"
   ]
  },
  {
   "cell_type": "code",
   "execution_count": 4,
   "id": "9572d331-23af-41b6-a0d3-06fb389a6a90",
   "metadata": {
    "tags": []
   },
   "outputs": [
    {
     "data": {
      "text/plain": [
       "(1132367, 5)"
      ]
     },
     "execution_count": 4,
     "metadata": {},
     "output_type": "execute_result"
    }
   ],
   "source": [
    "data5.shape"
   ]
  },
  {
   "cell_type": "code",
   "execution_count": 5,
   "id": "067197a5-8b24-409d-86c4-1e3008d99dc9",
   "metadata": {
    "tags": []
   },
   "outputs": [
    {
     "data": {
      "text/plain": [
       "Index(['user_id', 'recipe_id', 'date', 'rating', 'review'], dtype='object')"
      ]
     },
     "execution_count": 5,
     "metadata": {},
     "output_type": "execute_result"
    }
   ],
   "source": [
    "data5.columns\n"
   ]
  },
  {
   "cell_type": "code",
   "execution_count": 6,
   "id": "4a768289-58ef-42e7-8773-09cf31ae30d2",
   "metadata": {
    "tags": []
   },
   "outputs": [
    {
     "data": {
      "text/html": [
       "<div>\n",
       "<style scoped>\n",
       "    .dataframe tbody tr th:only-of-type {\n",
       "        vertical-align: middle;\n",
       "    }\n",
       "\n",
       "    .dataframe tbody tr th {\n",
       "        vertical-align: top;\n",
       "    }\n",
       "\n",
       "    .dataframe thead th {\n",
       "        text-align: right;\n",
       "    }\n",
       "</style>\n",
       "<table border=\"1\" class=\"dataframe\">\n",
       "  <thead>\n",
       "    <tr style=\"text-align: right;\">\n",
       "      <th></th>\n",
       "      <th>user_id</th>\n",
       "      <th>recipe_id</th>\n",
       "      <th>date</th>\n",
       "      <th>rating</th>\n",
       "      <th>review</th>\n",
       "    </tr>\n",
       "  </thead>\n",
       "  <tbody>\n",
       "    <tr>\n",
       "      <th>0</th>\n",
       "      <td>38094</td>\n",
       "      <td>40893</td>\n",
       "      <td>2003-02-17</td>\n",
       "      <td>4</td>\n",
       "      <td>Great with a salad. Cooked on top of stove for...</td>\n",
       "    </tr>\n",
       "    <tr>\n",
       "      <th>1</th>\n",
       "      <td>1293707</td>\n",
       "      <td>40893</td>\n",
       "      <td>2011-12-21</td>\n",
       "      <td>5</td>\n",
       "      <td>So simple, so delicious! Great for chilly fall...</td>\n",
       "    </tr>\n",
       "    <tr>\n",
       "      <th>2</th>\n",
       "      <td>8937</td>\n",
       "      <td>44394</td>\n",
       "      <td>2002-12-01</td>\n",
       "      <td>4</td>\n",
       "      <td>This worked very well and is EASY.  I used not...</td>\n",
       "    </tr>\n",
       "    <tr>\n",
       "      <th>3</th>\n",
       "      <td>126440</td>\n",
       "      <td>85009</td>\n",
       "      <td>2010-02-27</td>\n",
       "      <td>5</td>\n",
       "      <td>I made the Mexican topping and took it to bunk...</td>\n",
       "    </tr>\n",
       "    <tr>\n",
       "      <th>4</th>\n",
       "      <td>57222</td>\n",
       "      <td>85009</td>\n",
       "      <td>2011-10-01</td>\n",
       "      <td>5</td>\n",
       "      <td>Made the cheddar bacon topping, adding a sprin...</td>\n",
       "    </tr>\n",
       "  </tbody>\n",
       "</table>\n",
       "</div>"
      ],
      "text/plain": [
       "   user_id  recipe_id        date  rating  \\\n",
       "0    38094      40893  2003-02-17       4   \n",
       "1  1293707      40893  2011-12-21       5   \n",
       "2     8937      44394  2002-12-01       4   \n",
       "3   126440      85009  2010-02-27       5   \n",
       "4    57222      85009  2011-10-01       5   \n",
       "\n",
       "                                              review  \n",
       "0  Great with a salad. Cooked on top of stove for...  \n",
       "1  So simple, so delicious! Great for chilly fall...  \n",
       "2  This worked very well and is EASY.  I used not...  \n",
       "3  I made the Mexican topping and took it to bunk...  \n",
       "4  Made the cheddar bacon topping, adding a sprin...  "
      ]
     },
     "execution_count": 6,
     "metadata": {},
     "output_type": "execute_result"
    }
   ],
   "source": [
    "data5.head(5)"
   ]
  },
  {
   "cell_type": "code",
   "execution_count": 7,
   "id": "e723258c-a13f-4792-a0bf-85acf9b7884e",
   "metadata": {
    "tags": []
   },
   "outputs": [
    {
     "data": {
      "text/plain": [
       "(231637, 12)"
      ]
     },
     "execution_count": 7,
     "metadata": {},
     "output_type": "execute_result"
    }
   ],
   "source": [
    "data6.shape"
   ]
  },
  {
   "cell_type": "code",
   "execution_count": 8,
   "id": "f120d6eb-1b97-454e-820d-250b4a218c35",
   "metadata": {
    "tags": []
   },
   "outputs": [
    {
     "data": {
      "text/html": [
       "<div>\n",
       "<style scoped>\n",
       "    .dataframe tbody tr th:only-of-type {\n",
       "        vertical-align: middle;\n",
       "    }\n",
       "\n",
       "    .dataframe tbody tr th {\n",
       "        vertical-align: top;\n",
       "    }\n",
       "\n",
       "    .dataframe thead th {\n",
       "        text-align: right;\n",
       "    }\n",
       "</style>\n",
       "<table border=\"1\" class=\"dataframe\">\n",
       "  <thead>\n",
       "    <tr style=\"text-align: right;\">\n",
       "      <th></th>\n",
       "      <th>name</th>\n",
       "      <th>id</th>\n",
       "      <th>minutes</th>\n",
       "      <th>contributor_id</th>\n",
       "      <th>submitted</th>\n",
       "      <th>tags</th>\n",
       "      <th>nutrition</th>\n",
       "      <th>n_steps</th>\n",
       "      <th>steps</th>\n",
       "      <th>description</th>\n",
       "      <th>ingredients</th>\n",
       "      <th>n_ingredients</th>\n",
       "    </tr>\n",
       "  </thead>\n",
       "  <tbody>\n",
       "    <tr>\n",
       "      <th>0</th>\n",
       "      <td>arriba   baked winter squash mexican style</td>\n",
       "      <td>137739</td>\n",
       "      <td>55</td>\n",
       "      <td>47892</td>\n",
       "      <td>2005-09-16</td>\n",
       "      <td>['60-minutes-or-less', 'time-to-make', 'course...</td>\n",
       "      <td>[51.5, 0.0, 13.0, 0.0, 2.0, 0.0, 4.0]</td>\n",
       "      <td>11</td>\n",
       "      <td>['make a choice and proceed with recipe', 'dep...</td>\n",
       "      <td>autumn is my favorite time of year to cook! th...</td>\n",
       "      <td>['winter squash', 'mexican seasoning', 'mixed ...</td>\n",
       "      <td>7</td>\n",
       "    </tr>\n",
       "    <tr>\n",
       "      <th>1</th>\n",
       "      <td>a bit different  breakfast pizza</td>\n",
       "      <td>31490</td>\n",
       "      <td>30</td>\n",
       "      <td>26278</td>\n",
       "      <td>2002-06-17</td>\n",
       "      <td>['30-minutes-or-less', 'time-to-make', 'course...</td>\n",
       "      <td>[173.4, 18.0, 0.0, 17.0, 22.0, 35.0, 1.0]</td>\n",
       "      <td>9</td>\n",
       "      <td>['preheat oven to 425 degrees f', 'press dough...</td>\n",
       "      <td>this recipe calls for the crust to be prebaked...</td>\n",
       "      <td>['prepared pizza crust', 'sausage patty', 'egg...</td>\n",
       "      <td>6</td>\n",
       "    </tr>\n",
       "    <tr>\n",
       "      <th>2</th>\n",
       "      <td>all in the kitchen  chili</td>\n",
       "      <td>112140</td>\n",
       "      <td>130</td>\n",
       "      <td>196586</td>\n",
       "      <td>2005-02-25</td>\n",
       "      <td>['time-to-make', 'course', 'preparation', 'mai...</td>\n",
       "      <td>[269.8, 22.0, 32.0, 48.0, 39.0, 27.0, 5.0]</td>\n",
       "      <td>6</td>\n",
       "      <td>['brown ground beef in large pot', 'add choppe...</td>\n",
       "      <td>this modified version of 'mom's' chili was a h...</td>\n",
       "      <td>['ground beef', 'yellow onions', 'diced tomato...</td>\n",
       "      <td>13</td>\n",
       "    </tr>\n",
       "    <tr>\n",
       "      <th>3</th>\n",
       "      <td>alouette  potatoes</td>\n",
       "      <td>59389</td>\n",
       "      <td>45</td>\n",
       "      <td>68585</td>\n",
       "      <td>2003-04-14</td>\n",
       "      <td>['60-minutes-or-less', 'time-to-make', 'course...</td>\n",
       "      <td>[368.1, 17.0, 10.0, 2.0, 14.0, 8.0, 20.0]</td>\n",
       "      <td>11</td>\n",
       "      <td>['place potatoes in a large pot of lightly sal...</td>\n",
       "      <td>this is a super easy, great tasting, make ahea...</td>\n",
       "      <td>['spreadable cheese with garlic and herbs', 'n...</td>\n",
       "      <td>11</td>\n",
       "    </tr>\n",
       "    <tr>\n",
       "      <th>4</th>\n",
       "      <td>amish  tomato ketchup  for canning</td>\n",
       "      <td>44061</td>\n",
       "      <td>190</td>\n",
       "      <td>41706</td>\n",
       "      <td>2002-10-25</td>\n",
       "      <td>['weeknight', 'time-to-make', 'course', 'main-...</td>\n",
       "      <td>[352.9, 1.0, 337.0, 23.0, 3.0, 0.0, 28.0]</td>\n",
       "      <td>5</td>\n",
       "      <td>['mix all ingredients&amp; boil for 2 1 / 2 hours ...</td>\n",
       "      <td>my dh's amish mother raised him on this recipe...</td>\n",
       "      <td>['tomato juice', 'apple cider vinegar', 'sugar...</td>\n",
       "      <td>8</td>\n",
       "    </tr>\n",
       "  </tbody>\n",
       "</table>\n",
       "</div>"
      ],
      "text/plain": [
       "                                         name      id  minutes  \\\n",
       "0  arriba   baked winter squash mexican style  137739       55   \n",
       "1            a bit different  breakfast pizza   31490       30   \n",
       "2                   all in the kitchen  chili  112140      130   \n",
       "3                          alouette  potatoes   59389       45   \n",
       "4          amish  tomato ketchup  for canning   44061      190   \n",
       "\n",
       "   contributor_id   submitted  \\\n",
       "0           47892  2005-09-16   \n",
       "1           26278  2002-06-17   \n",
       "2          196586  2005-02-25   \n",
       "3           68585  2003-04-14   \n",
       "4           41706  2002-10-25   \n",
       "\n",
       "                                                tags  \\\n",
       "0  ['60-minutes-or-less', 'time-to-make', 'course...   \n",
       "1  ['30-minutes-or-less', 'time-to-make', 'course...   \n",
       "2  ['time-to-make', 'course', 'preparation', 'mai...   \n",
       "3  ['60-minutes-or-less', 'time-to-make', 'course...   \n",
       "4  ['weeknight', 'time-to-make', 'course', 'main-...   \n",
       "\n",
       "                                    nutrition  n_steps  \\\n",
       "0       [51.5, 0.0, 13.0, 0.0, 2.0, 0.0, 4.0]       11   \n",
       "1   [173.4, 18.0, 0.0, 17.0, 22.0, 35.0, 1.0]        9   \n",
       "2  [269.8, 22.0, 32.0, 48.0, 39.0, 27.0, 5.0]        6   \n",
       "3   [368.1, 17.0, 10.0, 2.0, 14.0, 8.0, 20.0]       11   \n",
       "4   [352.9, 1.0, 337.0, 23.0, 3.0, 0.0, 28.0]        5   \n",
       "\n",
       "                                               steps  \\\n",
       "0  ['make a choice and proceed with recipe', 'dep...   \n",
       "1  ['preheat oven to 425 degrees f', 'press dough...   \n",
       "2  ['brown ground beef in large pot', 'add choppe...   \n",
       "3  ['place potatoes in a large pot of lightly sal...   \n",
       "4  ['mix all ingredients& boil for 2 1 / 2 hours ...   \n",
       "\n",
       "                                         description  \\\n",
       "0  autumn is my favorite time of year to cook! th...   \n",
       "1  this recipe calls for the crust to be prebaked...   \n",
       "2  this modified version of 'mom's' chili was a h...   \n",
       "3  this is a super easy, great tasting, make ahea...   \n",
       "4  my dh's amish mother raised him on this recipe...   \n",
       "\n",
       "                                         ingredients  n_ingredients  \n",
       "0  ['winter squash', 'mexican seasoning', 'mixed ...              7  \n",
       "1  ['prepared pizza crust', 'sausage patty', 'egg...              6  \n",
       "2  ['ground beef', 'yellow onions', 'diced tomato...             13  \n",
       "3  ['spreadable cheese with garlic and herbs', 'n...             11  \n",
       "4  ['tomato juice', 'apple cider vinegar', 'sugar...              8  "
      ]
     },
     "execution_count": 8,
     "metadata": {},
     "output_type": "execute_result"
    }
   ],
   "source": [
    "data6.head(5)"
   ]
  },
  {
   "cell_type": "code",
   "execution_count": 9,
   "id": "36e3c23b-4e07-450a-a58c-9f0b0cd8bfa7",
   "metadata": {
    "tags": []
   },
   "outputs": [
    {
     "data": {
      "text/plain": [
       "array([\"['winter squash', 'mexican seasoning', 'mixed spice', 'honey', 'butter', 'olive oil', 'salt']\",\n",
       "       \"['prepared pizza crust', 'sausage patty', 'eggs', 'milk', 'salt and pepper', 'cheese']\",\n",
       "       \"['ground beef', 'yellow onions', 'diced tomatoes', 'tomato paste', 'tomato soup', 'rotel tomatoes', 'kidney beans', 'water', 'chili powder', 'ground cumin', 'salt', 'lettuce', 'cheddar cheese']\",\n",
       "       ...,\n",
       "       \"['hard-cooked eggs', 'mayonnaise', 'dijon mustard', 'salt-free cajun seasoning', 'tabasco sauce', 'salt', 'black pepper', 'fresh italian parsley']\",\n",
       "       \"['butter', 'eagle brand condensed milk', 'light brown sugar', 'sour cream', 'egg', 'extract', 'nutmeg', 'self-rising flour', 'bisquick', 'wooden popsicle sticks']\",\n",
       "       \"['granulated sugar', 'shortening', 'eggs', 'flour', 'cream of tartar', 'baking soda', 'vanilla extract']\"],\n",
       "      dtype=object)"
      ]
     },
     "execution_count": 9,
     "metadata": {},
     "output_type": "execute_result"
    }
   ],
   "source": [
    "ingredientes_unicos = data6['ingredients'].unique()\n",
    "ingredientes_unicos"
   ]
  },
  {
   "cell_type": "code",
   "execution_count": 10,
   "id": "83b1e54b-6041-472b-ab63-80fdda13b158",
   "metadata": {
    "tags": []
   },
   "outputs": [
    {
     "data": {
      "text/plain": [
       "array(['[51.5, 0.0, 13.0, 0.0, 2.0, 0.0, 4.0]',\n",
       "       '[173.4, 18.0, 0.0, 17.0, 22.0, 35.0, 1.0]',\n",
       "       '[269.8, 22.0, 32.0, 48.0, 39.0, 27.0, 5.0]', ...,\n",
       "       '[59.2, 6.0, 2.0, 3.0, 6.0, 5.0, 0.0]',\n",
       "       '[188.0, 11.0, 57.0, 11.0, 7.0, 21.0, 9.0]',\n",
       "       '[174.9, 14.0, 33.0, 4.0, 4.0, 11.0, 6.0]'], dtype=object)"
      ]
     },
     "execution_count": 10,
     "metadata": {},
     "output_type": "execute_result"
    }
   ],
   "source": [
    "nutrientes_unicos = data6['nutrition'].unique()\n",
    "nutrientes_unicos"
   ]
  },
  {
   "cell_type": "code",
   "execution_count": 11,
   "id": "fadbfb15-291f-47ed-9b89-7159b38de065",
   "metadata": {
    "tags": []
   },
   "outputs": [],
   "source": [
    "ingredientes_unicos = data6['ingredients'].str.strip(\"[]\").str.replace(\"'\", \"\").str.split(\", \", expand=True).stack().unique()\n",
    "\n",
    "# Crear un nuevo DataFrame con los ingredientes únicos\n",
    "tabla_ingredientes = pd.DataFrame({'ingredientes': ingredientes_unicos})"
   ]
  },
  {
   "cell_type": "code",
   "execution_count": 12,
   "id": "7556b070-0073-499e-9886-ef3129302cbc",
   "metadata": {
    "tags": []
   },
   "outputs": [
    {
     "data": {
      "text/html": [
       "<div>\n",
       "<style scoped>\n",
       "    .dataframe tbody tr th:only-of-type {\n",
       "        vertical-align: middle;\n",
       "    }\n",
       "\n",
       "    .dataframe tbody tr th {\n",
       "        vertical-align: top;\n",
       "    }\n",
       "\n",
       "    .dataframe thead th {\n",
       "        text-align: right;\n",
       "    }\n",
       "</style>\n",
       "<table border=\"1\" class=\"dataframe\">\n",
       "  <thead>\n",
       "    <tr style=\"text-align: right;\">\n",
       "      <th></th>\n",
       "      <th>ingredientes</th>\n",
       "    </tr>\n",
       "  </thead>\n",
       "  <tbody>\n",
       "    <tr>\n",
       "      <th>11115</th>\n",
       "      <td>green pepper rings</td>\n",
       "    </tr>\n",
       "    <tr>\n",
       "      <th>8840</th>\n",
       "      <td>garlic bagel chips</td>\n",
       "    </tr>\n",
       "    <tr>\n",
       "      <th>177</th>\n",
       "      <td>margarine</td>\n",
       "    </tr>\n",
       "    <tr>\n",
       "      <th>11610</th>\n",
       "      <td>honey-nougat chocolate bar</td>\n",
       "    </tr>\n",
       "    <tr>\n",
       "      <th>296</th>\n",
       "      <td>beef steaks</td>\n",
       "    </tr>\n",
       "    <tr>\n",
       "      <th>10899</th>\n",
       "      <td>pan drippings from turkey</td>\n",
       "    </tr>\n",
       "    <tr>\n",
       "      <th>2849</th>\n",
       "      <td>cheez-it crackers</td>\n",
       "    </tr>\n",
       "    <tr>\n",
       "      <th>1282</th>\n",
       "      <td>strawberry jam</td>\n",
       "    </tr>\n",
       "    <tr>\n",
       "      <th>14105</th>\n",
       "      <td>canned salt-reduced spaghetti</td>\n",
       "    </tr>\n",
       "    <tr>\n",
       "      <th>14510</th>\n",
       "      <td>galanga powder</td>\n",
       "    </tr>\n",
       "    <tr>\n",
       "      <th>2286</th>\n",
       "      <td>mrs. dash seasoning mix</td>\n",
       "    </tr>\n",
       "    <tr>\n",
       "      <th>14709</th>\n",
       "      <td>petroleum jelly</td>\n",
       "    </tr>\n",
       "    <tr>\n",
       "      <th>4741</th>\n",
       "      <td>sage sausage</td>\n",
       "    </tr>\n",
       "    <tr>\n",
       "      <th>143</th>\n",
       "      <td>boneless skinless chicken breast halves</td>\n",
       "    </tr>\n",
       "    <tr>\n",
       "      <th>7617</th>\n",
       "      <td>crisco original no-stick cooking spray</td>\n",
       "    </tr>\n",
       "    <tr>\n",
       "      <th>6092</th>\n",
       "      <td>\"emerils original essence\"</td>\n",
       "    </tr>\n",
       "    <tr>\n",
       "      <th>4394</th>\n",
       "      <td>corn oil margarine</td>\n",
       "    </tr>\n",
       "    <tr>\n",
       "      <th>5937</th>\n",
       "      <td>large marshmallows</td>\n",
       "    </tr>\n",
       "    <tr>\n",
       "      <th>13875</th>\n",
       "      <td>belgian chocolate</td>\n",
       "    </tr>\n",
       "    <tr>\n",
       "      <th>14306</th>\n",
       "      <td>tri-color radiatore pasta</td>\n",
       "    </tr>\n",
       "    <tr>\n",
       "      <th>892</th>\n",
       "      <td>reduced-calorie mayonnaise</td>\n",
       "    </tr>\n",
       "    <tr>\n",
       "      <th>5014</th>\n",
       "      <td>mild chili pepper</td>\n",
       "    </tr>\n",
       "    <tr>\n",
       "      <th>4281</th>\n",
       "      <td>crispy rice cereal</td>\n",
       "    </tr>\n",
       "    <tr>\n",
       "      <th>12762</th>\n",
       "      <td>frozen whole pearl onion</td>\n",
       "    </tr>\n",
       "    <tr>\n",
       "      <th>5248</th>\n",
       "      <td>watercress leaf</td>\n",
       "    </tr>\n",
       "  </tbody>\n",
       "</table>\n",
       "</div>"
      ],
      "text/plain": [
       "                                  ingredientes\n",
       "11115                       green pepper rings\n",
       "8840                        garlic bagel chips\n",
       "177                                  margarine\n",
       "11610               honey-nougat chocolate bar\n",
       "296                                beef steaks\n",
       "10899                pan drippings from turkey\n",
       "2849                         cheez-it crackers\n",
       "1282                            strawberry jam\n",
       "14105            canned salt-reduced spaghetti\n",
       "14510                           galanga powder\n",
       "2286                   mrs. dash seasoning mix\n",
       "14709                          petroleum jelly\n",
       "4741                              sage sausage\n",
       "143    boneless skinless chicken breast halves\n",
       "7617    crisco original no-stick cooking spray\n",
       "6092                \"emerils original essence\"\n",
       "4394                        corn oil margarine\n",
       "5937                        large marshmallows\n",
       "13875                        belgian chocolate\n",
       "14306                tri-color radiatore pasta\n",
       "892                 reduced-calorie mayonnaise\n",
       "5014                         mild chili pepper\n",
       "4281                        crispy rice cereal\n",
       "12762                 frozen whole pearl onion\n",
       "5248                           watercress leaf"
      ]
     },
     "execution_count": 12,
     "metadata": {},
     "output_type": "execute_result"
    }
   ],
   "source": [
    "tabla_ingredientes.sample(25)"
   ]
  },
  {
   "cell_type": "code",
   "execution_count": 13,
   "id": "2fe96f88-a0a2-492a-ac90-33c7d64ae35d",
   "metadata": {
    "tags": []
   },
   "outputs": [
    {
     "data": {
      "text/plain": [
       "(14906, 1)"
      ]
     },
     "execution_count": 13,
     "metadata": {},
     "output_type": "execute_result"
    }
   ],
   "source": [
    "tabla_ingredientes.shape"
   ]
  },
  {
   "cell_type": "code",
   "execution_count": 14,
   "id": "bae2b817-f484-4ad4-8949-c05b471d4355",
   "metadata": {
    "tags": []
   },
   "outputs": [],
   "source": [
    "data6['nutrition'] = data6['nutrition'].apply(eval)\n",
    "\n",
    "# Crear nuevas columnas para cada número y valor\n",
    "data6[['calories', 'total_fat_pdv', 'sugar_pdv', 'sodium_pdv', 'protein_pdv', 'saturated_fat', 'carbohydrates']] = pd.DataFrame(data6['nutrition'].tolist(), index=data6.index)\n"
   ]
  },
  {
   "cell_type": "code",
   "execution_count": 15,
   "id": "3232a513-4b35-4944-bfd2-8157a98cb77f",
   "metadata": {
    "tags": []
   },
   "outputs": [],
   "source": [
    "columnas_a_eliminar = ['contributor_id', 'submitted', 'tags','nutrition',]\n",
    "data6 = data6.drop(columnas_a_eliminar, axis=1)\n"
   ]
  },
  {
   "cell_type": "code",
   "execution_count": 16,
   "id": "60ecea7d-f06e-47b8-b5ea-d03dfabac7c7",
   "metadata": {
    "tags": []
   },
   "outputs": [
    {
     "data": {
      "text/html": [
       "<div>\n",
       "<style scoped>\n",
       "    .dataframe tbody tr th:only-of-type {\n",
       "        vertical-align: middle;\n",
       "    }\n",
       "\n",
       "    .dataframe tbody tr th {\n",
       "        vertical-align: top;\n",
       "    }\n",
       "\n",
       "    .dataframe thead th {\n",
       "        text-align: right;\n",
       "    }\n",
       "</style>\n",
       "<table border=\"1\" class=\"dataframe\">\n",
       "  <thead>\n",
       "    <tr style=\"text-align: right;\">\n",
       "      <th></th>\n",
       "      <th>name</th>\n",
       "      <th>id</th>\n",
       "      <th>minutes</th>\n",
       "      <th>n_steps</th>\n",
       "      <th>steps</th>\n",
       "      <th>description</th>\n",
       "      <th>ingredients</th>\n",
       "      <th>n_ingredients</th>\n",
       "      <th>calories</th>\n",
       "      <th>total_fat_pdv</th>\n",
       "      <th>sugar_pdv</th>\n",
       "      <th>sodium_pdv</th>\n",
       "      <th>protein_pdv</th>\n",
       "      <th>saturated_fat</th>\n",
       "      <th>carbohydrates</th>\n",
       "    </tr>\n",
       "  </thead>\n",
       "  <tbody>\n",
       "    <tr>\n",
       "      <th>10413</th>\n",
       "      <td>aunt m fruit salad</td>\n",
       "      <td>151327</td>\n",
       "      <td>5</td>\n",
       "      <td>6</td>\n",
       "      <td>['mix pudding with milk', 'fold in cool whip',...</td>\n",
       "      <td>this is the best fruit salad i've ever seen an...</td>\n",
       "      <td>['instant vanilla pudding', 'milk', 'cool whip...</td>\n",
       "      <td>4</td>\n",
       "      <td>124.0</td>\n",
       "      <td>10.0</td>\n",
       "      <td>56.0</td>\n",
       "      <td>6.0</td>\n",
       "      <td>2.0</td>\n",
       "      <td>27.0</td>\n",
       "      <td>5.0</td>\n",
       "    </tr>\n",
       "  </tbody>\n",
       "</table>\n",
       "</div>"
      ],
      "text/plain": [
       "                     name      id  minutes  n_steps  \\\n",
       "10413  aunt m fruit salad  151327        5        6   \n",
       "\n",
       "                                                   steps  \\\n",
       "10413  ['mix pudding with milk', 'fold in cool whip',...   \n",
       "\n",
       "                                             description  \\\n",
       "10413  this is the best fruit salad i've ever seen an...   \n",
       "\n",
       "                                             ingredients  n_ingredients  \\\n",
       "10413  ['instant vanilla pudding', 'milk', 'cool whip...              4   \n",
       "\n",
       "       calories  total_fat_pdv  sugar_pdv  sodium_pdv  protein_pdv  \\\n",
       "10413     124.0           10.0       56.0         6.0          2.0   \n",
       "\n",
       "       saturated_fat  carbohydrates  \n",
       "10413           27.0            5.0  "
      ]
     },
     "execution_count": 16,
     "metadata": {},
     "output_type": "execute_result"
    }
   ],
   "source": [
    "data6.sample(1)"
   ]
  },
  {
   "cell_type": "code",
   "execution_count": 17,
   "id": "dd70b4cf-670b-49b7-b5f1-da3d60e7ae6b",
   "metadata": {
    "tags": []
   },
   "outputs": [
    {
     "data": {
      "text/html": [
       "<div>\n",
       "<style scoped>\n",
       "    .dataframe tbody tr th:only-of-type {\n",
       "        vertical-align: middle;\n",
       "    }\n",
       "\n",
       "    .dataframe tbody tr th {\n",
       "        vertical-align: top;\n",
       "    }\n",
       "\n",
       "    .dataframe thead th {\n",
       "        text-align: right;\n",
       "    }\n",
       "</style>\n",
       "<table border=\"1\" class=\"dataframe\">\n",
       "  <thead>\n",
       "    <tr style=\"text-align: right;\">\n",
       "      <th></th>\n",
       "      <th>user_id</th>\n",
       "      <th>recipe_id</th>\n",
       "      <th>date</th>\n",
       "      <th>rating</th>\n",
       "      <th>review</th>\n",
       "    </tr>\n",
       "  </thead>\n",
       "  <tbody>\n",
       "    <tr>\n",
       "      <th>287675</th>\n",
       "      <td>296809</td>\n",
       "      <td>59389</td>\n",
       "      <td>2008-06-11</td>\n",
       "      <td>4</td>\n",
       "      <td>This is an excellent, easy-fix side-dish w/ton...</td>\n",
       "    </tr>\n",
       "    <tr>\n",
       "      <th>287676</th>\n",
       "      <td>1232243</td>\n",
       "      <td>59389</td>\n",
       "      <td>2009-04-15</td>\n",
       "      <td>5</td>\n",
       "      <td>This is wonderful and super easy!  I work with...</td>\n",
       "    </tr>\n",
       "  </tbody>\n",
       "</table>\n",
       "</div>"
      ],
      "text/plain": [
       "        user_id  recipe_id        date  rating  \\\n",
       "287675   296809      59389  2008-06-11       4   \n",
       "287676  1232243      59389  2009-04-15       5   \n",
       "\n",
       "                                                   review  \n",
       "287675  This is an excellent, easy-fix side-dish w/ton...  \n",
       "287676  This is wonderful and super easy!  I work with...  "
      ]
     },
     "execution_count": 17,
     "metadata": {},
     "output_type": "execute_result"
    }
   ],
   "source": [
    "fila_deseada = data5[data5['recipe_id'] == 59389]\n",
    "\n",
    "fila_deseada"
   ]
  },
  {
   "cell_type": "code",
   "execution_count": 18,
   "id": "e8686461-6c97-41a3-be5b-4c6ef11a217d",
   "metadata": {
    "tags": []
   },
   "outputs": [],
   "source": [
    "mean_ratings = data5.groupby('recipe_id')['rating'].mean().reset_index()\n",
    "\n",
    "# Fusionar data6 y mean_ratings en data8 utilizando la columna 'recipe_id'\n",
    "data8 = pd.merge(data6, mean_ratings, left_on='id', right_on='recipe_id', how='left')\n",
    "\n",
    "# Renombrar la columna 'rating' para reflejar que ahora es la media de las notas\n",
    "data8.rename(columns={'rating_x': 'original_rating', 'rating_y': 'mean_rating'}, inplace=True)"
   ]
  },
  {
   "cell_type": "code",
   "execution_count": 19,
   "id": "2ce60757-b7a0-45da-a67b-7e335a5f185c",
   "metadata": {
    "tags": []
   },
   "outputs": [
    {
     "data": {
      "text/plain": [
       "Index(['name', 'id', 'minutes', 'n_steps', 'steps', 'description',\n",
       "       'ingredients', 'n_ingredients', 'calories', 'total_fat_pdv',\n",
       "       'sugar_pdv', 'sodium_pdv', 'protein_pdv', 'saturated_fat',\n",
       "       'carbohydrates', 'recipe_id', 'rating'],\n",
       "      dtype='object')"
      ]
     },
     "execution_count": 19,
     "metadata": {},
     "output_type": "execute_result"
    }
   ],
   "source": [
    "data8.columns"
   ]
  },
  {
   "cell_type": "code",
   "execution_count": 20,
   "id": "b362e49f-189c-4347-8de3-f7de3a93594e",
   "metadata": {
    "tags": []
   },
   "outputs": [
    {
     "data": {
      "text/html": [
       "<div>\n",
       "<style scoped>\n",
       "    .dataframe tbody tr th:only-of-type {\n",
       "        vertical-align: middle;\n",
       "    }\n",
       "\n",
       "    .dataframe tbody tr th {\n",
       "        vertical-align: top;\n",
       "    }\n",
       "\n",
       "    .dataframe thead th {\n",
       "        text-align: right;\n",
       "    }\n",
       "</style>\n",
       "<table border=\"1\" class=\"dataframe\">\n",
       "  <thead>\n",
       "    <tr style=\"text-align: right;\">\n",
       "      <th></th>\n",
       "      <th>name</th>\n",
       "      <th>id</th>\n",
       "      <th>minutes</th>\n",
       "      <th>n_steps</th>\n",
       "      <th>steps</th>\n",
       "      <th>description</th>\n",
       "      <th>ingredients</th>\n",
       "      <th>n_ingredients</th>\n",
       "      <th>calories</th>\n",
       "      <th>total_fat_pdv</th>\n",
       "      <th>sugar_pdv</th>\n",
       "      <th>sodium_pdv</th>\n",
       "      <th>protein_pdv</th>\n",
       "      <th>saturated_fat</th>\n",
       "      <th>carbohydrates</th>\n",
       "      <th>recipe_id</th>\n",
       "      <th>rating</th>\n",
       "    </tr>\n",
       "  </thead>\n",
       "  <tbody>\n",
       "    <tr>\n",
       "      <th>19721</th>\n",
       "      <td>beatty s chocolate cake  barefoot contessa</td>\n",
       "      <td>362837</td>\n",
       "      <td>35</td>\n",
       "      <td>22</td>\n",
       "      <td>['chocolate buttercream , recipe follows', 'pr...</td>\n",
       "      <td>don't skip the coffee, it's what makes this ca...</td>\n",
       "      <td>['butter', 'all-purpose flour', 'sugar', 'coco...</td>\n",
       "      <td>17</td>\n",
       "      <td>860.8</td>\n",
       "      <td>79.0</td>\n",
       "      <td>281.0</td>\n",
       "      <td>26.0</td>\n",
       "      <td>21.0</td>\n",
       "      <td>124.0</td>\n",
       "      <td>34.0</td>\n",
       "      <td>362837</td>\n",
       "      <td>4.333333</td>\n",
       "    </tr>\n",
       "  </tbody>\n",
       "</table>\n",
       "</div>"
      ],
      "text/plain": [
       "                                             name      id  minutes  n_steps  \\\n",
       "19721  beatty s chocolate cake  barefoot contessa  362837       35       22   \n",
       "\n",
       "                                                   steps  \\\n",
       "19721  ['chocolate buttercream , recipe follows', 'pr...   \n",
       "\n",
       "                                             description  \\\n",
       "19721  don't skip the coffee, it's what makes this ca...   \n",
       "\n",
       "                                             ingredients  n_ingredients  \\\n",
       "19721  ['butter', 'all-purpose flour', 'sugar', 'coco...             17   \n",
       "\n",
       "       calories  total_fat_pdv  sugar_pdv  sodium_pdv  protein_pdv  \\\n",
       "19721     860.8           79.0      281.0        26.0         21.0   \n",
       "\n",
       "       saturated_fat  carbohydrates  recipe_id    rating  \n",
       "19721          124.0           34.0     362837  4.333333  "
      ]
     },
     "execution_count": 20,
     "metadata": {},
     "output_type": "execute_result"
    }
   ],
   "source": [
    "data8.sample(1)"
   ]
  },
  {
   "cell_type": "code",
   "execution_count": 21,
   "id": "87634d57-59b8-4352-b16e-6a59aa9f3e17",
   "metadata": {
    "tags": []
   },
   "outputs": [],
   "source": [
    "correction_dict = {\n",
    "    '[butter': 'butter',\n",
    "    'eggs': 'egg',\n",
    "    # Añade más correcciones según sea necesario\n",
    "}\n",
    "\n",
    "# Función para corregir las palabras en una lista de ingredientes\n",
    "def corregir_palabras(ingredientes):\n",
    "    return [correction_dict.get(ingrediente, ingrediente) for ingrediente in ingredientes]\n",
    "\n",
    "# Aplicar la función de corrección a la columna 'ingredients'\n",
    "data8['ingredients'] = data8['ingredients'].apply(lambda x: corregir_palabras(x.split(', ')))"
   ]
  },
  {
   "cell_type": "code",
   "execution_count": 22,
   "id": "6bef1674-7168-4d75-9e0f-7bbd611e737b",
   "metadata": {
    "tags": []
   },
   "outputs": [],
   "source": [
    "\n",
    "# Usar la función explode para convertir las listas en filas individuales\n",
    "ingredients_df = data8[['recipe_id', 'ingredients']].explode('ingredients')\n",
    "\n",
    "# Crear un DataFrame con los ingredientes únicos y su frecuencia\n",
    "unique_ingredients_df = ingredients_df.groupby('ingredients').agg({'recipe_id': list}).reset_index()\n",
    "unique_ingredients_df['num_recipes_containing_ingredient'] = unique_ingredients_df['recipe_id'].apply(len)\n",
    "\n"
   ]
  },
  {
   "cell_type": "code",
   "execution_count": 23,
   "id": "713ee25b-a8e8-4eee-8e32-359ab56f26c4",
   "metadata": {
    "tags": []
   },
   "outputs": [
    {
     "data": {
      "text/html": [
       "<div>\n",
       "<style scoped>\n",
       "    .dataframe tbody tr th:only-of-type {\n",
       "        vertical-align: middle;\n",
       "    }\n",
       "\n",
       "    .dataframe tbody tr th {\n",
       "        vertical-align: top;\n",
       "    }\n",
       "\n",
       "    .dataframe thead th {\n",
       "        text-align: right;\n",
       "    }\n",
       "</style>\n",
       "<table border=\"1\" class=\"dataframe\">\n",
       "  <thead>\n",
       "    <tr style=\"text-align: right;\">\n",
       "      <th></th>\n",
       "      <th>ingredients</th>\n",
       "      <th>recipe_id</th>\n",
       "      <th>num_recipes_containing_ingredient</th>\n",
       "    </tr>\n",
       "  </thead>\n",
       "  <tbody>\n",
       "    <tr>\n",
       "      <th>0</th>\n",
       "      <td>\"adolph's meat tenderizer\"</td>\n",
       "      <td>[487455, 149141, 382924, 12837]</td>\n",
       "      <td>4</td>\n",
       "    </tr>\n",
       "  </tbody>\n",
       "</table>\n",
       "</div>"
      ],
      "text/plain": [
       "                  ingredients                        recipe_id  \\\n",
       "0  \"adolph's meat tenderizer\"  [487455, 149141, 382924, 12837]   \n",
       "\n",
       "   num_recipes_containing_ingredient  \n",
       "0                                  4  "
      ]
     },
     "execution_count": 23,
     "metadata": {},
     "output_type": "execute_result"
    }
   ],
   "source": [
    "unique_ingredients_df.head(1)"
   ]
  },
  {
   "cell_type": "code",
   "execution_count": 24,
   "id": "519862bf-822c-4b59-a994-c260b24e1a62",
   "metadata": {
    "tags": []
   },
   "outputs": [
    {
     "data": {
      "text/plain": [
       "Index(['ingredients', 'recipe_id', 'num_recipes_containing_ingredient'], dtype='object')"
      ]
     },
     "execution_count": 24,
     "metadata": {},
     "output_type": "execute_result"
    }
   ],
   "source": [
    "unique_ingredients_df.columns"
   ]
  },
  {
   "cell_type": "code",
   "execution_count": 25,
   "id": "ea6ed577-1321-42ea-ada5-551dc968c847",
   "metadata": {
    "tags": []
   },
   "outputs": [
    {
     "data": {
      "text/html": [
       "<div>\n",
       "<style scoped>\n",
       "    .dataframe tbody tr th:only-of-type {\n",
       "        vertical-align: middle;\n",
       "    }\n",
       "\n",
       "    .dataframe tbody tr th {\n",
       "        vertical-align: top;\n",
       "    }\n",
       "\n",
       "    .dataframe thead th {\n",
       "        text-align: right;\n",
       "    }\n",
       "</style>\n",
       "<table border=\"1\" class=\"dataframe\">\n",
       "  <thead>\n",
       "    <tr style=\"text-align: right;\">\n",
       "      <th></th>\n",
       "      <th>name</th>\n",
       "      <th>id</th>\n",
       "      <th>minutes</th>\n",
       "      <th>n_steps</th>\n",
       "      <th>steps</th>\n",
       "      <th>description</th>\n",
       "      <th>ingredients</th>\n",
       "      <th>n_ingredients</th>\n",
       "      <th>calories</th>\n",
       "      <th>total_fat_pdv</th>\n",
       "      <th>sugar_pdv</th>\n",
       "      <th>sodium_pdv</th>\n",
       "      <th>protein_pdv</th>\n",
       "      <th>saturated_fat</th>\n",
       "      <th>carbohydrates</th>\n",
       "      <th>recipe_id</th>\n",
       "      <th>rating</th>\n",
       "    </tr>\n",
       "  </thead>\n",
       "  <tbody>\n",
       "    <tr>\n",
       "      <th>145610</th>\n",
       "      <td>nutella swirl pound cake</td>\n",
       "      <td>393144</td>\n",
       "      <td>85</td>\n",
       "      <td>20</td>\n",
       "      <td>['1', 'preheat the oven to 325f lightly grease...</td>\n",
       "      <td>this came out in food &amp; wine this month.\\r\\ni ...</td>\n",
       "      <td>[['flour', 'eggs', 'vanilla extract', 'baking ...</td>\n",
       "      <td>8</td>\n",
       "      <td>448.7</td>\n",
       "      <td>39.0</td>\n",
       "      <td>125.0</td>\n",
       "      <td>6.0</td>\n",
       "      <td>11.0</td>\n",
       "      <td>76.0</td>\n",
       "      <td>16.0</td>\n",
       "      <td>393144</td>\n",
       "      <td>4.0</td>\n",
       "    </tr>\n",
       "  </tbody>\n",
       "</table>\n",
       "</div>"
      ],
      "text/plain": [
       "                            name      id  minutes  n_steps  \\\n",
       "145610  nutella swirl pound cake  393144       85       20   \n",
       "\n",
       "                                                    steps  \\\n",
       "145610  ['1', 'preheat the oven to 325f lightly grease...   \n",
       "\n",
       "                                              description  \\\n",
       "145610  this came out in food & wine this month.\\r\\ni ...   \n",
       "\n",
       "                                              ingredients  n_ingredients  \\\n",
       "145610  [['flour', 'eggs', 'vanilla extract', 'baking ...              8   \n",
       "\n",
       "        calories  total_fat_pdv  sugar_pdv  sodium_pdv  protein_pdv  \\\n",
       "145610     448.7           39.0      125.0         6.0         11.0   \n",
       "\n",
       "        saturated_fat  carbohydrates  recipe_id  rating  \n",
       "145610           76.0           16.0     393144     4.0  "
      ]
     },
     "execution_count": 25,
     "metadata": {},
     "output_type": "execute_result"
    }
   ],
   "source": [
    "data8.sample(1)"
   ]
  },
  {
   "cell_type": "code",
   "execution_count": 26,
   "id": "3987d4d0-f84a-4b8a-84bc-26ee7540e3f9",
   "metadata": {
    "tags": []
   },
   "outputs": [
    {
     "name": "stdout",
     "output_type": "stream",
     "text": [
      "Columna 'name' data type: [<class 'str'> <class 'float'>]\n",
      "Columna 'id' data type: [<class 'int'>]\n",
      "Columna 'minutes' data type: [<class 'int'>]\n",
      "Columna 'n_steps' data type: [<class 'int'>]\n",
      "Columna 'steps' data type: [<class 'str'>]\n",
      "Columna 'description' data type: [<class 'str'> <class 'float'>]\n",
      "Columna 'ingredients' data type: [<class 'list'>]\n",
      "Columna 'n_ingredients' data type: [<class 'int'>]\n",
      "Columna 'calories' data type: [<class 'float'>]\n",
      "Columna 'total_fat_pdv' data type: [<class 'float'>]\n",
      "Columna 'sugar_pdv' data type: [<class 'float'>]\n",
      "Columna 'sodium_pdv' data type: [<class 'float'>]\n",
      "Columna 'protein_pdv' data type: [<class 'float'>]\n",
      "Columna 'saturated_fat' data type: [<class 'float'>]\n",
      "Columna 'carbohydrates' data type: [<class 'float'>]\n",
      "Columna 'recipe_id' data type: [<class 'int'>]\n",
      "Columna 'rating' data type: [<class 'float'>]\n"
     ]
    }
   ],
   "source": [
    "for column in data8.columns:\n",
    "    column_type = data8[column].apply(type).unique()\n",
    "    print(f\"Columna '{column}' data type: {column_type}\")"
   ]
  },
  {
   "cell_type": "code",
   "execution_count": 27,
   "id": "af7cf5a1-5df6-4ad1-b0d5-1dbda1bc9fc9",
   "metadata": {
    "tags": []
   },
   "outputs": [],
   "source": [
    "data8 = data8.dropna(subset=['name'])\n"
   ]
  },
  {
   "cell_type": "code",
   "execution_count": 28,
   "id": "a6af49c5-a9fe-44e8-91b3-380f30c980dc",
   "metadata": {
    "tags": []
   },
   "outputs": [],
   "source": [
    "data8.to_csv('recipes_data.csv', index=False)"
   ]
  },
  {
   "cell_type": "code",
   "execution_count": 29,
   "id": "1c120c70-7290-4480-9011-8a021ce191cb",
   "metadata": {
    "tags": []
   },
   "outputs": [],
   "source": [
    "data8['description'] = data8['description'].fillna('There is no description')"
   ]
  },
  {
   "cell_type": "code",
   "execution_count": 30,
   "id": "29852b5e-7097-4f25-99f5-d938774595b9",
   "metadata": {
    "tags": []
   },
   "outputs": [
    {
     "name": "stdout",
     "output_type": "stream",
     "text": [
      "There are 2528662 duplicates. Also;\n",
      "               Duplicates  NaNValues  EmptySpaces\n",
      "name                 1451          0            0\n",
      "id                      0          0            0\n",
      "minutes            230748          0            0\n",
      "n_steps            231542          0            0\n",
      "steps                 563          0            0\n",
      "description          8968          0            0\n",
      "ingredients          1162          0            0\n",
      "n_ingredients      231595          0            0\n",
      "calories           210158          0            0\n",
      "total_fat_pdv      230716          0            0\n",
      "sugar_pdv          229187          0            0\n",
      "sodium_pdv         230746          0            0\n",
      "protein_pdv        231004          0            0\n",
      "saturated_fat      230439          0            0\n",
      "carbohydrates      231123          0            0\n",
      "recipe_id               0          0            0\n",
      "rating             229260          0            0\n"
     ]
    }
   ],
   "source": [
    "def explore_data(data):\n",
    "    # Inicializa listas para almacenar resultados por columna\n",
    "    duplicates_list = []\n",
    "    nan_values_list = []\n",
    "    empty_spaces_list = []\n",
    "\n",
    "    # Itera sobre las columnas del DataFrame\n",
    "    for column in data.columns:\n",
    "        # Encuentra y cuenta duplicados basados en la representación de cadenas (excepto listas)\n",
    "        duplicates = data[column].astype(str).duplicated().sum()\n",
    "        duplicates_list.append(duplicates)\n",
    "\n",
    "        # Encuentra y cuenta valores NaN (teniendo en cuenta listas)\n",
    "        nan_values = data[column].apply(lambda x: any(pd.isna(y) for y in x) if isinstance(x, list) else pd.isna(x)).sum()\n",
    "        nan_values_list.append(nan_values)\n",
    "\n",
    "        # Encuentra y cuenta espacios en blanco (teniendo en cuenta listas)\n",
    "        empty_spaces = data[column].apply(lambda x: any(y == ' ' for y in x) if isinstance(x, list) else x == ' ').sum()\n",
    "        empty_spaces_list.append(empty_spaces)\n",
    "\n",
    "    # Nuevo DataFrame con los resultados\n",
    "    exploration = pd.DataFrame({\"Duplicates\": duplicates_list, \"NaNValues\": nan_values_list, \"EmptySpaces\": empty_spaces_list}, index=data.columns)\n",
    "\n",
    "    # Muestra los resultados\n",
    "    print(f\"There are {sum(duplicates_list)} duplicates. Also;\")\n",
    "    \n",
    "    return exploration\n",
    "\n",
    "# Ejemplo de uso con tu DataFrame data8\n",
    "explore_data_result = explore_data(data8)\n",
    "print(explore_data_result)"
   ]
  },
  {
   "cell_type": "code",
   "execution_count": 31,
   "id": "9dea56b7-722b-48c2-90c0-b9abac4f9b0c",
   "metadata": {
    "tags": []
   },
   "outputs": [
    {
     "data": {
      "text/plain": [
       "Index(['ingredients', 'recipe_id', 'num_recipes_containing_ingredient'], dtype='object')"
      ]
     },
     "execution_count": 31,
     "metadata": {},
     "output_type": "execute_result"
    }
   ],
   "source": [
    "unique_ingredients_df.columns"
   ]
  },
  {
   "cell_type": "code",
   "execution_count": 32,
   "id": "2a49963c-86a0-4e98-8350-803b3ec5037b",
   "metadata": {
    "tags": []
   },
   "outputs": [
    {
     "data": {
      "text/plain": [
       "Index(['name', 'id', 'minutes', 'n_steps', 'steps', 'description',\n",
       "       'ingredients', 'n_ingredients', 'calories', 'total_fat_pdv',\n",
       "       'sugar_pdv', 'sodium_pdv', 'protein_pdv', 'saturated_fat',\n",
       "       'carbohydrates', 'recipe_id', 'rating'],\n",
       "      dtype='object')"
      ]
     },
     "execution_count": 32,
     "metadata": {},
     "output_type": "execute_result"
    }
   ],
   "source": [
    "data8.columns\n"
   ]
  },
  {
   "cell_type": "code",
   "execution_count": null,
   "id": "e17f49e8-b844-4b24-b6a4-74e8873d0a0a",
   "metadata": {
    "tags": []
   },
   "outputs": [],
   "source": [
    "# Interfaz de línea de comandos para que el usuario ingrese los ingredientes disponibles\n",
    "ingredientes_disponibles = input(\"Ingrese los ingredientes disponibles separados por coma: \").split(',')\n",
    "ingredientes_disponibles = [ingrediente.strip() for ingrediente in ingredientes_disponibles]\n",
    "\n",
    "# Filtrar el DataFrame para encontrar recetas que contienen al menos uno de los ingredientes proporcionados\n",
    "recetas = set()\n",
    "for ingrediente in ingredientes_disponibles:\n",
    "    # Convertir la entrada del usuario en minúsculas y eliminar comillas y otros caracteres no deseados\n",
    "    ingrediente_limpio = ingrediente.lower().replace(\"'\", \"\").strip()\n",
    "    \n",
    "    # Filtrar el DataFrame para encontrar recetas que contienen el ingrediente\n",
    "    recetas_ingrediente = unique_ingredients_df[unique_ingredients_df['ingredients'].str.lower().str.contains(ingrediente_limpio)]['recipe_id']\n",
    "    \n",
    "    # Convertir cada lista de recipe_id en un conjunto antes de agregarlo al conjunto de recetas\n",
    "    for ids in recetas_ingrediente:\n",
    "        recetas.update(set(ids))\n",
    "\n",
    "# Filtrar las recetas encontradas por los ingredientes proporcionados\n",
    "recetas_encontradas = data8[data8['recipe_id'].isin(recetas)]\n",
    "\n",
    "# Presentar los resultados al usuario\n",
    "if recetas_encontradas.empty:\n",
    "    print(\"Lo siento, no se encontraron recetas con los ingredientes proporcionados.\")\n",
    "else:\n",
    "    # Seleccionar las columnas deseadas del DataFrame recetas_encontradas\n",
    "    recetas_para_mostrar = recetas_encontradas.loc[:, ['name','recipe_id', 'rating', 'minutes', 'steps', 'description','calories','total_fat_pdv', 'sugar_pdv', 'sodium_pdv', 'protein_pdv', 'saturated_fat', 'carbohydrates']]\n",
    "    \n",
    "    # Ordenar las recetas según su rating de mayor a menor y luego mostrar las primeras 10\n",
    "    recetas_ordenadas = recetas_para_mostrar.sort_values(by='rating', ascending=False)\n",
    "recetas_ordenadas.head(1)"
   ]
  },
  {
   "cell_type": "code",
   "execution_count": null,
   "id": "8a7e4a5b-74fd-4d68-a9d0-20273a33894b",
   "metadata": {
    "tags": []
   },
   "outputs": [],
   "source": [
    "merged_df = pd.merge(data5, data8, on='recipe_id')\n",
    "merged_df.sample(5)"
   ]
  },
  {
   "cell_type": "code",
   "execution_count": null,
   "id": "96f2fa4a-f7a4-4b22-8f74-c8b4b7b6d096",
   "metadata": {
    "tags": []
   },
   "outputs": [],
   "source": [
    "merged_df.shape"
   ]
  },
  {
   "cell_type": "code",
   "execution_count": null,
   "id": "ec85c2c8-7bb3-46a2-a025-ab4eb5771dda",
   "metadata": {
    "tags": []
   },
   "outputs": [],
   "source": [
    "merged_df.columns"
   ]
  },
  {
   "cell_type": "code",
   "execution_count": null,
   "id": "ba5dbd96-14af-44b3-9b48-42e2a27b882a",
   "metadata": {
    "tags": []
   },
   "outputs": [],
   "source": [
    "import random\n",
    "from sklearn.feature_extraction.text import TfidfVectorizer\n",
    "from sklearn.model_selection import train_test_split  # Agregar esta línea\n",
    "from sklearn.ensemble import RandomForestClassifier\n",
    "from sklearn.metrics import classification_report\n",
    "import pandas as pd\n",
    "\n",
    "merged_df['gusto'] = 0\n",
    "recetas_gustadas = []\n",
    "while len(recetas_gustadas) < 5:\n",
    "    receta_aleatoria = random.choice(merged_df['recipe_id'])\n",
    "    receta_info = merged_df.loc[merged_df['recipe_id'] == receta_aleatoria, ['name', 'description']]\n",
    "    print(f\"Receta: {receta_info['name'].values[0]}\")\n",
    "    print(f\"Descripción: {receta_info['description'].values[0]}\")\n",
    "    respuesta = input(\"¿Te gusta esta receta? (si/no): \").lower()\n",
    "    if respuesta == \"si\":\n",
    "        recetas_gustadas.append(receta_aleatoria)\n",
    "        merged_df.loc[merged_df['recipe_id'] == receta_aleatoria, 'gusto'] = 1\n",
    "        print(\"¡Genial!\")\n",
    "    elif respuesta == \"no\":\n",
    "        merged_df.loc[merged_df['recipe_id'] == receta_aleatoria, 'gusto'] = 0\n",
    "        print(\"Entendido, buscando otra receta...\")\n",
    "    else:\n",
    "        print(\"Respuesta no válida. Por favor, responde 'si' o 'no'.\")\n"
   ]
  },
  {
   "cell_type": "code",
   "execution_count": null,
   "id": "53f0bc1c-bebc-4d9f-a987-668663525f3d",
   "metadata": {},
   "outputs": [],
   "source": [
    "# Preguntar al usuario qué receta quiere hacer\n",
    "receta_elegida = input(\"¿Qué receta te gustaría hacer? Por favor, escribe el nombre de la receta: \")\n",
    "\n",
    "# Buscar la receta en el DataFrame\n",
    "receta_elegida_info = merged_df.loc[merged_df['name'].str.lower() == receta_elegida.lower()]\n",
    "\n",
    "# Verificar si la receta existe\n",
    "if len(receta_elegida_info) == 0:\n",
    "    print(\"Lo siento, no se encontró la receta. Por favor, asegúrate de escribir el nombre correctamente.\")\n",
    "else:\n",
    "    # Mostrar la información de la receta\n",
    "    print(f\"Receta: {receta_elegida_info['name'].values[0]}\")\n",
    "    \n",
    "    # Mostrar los pasos para hacer la receta en una línea horizontal\n",
    "    print(\"Pasos para hacer la receta:\")\n",
    "    pasos_receta = ' '.join(receta_elegida_info['steps'].values[0])  # Unir los pasos en una sola cadena\n",
    "    print(pasos_receta)\n",
    "    \n",
    "    # Mostrar información adicional\n",
    "    print(\"\\nInformación adicional de la receta:\")\n",
    "    print(f\"Tiempo de preparación: {receta_elegida_info['minutes'].values[0]} minutos\")\n",
    "    print(\"Ingredientes:\")\n",
    "    for ingredient in receta_elegida_info['ingredients'].values[0]:\n",
    "        print(\"- \" + ingredient)\n",
    "    print(f\"Calorías: {receta_elegida_info['calories'].values[0]}\")\n",
    "    print(f\"Grasa total (% del valor diario): {receta_elegida_info['total_fat_pdv'].values[0]}%\")\n",
    "    print(f\"Azúcar (% del valor diario): {receta_elegida_info['sugar_pdv'].values[0]}%\")\n",
    "    print(f\"Sodio (% del valor diario): {receta_elegida_info['sodium_pdv'].values[0]}%\")\n",
    "    print(f\"Proteína (% del valor diario): {receta_elegida_info['protein_pdv'].values[0]}%\")\n",
    "    print(f\"Grasa saturada: {receta_elegida_info['saturated_fat'].values[0]}\")\n",
    "    print(f\"Carbohidratos: {receta_elegida_info['carbohydrates'].values[0]}\")\n"
   ]
  },
  {
   "cell_type": "code",
   "execution_count": null,
   "id": "bbadaa67-4668-47c6-a7a8-1603f550d34d",
   "metadata": {},
   "outputs": [],
   "source": [
    "import pandas as pd\n",
    "\n",
    "# Preguntar al usuario cuántas calorías necesita consumir al día y cuántas comidas realiza al día\n",
    "calorias_diarias = int(input(\"¿Cuántas calorías necesita consumir al día? \"))\n",
    "comidas_al_dia = int(input(\"¿Cuántas comidas realiza al día? \"))\n",
    "\n",
    "# Calcular el número de calorías por comida\n",
    "calorias_por_comida = calorias_diarias / comidas_al_dia\n",
    "\n",
    "# Crear un DataFrame vacío para almacenar las recetas seleccionadas\n",
    "recetas_seleccionadas = pd.DataFrame(columns=merged_df.columns)\n",
    "\n",
    "# Inicializar la suma de calorías de las recetas seleccionadas\n",
    "calorias_totales = 0\n",
    "\n",
    "# Iterar hasta alcanzar o superar el número total de calorías necesarias\n",
    "while calorias_totales < calorias_diarias:\n",
    "    # Filtrar las recetas que tengan un contenido calórico por debajo o igual a las calorías por comida\n",
    "    recetas_filtradas = merged_df[merged_df['calories'] <= calorias_por_comida]\n",
    "\n",
    "    # Seleccionar una receta aleatoria de las que cumplen el criterio\n",
    "    receta_seleccionada = recetas_filtradas.sample(n=1)\n",
    "\n",
    "    # Agregar la receta seleccionada al DataFrame de recetas seleccionadas\n",
    "    recetas_seleccionadas = pd.concat([recetas_seleccionadas, receta_seleccionada])\n",
    "\n",
    "    # Actualizar la suma de calorías totales\n",
    "    calorias_totales += receta_seleccionada['calories'].iloc[0]\n",
    "\n",
    "# Mostrar el DataFrame con las recetas seleccionadas\n",
    "print(\"Recetas seleccionadas para cumplir con el criterio de calorías por comida:\")\n",
    "recetas_seleccionadas\n",
    "\n"
   ]
  },
  {
   "cell_type": "code",
   "execution_count": null,
   "id": "61e358f0-e007-4957-8e9f-ddc652e39c1c",
   "metadata": {},
   "outputs": [],
   "source": []
  },
  {
   "cell_type": "code",
   "execution_count": null,
   "id": "6f6e5e94-49ed-49e7-b859-26ad19a0504e",
   "metadata": {},
   "outputs": [],
   "source": []
  }
 ],
 "metadata": {
  "kernelspec": {
   "display_name": "Python 3 (ipykernel)",
   "language": "python",
   "name": "python3"
  },
  "language_info": {
   "codemirror_mode": {
    "name": "ipython",
    "version": 3
   },
   "file_extension": ".py",
   "mimetype": "text/x-python",
   "name": "python",
   "nbconvert_exporter": "python",
   "pygments_lexer": "ipython3",
   "version": "3.11.5"
  }
 },
 "nbformat": 4,
 "nbformat_minor": 5
}
