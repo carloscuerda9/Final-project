{
 "cells": [
  {
   "cell_type": "code",
   "execution_count": 1,
   "id": "6c32a6e5-e4b0-4f3c-9f46-a54fd67b320b",
   "metadata": {
    "tags": []
   },
   "outputs": [],
   "source": [
    "import numpy as np # operaciones matemáticas (numerical python)\n",
    "import pandas as pd # manipulación de datos\n",
    "import warnings # nobody likes warnings\n",
    "\n",
    "\n",
    "from surprise import accuracy"
   ]
  },
  {
   "cell_type": "code",
   "execution_count": 2,
   "id": "3cc11478-6495-495c-aa75-6743fd4f41d3",
   "metadata": {
    "tags": []
   },
   "outputs": [],
   "source": [
    "data5 = pd.read_csv('RAW_interactions.csv')"
   ]
  },
  {
   "cell_type": "code",
   "execution_count": 3,
   "id": "9378f5ae-4497-4254-98cb-e170cb8221bf",
   "metadata": {
    "tags": []
   },
   "outputs": [],
   "source": [
    "data6= pd.read_csv('RAW_recipes.csv')"
   ]
  },
  {
   "cell_type": "markdown",
   "id": "1cfb605d-b349-4146-86b8-57e603ce5b84",
   "metadata": {
    "tags": []
   },
   "source": [
    "U = user id\n",
    "i = recipe id"
   ]
  },
  {
   "cell_type": "code",
   "execution_count": 4,
   "id": "9572d331-23af-41b6-a0d3-06fb389a6a90",
   "metadata": {
    "tags": []
   },
   "outputs": [
    {
     "data": {
      "text/plain": [
       "(1132367, 5)"
      ]
     },
     "execution_count": 4,
     "metadata": {},
     "output_type": "execute_result"
    }
   ],
   "source": [
    "data5.shape"
   ]
  },
  {
   "cell_type": "code",
   "execution_count": 5,
   "id": "067197a5-8b24-409d-86c4-1e3008d99dc9",
   "metadata": {
    "tags": []
   },
   "outputs": [
    {
     "data": {
      "text/plain": [
       "Index(['user_id', 'recipe_id', 'date', 'rating', 'review'], dtype='object')"
      ]
     },
     "execution_count": 5,
     "metadata": {},
     "output_type": "execute_result"
    }
   ],
   "source": [
    "data5.columns\n"
   ]
  },
  {
   "cell_type": "code",
   "execution_count": 6,
   "id": "4a768289-58ef-42e7-8773-09cf31ae30d2",
   "metadata": {
    "tags": []
   },
   "outputs": [
    {
     "data": {
      "text/html": [
       "<div>\n",
       "<style scoped>\n",
       "    .dataframe tbody tr th:only-of-type {\n",
       "        vertical-align: middle;\n",
       "    }\n",
       "\n",
       "    .dataframe tbody tr th {\n",
       "        vertical-align: top;\n",
       "    }\n",
       "\n",
       "    .dataframe thead th {\n",
       "        text-align: right;\n",
       "    }\n",
       "</style>\n",
       "<table border=\"1\" class=\"dataframe\">\n",
       "  <thead>\n",
       "    <tr style=\"text-align: right;\">\n",
       "      <th></th>\n",
       "      <th>user_id</th>\n",
       "      <th>recipe_id</th>\n",
       "      <th>date</th>\n",
       "      <th>rating</th>\n",
       "      <th>review</th>\n",
       "    </tr>\n",
       "  </thead>\n",
       "  <tbody>\n",
       "    <tr>\n",
       "      <th>0</th>\n",
       "      <td>38094</td>\n",
       "      <td>40893</td>\n",
       "      <td>2003-02-17</td>\n",
       "      <td>4</td>\n",
       "      <td>Great with a salad. Cooked on top of stove for...</td>\n",
       "    </tr>\n",
       "    <tr>\n",
       "      <th>1</th>\n",
       "      <td>1293707</td>\n",
       "      <td>40893</td>\n",
       "      <td>2011-12-21</td>\n",
       "      <td>5</td>\n",
       "      <td>So simple, so delicious! Great for chilly fall...</td>\n",
       "    </tr>\n",
       "    <tr>\n",
       "      <th>2</th>\n",
       "      <td>8937</td>\n",
       "      <td>44394</td>\n",
       "      <td>2002-12-01</td>\n",
       "      <td>4</td>\n",
       "      <td>This worked very well and is EASY.  I used not...</td>\n",
       "    </tr>\n",
       "    <tr>\n",
       "      <th>3</th>\n",
       "      <td>126440</td>\n",
       "      <td>85009</td>\n",
       "      <td>2010-02-27</td>\n",
       "      <td>5</td>\n",
       "      <td>I made the Mexican topping and took it to bunk...</td>\n",
       "    </tr>\n",
       "    <tr>\n",
       "      <th>4</th>\n",
       "      <td>57222</td>\n",
       "      <td>85009</td>\n",
       "      <td>2011-10-01</td>\n",
       "      <td>5</td>\n",
       "      <td>Made the cheddar bacon topping, adding a sprin...</td>\n",
       "    </tr>\n",
       "  </tbody>\n",
       "</table>\n",
       "</div>"
      ],
      "text/plain": [
       "   user_id  recipe_id        date  rating  \\\n",
       "0    38094      40893  2003-02-17       4   \n",
       "1  1293707      40893  2011-12-21       5   \n",
       "2     8937      44394  2002-12-01       4   \n",
       "3   126440      85009  2010-02-27       5   \n",
       "4    57222      85009  2011-10-01       5   \n",
       "\n",
       "                                              review  \n",
       "0  Great with a salad. Cooked on top of stove for...  \n",
       "1  So simple, so delicious! Great for chilly fall...  \n",
       "2  This worked very well and is EASY.  I used not...  \n",
       "3  I made the Mexican topping and took it to bunk...  \n",
       "4  Made the cheddar bacon topping, adding a sprin...  "
      ]
     },
     "execution_count": 6,
     "metadata": {},
     "output_type": "execute_result"
    }
   ],
   "source": [
    "data5.head(5)"
   ]
  },
  {
   "cell_type": "code",
   "execution_count": 7,
   "id": "e723258c-a13f-4792-a0bf-85acf9b7884e",
   "metadata": {
    "tags": []
   },
   "outputs": [
    {
     "data": {
      "text/plain": [
       "(231637, 12)"
      ]
     },
     "execution_count": 7,
     "metadata": {},
     "output_type": "execute_result"
    }
   ],
   "source": [
    "data6.shape"
   ]
  },
  {
   "cell_type": "code",
   "execution_count": 8,
   "id": "f120d6eb-1b97-454e-820d-250b4a218c35",
   "metadata": {
    "tags": []
   },
   "outputs": [
    {
     "data": {
      "text/html": [
       "<div>\n",
       "<style scoped>\n",
       "    .dataframe tbody tr th:only-of-type {\n",
       "        vertical-align: middle;\n",
       "    }\n",
       "\n",
       "    .dataframe tbody tr th {\n",
       "        vertical-align: top;\n",
       "    }\n",
       "\n",
       "    .dataframe thead th {\n",
       "        text-align: right;\n",
       "    }\n",
       "</style>\n",
       "<table border=\"1\" class=\"dataframe\">\n",
       "  <thead>\n",
       "    <tr style=\"text-align: right;\">\n",
       "      <th></th>\n",
       "      <th>name</th>\n",
       "      <th>id</th>\n",
       "      <th>minutes</th>\n",
       "      <th>contributor_id</th>\n",
       "      <th>submitted</th>\n",
       "      <th>tags</th>\n",
       "      <th>nutrition</th>\n",
       "      <th>n_steps</th>\n",
       "      <th>steps</th>\n",
       "      <th>description</th>\n",
       "      <th>ingredients</th>\n",
       "      <th>n_ingredients</th>\n",
       "    </tr>\n",
       "  </thead>\n",
       "  <tbody>\n",
       "    <tr>\n",
       "      <th>0</th>\n",
       "      <td>arriba   baked winter squash mexican style</td>\n",
       "      <td>137739</td>\n",
       "      <td>55</td>\n",
       "      <td>47892</td>\n",
       "      <td>2005-09-16</td>\n",
       "      <td>['60-minutes-or-less', 'time-to-make', 'course...</td>\n",
       "      <td>[51.5, 0.0, 13.0, 0.0, 2.0, 0.0, 4.0]</td>\n",
       "      <td>11</td>\n",
       "      <td>['make a choice and proceed with recipe', 'dep...</td>\n",
       "      <td>autumn is my favorite time of year to cook! th...</td>\n",
       "      <td>['winter squash', 'mexican seasoning', 'mixed ...</td>\n",
       "      <td>7</td>\n",
       "    </tr>\n",
       "    <tr>\n",
       "      <th>1</th>\n",
       "      <td>a bit different  breakfast pizza</td>\n",
       "      <td>31490</td>\n",
       "      <td>30</td>\n",
       "      <td>26278</td>\n",
       "      <td>2002-06-17</td>\n",
       "      <td>['30-minutes-or-less', 'time-to-make', 'course...</td>\n",
       "      <td>[173.4, 18.0, 0.0, 17.0, 22.0, 35.0, 1.0]</td>\n",
       "      <td>9</td>\n",
       "      <td>['preheat oven to 425 degrees f', 'press dough...</td>\n",
       "      <td>this recipe calls for the crust to be prebaked...</td>\n",
       "      <td>['prepared pizza crust', 'sausage patty', 'egg...</td>\n",
       "      <td>6</td>\n",
       "    </tr>\n",
       "    <tr>\n",
       "      <th>2</th>\n",
       "      <td>all in the kitchen  chili</td>\n",
       "      <td>112140</td>\n",
       "      <td>130</td>\n",
       "      <td>196586</td>\n",
       "      <td>2005-02-25</td>\n",
       "      <td>['time-to-make', 'course', 'preparation', 'mai...</td>\n",
       "      <td>[269.8, 22.0, 32.0, 48.0, 39.0, 27.0, 5.0]</td>\n",
       "      <td>6</td>\n",
       "      <td>['brown ground beef in large pot', 'add choppe...</td>\n",
       "      <td>this modified version of 'mom's' chili was a h...</td>\n",
       "      <td>['ground beef', 'yellow onions', 'diced tomato...</td>\n",
       "      <td>13</td>\n",
       "    </tr>\n",
       "    <tr>\n",
       "      <th>3</th>\n",
       "      <td>alouette  potatoes</td>\n",
       "      <td>59389</td>\n",
       "      <td>45</td>\n",
       "      <td>68585</td>\n",
       "      <td>2003-04-14</td>\n",
       "      <td>['60-minutes-or-less', 'time-to-make', 'course...</td>\n",
       "      <td>[368.1, 17.0, 10.0, 2.0, 14.0, 8.0, 20.0]</td>\n",
       "      <td>11</td>\n",
       "      <td>['place potatoes in a large pot of lightly sal...</td>\n",
       "      <td>this is a super easy, great tasting, make ahea...</td>\n",
       "      <td>['spreadable cheese with garlic and herbs', 'n...</td>\n",
       "      <td>11</td>\n",
       "    </tr>\n",
       "    <tr>\n",
       "      <th>4</th>\n",
       "      <td>amish  tomato ketchup  for canning</td>\n",
       "      <td>44061</td>\n",
       "      <td>190</td>\n",
       "      <td>41706</td>\n",
       "      <td>2002-10-25</td>\n",
       "      <td>['weeknight', 'time-to-make', 'course', 'main-...</td>\n",
       "      <td>[352.9, 1.0, 337.0, 23.0, 3.0, 0.0, 28.0]</td>\n",
       "      <td>5</td>\n",
       "      <td>['mix all ingredients&amp; boil for 2 1 / 2 hours ...</td>\n",
       "      <td>my dh's amish mother raised him on this recipe...</td>\n",
       "      <td>['tomato juice', 'apple cider vinegar', 'sugar...</td>\n",
       "      <td>8</td>\n",
       "    </tr>\n",
       "  </tbody>\n",
       "</table>\n",
       "</div>"
      ],
      "text/plain": [
       "                                         name      id  minutes  \\\n",
       "0  arriba   baked winter squash mexican style  137739       55   \n",
       "1            a bit different  breakfast pizza   31490       30   \n",
       "2                   all in the kitchen  chili  112140      130   \n",
       "3                          alouette  potatoes   59389       45   \n",
       "4          amish  tomato ketchup  for canning   44061      190   \n",
       "\n",
       "   contributor_id   submitted  \\\n",
       "0           47892  2005-09-16   \n",
       "1           26278  2002-06-17   \n",
       "2          196586  2005-02-25   \n",
       "3           68585  2003-04-14   \n",
       "4           41706  2002-10-25   \n",
       "\n",
       "                                                tags  \\\n",
       "0  ['60-minutes-or-less', 'time-to-make', 'course...   \n",
       "1  ['30-minutes-or-less', 'time-to-make', 'course...   \n",
       "2  ['time-to-make', 'course', 'preparation', 'mai...   \n",
       "3  ['60-minutes-or-less', 'time-to-make', 'course...   \n",
       "4  ['weeknight', 'time-to-make', 'course', 'main-...   \n",
       "\n",
       "                                    nutrition  n_steps  \\\n",
       "0       [51.5, 0.0, 13.0, 0.0, 2.0, 0.0, 4.0]       11   \n",
       "1   [173.4, 18.0, 0.0, 17.0, 22.0, 35.0, 1.0]        9   \n",
       "2  [269.8, 22.0, 32.0, 48.0, 39.0, 27.0, 5.0]        6   \n",
       "3   [368.1, 17.0, 10.0, 2.0, 14.0, 8.0, 20.0]       11   \n",
       "4   [352.9, 1.0, 337.0, 23.0, 3.0, 0.0, 28.0]        5   \n",
       "\n",
       "                                               steps  \\\n",
       "0  ['make a choice and proceed with recipe', 'dep...   \n",
       "1  ['preheat oven to 425 degrees f', 'press dough...   \n",
       "2  ['brown ground beef in large pot', 'add choppe...   \n",
       "3  ['place potatoes in a large pot of lightly sal...   \n",
       "4  ['mix all ingredients& boil for 2 1 / 2 hours ...   \n",
       "\n",
       "                                         description  \\\n",
       "0  autumn is my favorite time of year to cook! th...   \n",
       "1  this recipe calls for the crust to be prebaked...   \n",
       "2  this modified version of 'mom's' chili was a h...   \n",
       "3  this is a super easy, great tasting, make ahea...   \n",
       "4  my dh's amish mother raised him on this recipe...   \n",
       "\n",
       "                                         ingredients  n_ingredients  \n",
       "0  ['winter squash', 'mexican seasoning', 'mixed ...              7  \n",
       "1  ['prepared pizza crust', 'sausage patty', 'egg...              6  \n",
       "2  ['ground beef', 'yellow onions', 'diced tomato...             13  \n",
       "3  ['spreadable cheese with garlic and herbs', 'n...             11  \n",
       "4  ['tomato juice', 'apple cider vinegar', 'sugar...              8  "
      ]
     },
     "execution_count": 8,
     "metadata": {},
     "output_type": "execute_result"
    }
   ],
   "source": [
    "data6.head(5)"
   ]
  },
  {
   "cell_type": "code",
   "execution_count": 9,
   "id": "36e3c23b-4e07-450a-a58c-9f0b0cd8bfa7",
   "metadata": {
    "tags": []
   },
   "outputs": [
    {
     "data": {
      "text/plain": [
       "array([\"['winter squash', 'mexican seasoning', 'mixed spice', 'honey', 'butter', 'olive oil', 'salt']\",\n",
       "       \"['prepared pizza crust', 'sausage patty', 'eggs', 'milk', 'salt and pepper', 'cheese']\",\n",
       "       \"['ground beef', 'yellow onions', 'diced tomatoes', 'tomato paste', 'tomato soup', 'rotel tomatoes', 'kidney beans', 'water', 'chili powder', 'ground cumin', 'salt', 'lettuce', 'cheddar cheese']\",\n",
       "       ...,\n",
       "       \"['hard-cooked eggs', 'mayonnaise', 'dijon mustard', 'salt-free cajun seasoning', 'tabasco sauce', 'salt', 'black pepper', 'fresh italian parsley']\",\n",
       "       \"['butter', 'eagle brand condensed milk', 'light brown sugar', 'sour cream', 'egg', 'extract', 'nutmeg', 'self-rising flour', 'bisquick', 'wooden popsicle sticks']\",\n",
       "       \"['granulated sugar', 'shortening', 'eggs', 'flour', 'cream of tartar', 'baking soda', 'vanilla extract']\"],\n",
       "      dtype=object)"
      ]
     },
     "execution_count": 9,
     "metadata": {},
     "output_type": "execute_result"
    }
   ],
   "source": [
    "ingredientes_unicos = data6['ingredients'].unique()\n",
    "ingredientes_unicos"
   ]
  },
  {
   "cell_type": "code",
   "execution_count": 10,
   "id": "83b1e54b-6041-472b-ab63-80fdda13b158",
   "metadata": {
    "tags": []
   },
   "outputs": [
    {
     "data": {
      "text/plain": [
       "array(['[51.5, 0.0, 13.0, 0.0, 2.0, 0.0, 4.0]',\n",
       "       '[173.4, 18.0, 0.0, 17.0, 22.0, 35.0, 1.0]',\n",
       "       '[269.8, 22.0, 32.0, 48.0, 39.0, 27.0, 5.0]', ...,\n",
       "       '[59.2, 6.0, 2.0, 3.0, 6.0, 5.0, 0.0]',\n",
       "       '[188.0, 11.0, 57.0, 11.0, 7.0, 21.0, 9.0]',\n",
       "       '[174.9, 14.0, 33.0, 4.0, 4.0, 11.0, 6.0]'], dtype=object)"
      ]
     },
     "execution_count": 10,
     "metadata": {},
     "output_type": "execute_result"
    }
   ],
   "source": [
    "nutrientes_unicos = data6['nutrition'].unique()\n",
    "nutrientes_unicos"
   ]
  },
  {
   "cell_type": "code",
   "execution_count": 11,
   "id": "fadbfb15-291f-47ed-9b89-7159b38de065",
   "metadata": {
    "tags": []
   },
   "outputs": [],
   "source": [
    "ingredientes_unicos = data6['ingredients'].str.strip(\"[]\").str.replace(\"'\", \"\").str.split(\", \", expand=True).stack().unique()\n",
    "\n",
    "# Crear un nuevo DataFrame con los ingredientes únicos\n",
    "tabla_ingredientes = pd.DataFrame({'ingredientes': ingredientes_unicos})"
   ]
  },
  {
   "cell_type": "code",
   "execution_count": 12,
   "id": "7556b070-0073-499e-9886-ef3129302cbc",
   "metadata": {
    "tags": []
   },
   "outputs": [
    {
     "data": {
      "text/html": [
       "<div>\n",
       "<style scoped>\n",
       "    .dataframe tbody tr th:only-of-type {\n",
       "        vertical-align: middle;\n",
       "    }\n",
       "\n",
       "    .dataframe tbody tr th {\n",
       "        vertical-align: top;\n",
       "    }\n",
       "\n",
       "    .dataframe thead th {\n",
       "        text-align: right;\n",
       "    }\n",
       "</style>\n",
       "<table border=\"1\" class=\"dataframe\">\n",
       "  <thead>\n",
       "    <tr style=\"text-align: right;\">\n",
       "      <th></th>\n",
       "      <th>ingredientes</th>\n",
       "    </tr>\n",
       "  </thead>\n",
       "  <tbody>\n",
       "    <tr>\n",
       "      <th>6361</th>\n",
       "      <td>sugar-free instant banana cream pudding mix</td>\n",
       "    </tr>\n",
       "    <tr>\n",
       "      <th>11132</th>\n",
       "      <td>cilantro paste</td>\n",
       "    </tr>\n",
       "    <tr>\n",
       "      <th>1779</th>\n",
       "      <td>bulgar wheat</td>\n",
       "    </tr>\n",
       "    <tr>\n",
       "      <th>5886</th>\n",
       "      <td>mung dal</td>\n",
       "    </tr>\n",
       "    <tr>\n",
       "      <th>350</th>\n",
       "      <td>rind of</td>\n",
       "    </tr>\n",
       "    <tr>\n",
       "      <th>12215</th>\n",
       "      <td>papadum bread</td>\n",
       "    </tr>\n",
       "    <tr>\n",
       "      <th>14647</th>\n",
       "      <td>ground masticha</td>\n",
       "    </tr>\n",
       "    <tr>\n",
       "      <th>453</th>\n",
       "      <td>whole wheat bread dough</td>\n",
       "    </tr>\n",
       "    <tr>\n",
       "      <th>5391</th>\n",
       "      <td>red pasta sauce</td>\n",
       "    </tr>\n",
       "    <tr>\n",
       "      <th>11676</th>\n",
       "      <td>fruit juice concentrate</td>\n",
       "    </tr>\n",
       "    <tr>\n",
       "      <th>10313</th>\n",
       "      <td>miniature pretzel</td>\n",
       "    </tr>\n",
       "    <tr>\n",
       "      <th>1166</th>\n",
       "      <td>frozen hash brown potatoes</td>\n",
       "    </tr>\n",
       "    <tr>\n",
       "      <th>12851</th>\n",
       "      <td>sweet dumpling squash</td>\n",
       "    </tr>\n",
       "    <tr>\n",
       "      <th>1088</th>\n",
       "      <td>cool whip free</td>\n",
       "    </tr>\n",
       "    <tr>\n",
       "      <th>6951</th>\n",
       "      <td>chayotes</td>\n",
       "    </tr>\n",
       "    <tr>\n",
       "      <th>11255</th>\n",
       "      <td>cranberry-raspberry drink</td>\n",
       "    </tr>\n",
       "    <tr>\n",
       "      <th>3654</th>\n",
       "      <td>butterscotch sundae sauce</td>\n",
       "    </tr>\n",
       "    <tr>\n",
       "      <th>3161</th>\n",
       "      <td>fruit jam</td>\n",
       "    </tr>\n",
       "    <tr>\n",
       "      <th>166</th>\n",
       "      <td>tomatoes</td>\n",
       "    </tr>\n",
       "    <tr>\n",
       "      <th>5881</th>\n",
       "      <td>simply potatoes red potato wedges</td>\n",
       "    </tr>\n",
       "    <tr>\n",
       "      <th>8102</th>\n",
       "      <td>tangerine zest</td>\n",
       "    </tr>\n",
       "    <tr>\n",
       "      <th>8997</th>\n",
       "      <td>pork rinds</td>\n",
       "    </tr>\n",
       "    <tr>\n",
       "      <th>1144</th>\n",
       "      <td>butter flavor shortening</td>\n",
       "    </tr>\n",
       "    <tr>\n",
       "      <th>2882</th>\n",
       "      <td>brown lentils</td>\n",
       "    </tr>\n",
       "    <tr>\n",
       "      <th>14668</th>\n",
       "      <td>butter rum syrup</td>\n",
       "    </tr>\n",
       "  </tbody>\n",
       "</table>\n",
       "</div>"
      ],
      "text/plain": [
       "                                      ingredientes\n",
       "6361   sugar-free instant banana cream pudding mix\n",
       "11132                               cilantro paste\n",
       "1779                                  bulgar wheat\n",
       "5886                                      mung dal\n",
       "350                                        rind of\n",
       "12215                                papadum bread\n",
       "14647                              ground masticha\n",
       "453                        whole wheat bread dough\n",
       "5391                               red pasta sauce\n",
       "11676                      fruit juice concentrate\n",
       "10313                            miniature pretzel\n",
       "1166                    frozen hash brown potatoes\n",
       "12851                        sweet dumpling squash\n",
       "1088                                cool whip free\n",
       "6951                                      chayotes\n",
       "11255                    cranberry-raspberry drink\n",
       "3654                     butterscotch sundae sauce\n",
       "3161                                     fruit jam\n",
       "166                                       tomatoes\n",
       "5881             simply potatoes red potato wedges\n",
       "8102                                tangerine zest\n",
       "8997                                    pork rinds\n",
       "1144                      butter flavor shortening\n",
       "2882                                 brown lentils\n",
       "14668                             butter rum syrup"
      ]
     },
     "execution_count": 12,
     "metadata": {},
     "output_type": "execute_result"
    }
   ],
   "source": [
    "tabla_ingredientes.sample(25)"
   ]
  },
  {
   "cell_type": "code",
   "execution_count": 13,
   "id": "2fe96f88-a0a2-492a-ac90-33c7d64ae35d",
   "metadata": {
    "tags": []
   },
   "outputs": [
    {
     "data": {
      "text/plain": [
       "(14906, 1)"
      ]
     },
     "execution_count": 13,
     "metadata": {},
     "output_type": "execute_result"
    }
   ],
   "source": [
    "tabla_ingredientes.shape"
   ]
  },
  {
   "cell_type": "code",
   "execution_count": 14,
   "id": "bae2b817-f484-4ad4-8949-c05b471d4355",
   "metadata": {
    "tags": []
   },
   "outputs": [],
   "source": [
    "data6['nutrition'] = data6['nutrition'].apply(eval)\n",
    "\n",
    "# Crear nuevas columnas para cada número y valor\n",
    "data6[['calories', 'total_fat_pdv', 'sugar_pdv', 'sodium_pdv', 'protein_pdv', 'saturated_fat', 'carbohydrates']] = pd.DataFrame(data6['nutrition'].tolist(), index=data6.index)\n"
   ]
  },
  {
   "cell_type": "code",
   "execution_count": 15,
   "id": "3232a513-4b35-4944-bfd2-8157a98cb77f",
   "metadata": {
    "tags": []
   },
   "outputs": [],
   "source": [
    "columnas_a_eliminar = ['contributor_id', 'submitted', 'tags','nutrition',]\n",
    "data6 = data6.drop(columnas_a_eliminar, axis=1)\n"
   ]
  },
  {
   "cell_type": "code",
   "execution_count": 16,
   "id": "60ecea7d-f06e-47b8-b5ea-d03dfabac7c7",
   "metadata": {
    "tags": []
   },
   "outputs": [
    {
     "data": {
      "text/html": [
       "<div>\n",
       "<style scoped>\n",
       "    .dataframe tbody tr th:only-of-type {\n",
       "        vertical-align: middle;\n",
       "    }\n",
       "\n",
       "    .dataframe tbody tr th {\n",
       "        vertical-align: top;\n",
       "    }\n",
       "\n",
       "    .dataframe thead th {\n",
       "        text-align: right;\n",
       "    }\n",
       "</style>\n",
       "<table border=\"1\" class=\"dataframe\">\n",
       "  <thead>\n",
       "    <tr style=\"text-align: right;\">\n",
       "      <th></th>\n",
       "      <th>name</th>\n",
       "      <th>id</th>\n",
       "      <th>minutes</th>\n",
       "      <th>n_steps</th>\n",
       "      <th>steps</th>\n",
       "      <th>description</th>\n",
       "      <th>ingredients</th>\n",
       "      <th>n_ingredients</th>\n",
       "      <th>calories</th>\n",
       "      <th>total_fat_pdv</th>\n",
       "      <th>sugar_pdv</th>\n",
       "      <th>sodium_pdv</th>\n",
       "      <th>protein_pdv</th>\n",
       "      <th>saturated_fat</th>\n",
       "      <th>carbohydrates</th>\n",
       "    </tr>\n",
       "  </thead>\n",
       "  <tbody>\n",
       "    <tr>\n",
       "      <th>84507</th>\n",
       "      <td>five can chili</td>\n",
       "      <td>49562</td>\n",
       "      <td>15</td>\n",
       "      <td>3</td>\n",
       "      <td>['in a saucepan , combine all ingredients', 'h...</td>\n",
       "      <td>i came across this recipe in taste of home's q...</td>\n",
       "      <td>['chili with beans', 'mixed vegetables', 'whol...</td>\n",
       "      <td>5</td>\n",
       "      <td>195.5</td>\n",
       "      <td>7.0</td>\n",
       "      <td>32.0</td>\n",
       "      <td>46.0</td>\n",
       "      <td>16.0</td>\n",
       "      <td>9.0</td>\n",
       "      <td>11.0</td>\n",
       "    </tr>\n",
       "  </tbody>\n",
       "</table>\n",
       "</div>"
      ],
      "text/plain": [
       "                 name     id  minutes  n_steps  \\\n",
       "84507  five can chili  49562       15        3   \n",
       "\n",
       "                                                   steps  \\\n",
       "84507  ['in a saucepan , combine all ingredients', 'h...   \n",
       "\n",
       "                                             description  \\\n",
       "84507  i came across this recipe in taste of home's q...   \n",
       "\n",
       "                                             ingredients  n_ingredients  \\\n",
       "84507  ['chili with beans', 'mixed vegetables', 'whol...              5   \n",
       "\n",
       "       calories  total_fat_pdv  sugar_pdv  sodium_pdv  protein_pdv  \\\n",
       "84507     195.5            7.0       32.0        46.0         16.0   \n",
       "\n",
       "       saturated_fat  carbohydrates  \n",
       "84507            9.0           11.0  "
      ]
     },
     "execution_count": 16,
     "metadata": {},
     "output_type": "execute_result"
    }
   ],
   "source": [
    "data6.sample(1)"
   ]
  },
  {
   "cell_type": "code",
   "execution_count": 17,
   "id": "dd70b4cf-670b-49b7-b5f1-da3d60e7ae6b",
   "metadata": {
    "tags": []
   },
   "outputs": [
    {
     "data": {
      "text/html": [
       "<div>\n",
       "<style scoped>\n",
       "    .dataframe tbody tr th:only-of-type {\n",
       "        vertical-align: middle;\n",
       "    }\n",
       "\n",
       "    .dataframe tbody tr th {\n",
       "        vertical-align: top;\n",
       "    }\n",
       "\n",
       "    .dataframe thead th {\n",
       "        text-align: right;\n",
       "    }\n",
       "</style>\n",
       "<table border=\"1\" class=\"dataframe\">\n",
       "  <thead>\n",
       "    <tr style=\"text-align: right;\">\n",
       "      <th></th>\n",
       "      <th>user_id</th>\n",
       "      <th>recipe_id</th>\n",
       "      <th>date</th>\n",
       "      <th>rating</th>\n",
       "      <th>review</th>\n",
       "    </tr>\n",
       "  </thead>\n",
       "  <tbody>\n",
       "    <tr>\n",
       "      <th>287675</th>\n",
       "      <td>296809</td>\n",
       "      <td>59389</td>\n",
       "      <td>2008-06-11</td>\n",
       "      <td>4</td>\n",
       "      <td>This is an excellent, easy-fix side-dish w/ton...</td>\n",
       "    </tr>\n",
       "    <tr>\n",
       "      <th>287676</th>\n",
       "      <td>1232243</td>\n",
       "      <td>59389</td>\n",
       "      <td>2009-04-15</td>\n",
       "      <td>5</td>\n",
       "      <td>This is wonderful and super easy!  I work with...</td>\n",
       "    </tr>\n",
       "  </tbody>\n",
       "</table>\n",
       "</div>"
      ],
      "text/plain": [
       "        user_id  recipe_id        date  rating  \\\n",
       "287675   296809      59389  2008-06-11       4   \n",
       "287676  1232243      59389  2009-04-15       5   \n",
       "\n",
       "                                                   review  \n",
       "287675  This is an excellent, easy-fix side-dish w/ton...  \n",
       "287676  This is wonderful and super easy!  I work with...  "
      ]
     },
     "execution_count": 17,
     "metadata": {},
     "output_type": "execute_result"
    }
   ],
   "source": [
    "fila_deseada = data5[data5['recipe_id'] == 59389]\n",
    "\n",
    "fila_deseada"
   ]
  },
  {
   "cell_type": "code",
   "execution_count": 18,
   "id": "e8686461-6c97-41a3-be5b-4c6ef11a217d",
   "metadata": {
    "tags": []
   },
   "outputs": [],
   "source": [
    "mean_ratings = data5.groupby('recipe_id')['rating'].mean().reset_index()\n",
    "\n",
    "# Fusionar data6 y mean_ratings en data8 utilizando la columna 'recipe_id'\n",
    "data8 = pd.merge(data6, mean_ratings, left_on='id', right_on='recipe_id', how='left')\n",
    "\n",
    "# Renombrar la columna 'rating' para reflejar que ahora es la media de las notas\n",
    "data8.rename(columns={'rating_x': 'original_rating', 'rating_y': 'mean_rating'}, inplace=True)"
   ]
  },
  {
   "cell_type": "code",
   "execution_count": 19,
   "id": "2ce60757-b7a0-45da-a67b-7e335a5f185c",
   "metadata": {
    "tags": []
   },
   "outputs": [
    {
     "data": {
      "text/plain": [
       "Index(['name', 'id', 'minutes', 'n_steps', 'steps', 'description',\n",
       "       'ingredients', 'n_ingredients', 'calories', 'total_fat_pdv',\n",
       "       'sugar_pdv', 'sodium_pdv', 'protein_pdv', 'saturated_fat',\n",
       "       'carbohydrates', 'recipe_id', 'rating'],\n",
       "      dtype='object')"
      ]
     },
     "execution_count": 19,
     "metadata": {},
     "output_type": "execute_result"
    }
   ],
   "source": [
    "data8.columns"
   ]
  },
  {
   "cell_type": "code",
   "execution_count": 20,
   "id": "b362e49f-189c-4347-8de3-f7de3a93594e",
   "metadata": {
    "tags": []
   },
   "outputs": [
    {
     "data": {
      "text/html": [
       "<div>\n",
       "<style scoped>\n",
       "    .dataframe tbody tr th:only-of-type {\n",
       "        vertical-align: middle;\n",
       "    }\n",
       "\n",
       "    .dataframe tbody tr th {\n",
       "        vertical-align: top;\n",
       "    }\n",
       "\n",
       "    .dataframe thead th {\n",
       "        text-align: right;\n",
       "    }\n",
       "</style>\n",
       "<table border=\"1\" class=\"dataframe\">\n",
       "  <thead>\n",
       "    <tr style=\"text-align: right;\">\n",
       "      <th></th>\n",
       "      <th>name</th>\n",
       "      <th>id</th>\n",
       "      <th>minutes</th>\n",
       "      <th>n_steps</th>\n",
       "      <th>steps</th>\n",
       "      <th>description</th>\n",
       "      <th>ingredients</th>\n",
       "      <th>n_ingredients</th>\n",
       "      <th>calories</th>\n",
       "      <th>total_fat_pdv</th>\n",
       "      <th>sugar_pdv</th>\n",
       "      <th>sodium_pdv</th>\n",
       "      <th>protein_pdv</th>\n",
       "      <th>saturated_fat</th>\n",
       "      <th>carbohydrates</th>\n",
       "      <th>recipe_id</th>\n",
       "      <th>rating</th>\n",
       "    </tr>\n",
       "  </thead>\n",
       "  <tbody>\n",
       "    <tr>\n",
       "      <th>132759</th>\n",
       "      <td>meatloaf madness</td>\n",
       "      <td>441188</td>\n",
       "      <td>80</td>\n",
       "      <td>9</td>\n",
       "      <td>['combine all food ingredients into large bowl...</td>\n",
       "      <td>a juicy meatloaf with more flavor than you can...</td>\n",
       "      <td>['ground beef', 'green bell pepper', 'onion', ...</td>\n",
       "      <td>12</td>\n",
       "      <td>404.1</td>\n",
       "      <td>40.0</td>\n",
       "      <td>16.0</td>\n",
       "      <td>9.0</td>\n",
       "      <td>66.0</td>\n",
       "      <td>51.0</td>\n",
       "      <td>2.0</td>\n",
       "      <td>441188</td>\n",
       "      <td>5.0</td>\n",
       "    </tr>\n",
       "  </tbody>\n",
       "</table>\n",
       "</div>"
      ],
      "text/plain": [
       "                    name      id  minutes  n_steps  \\\n",
       "132759  meatloaf madness  441188       80        9   \n",
       "\n",
       "                                                    steps  \\\n",
       "132759  ['combine all food ingredients into large bowl...   \n",
       "\n",
       "                                              description  \\\n",
       "132759  a juicy meatloaf with more flavor than you can...   \n",
       "\n",
       "                                              ingredients  n_ingredients  \\\n",
       "132759  ['ground beef', 'green bell pepper', 'onion', ...             12   \n",
       "\n",
       "        calories  total_fat_pdv  sugar_pdv  sodium_pdv  protein_pdv  \\\n",
       "132759     404.1           40.0       16.0         9.0         66.0   \n",
       "\n",
       "        saturated_fat  carbohydrates  recipe_id  rating  \n",
       "132759           51.0            2.0     441188     5.0  "
      ]
     },
     "execution_count": 20,
     "metadata": {},
     "output_type": "execute_result"
    }
   ],
   "source": [
    "data8.sample(1)"
   ]
  },
  {
   "cell_type": "code",
   "execution_count": 21,
   "id": "87634d57-59b8-4352-b16e-6a59aa9f3e17",
   "metadata": {
    "tags": []
   },
   "outputs": [],
   "source": [
    "correction_dict = {\n",
    "    '[butter': 'butter',\n",
    "    'eggs': 'egg',\n",
    "    # Añade más correcciones según sea necesario\n",
    "}\n",
    "\n",
    "# Función para corregir las palabras en una lista de ingredientes\n",
    "def corregir_palabras(ingredientes):\n",
    "    return [correction_dict.get(ingrediente, ingrediente) for ingrediente in ingredientes]\n",
    "\n",
    "# Aplicar la función de corrección a la columna 'ingredients'\n",
    "data8['ingredients'] = data8['ingredients'].apply(lambda x: corregir_palabras(x.split(', ')))"
   ]
  },
  {
   "cell_type": "code",
   "execution_count": 22,
   "id": "6bef1674-7168-4d75-9e0f-7bbd611e737b",
   "metadata": {
    "tags": []
   },
   "outputs": [],
   "source": [
    "\n",
    "# Usar la función explode para convertir las listas en filas individuales\n",
    "ingredients_df = data8[['recipe_id', 'ingredients']].explode('ingredients')\n",
    "\n",
    "# Crear un DataFrame con los ingredientes únicos y su frecuencia\n",
    "unique_ingredients_df = ingredients_df.groupby('ingredients').agg({'recipe_id': list}).reset_index()\n",
    "unique_ingredients_df['num_recipes_containing_ingredient'] = unique_ingredients_df['recipe_id'].apply(len)\n",
    "\n"
   ]
  },
  {
   "cell_type": "code",
   "execution_count": 23,
   "id": "713ee25b-a8e8-4eee-8e32-359ab56f26c4",
   "metadata": {
    "tags": []
   },
   "outputs": [
    {
     "data": {
      "text/html": [
       "<div>\n",
       "<style scoped>\n",
       "    .dataframe tbody tr th:only-of-type {\n",
       "        vertical-align: middle;\n",
       "    }\n",
       "\n",
       "    .dataframe tbody tr th {\n",
       "        vertical-align: top;\n",
       "    }\n",
       "\n",
       "    .dataframe thead th {\n",
       "        text-align: right;\n",
       "    }\n",
       "</style>\n",
       "<table border=\"1\" class=\"dataframe\">\n",
       "  <thead>\n",
       "    <tr style=\"text-align: right;\">\n",
       "      <th></th>\n",
       "      <th>ingredients</th>\n",
       "      <th>recipe_id</th>\n",
       "      <th>num_recipes_containing_ingredient</th>\n",
       "    </tr>\n",
       "  </thead>\n",
       "  <tbody>\n",
       "    <tr>\n",
       "      <th>0</th>\n",
       "      <td>\"adolph's meat tenderizer\"</td>\n",
       "      <td>[487455, 149141, 382924, 12837]</td>\n",
       "      <td>4</td>\n",
       "    </tr>\n",
       "  </tbody>\n",
       "</table>\n",
       "</div>"
      ],
      "text/plain": [
       "                  ingredients                        recipe_id  \\\n",
       "0  \"adolph's meat tenderizer\"  [487455, 149141, 382924, 12837]   \n",
       "\n",
       "   num_recipes_containing_ingredient  \n",
       "0                                  4  "
      ]
     },
     "execution_count": 23,
     "metadata": {},
     "output_type": "execute_result"
    }
   ],
   "source": [
    "unique_ingredients_df.head(1)"
   ]
  },
  {
   "cell_type": "code",
   "execution_count": 24,
   "id": "519862bf-822c-4b59-a994-c260b24e1a62",
   "metadata": {
    "tags": []
   },
   "outputs": [
    {
     "data": {
      "text/plain": [
       "Index(['ingredients', 'recipe_id', 'num_recipes_containing_ingredient'], dtype='object')"
      ]
     },
     "execution_count": 24,
     "metadata": {},
     "output_type": "execute_result"
    }
   ],
   "source": [
    "unique_ingredients_df.columns"
   ]
  },
  {
   "cell_type": "code",
   "execution_count": 25,
   "id": "ea6ed577-1321-42ea-ada5-551dc968c847",
   "metadata": {
    "tags": []
   },
   "outputs": [
    {
     "data": {
      "text/html": [
       "<div>\n",
       "<style scoped>\n",
       "    .dataframe tbody tr th:only-of-type {\n",
       "        vertical-align: middle;\n",
       "    }\n",
       "\n",
       "    .dataframe tbody tr th {\n",
       "        vertical-align: top;\n",
       "    }\n",
       "\n",
       "    .dataframe thead th {\n",
       "        text-align: right;\n",
       "    }\n",
       "</style>\n",
       "<table border=\"1\" class=\"dataframe\">\n",
       "  <thead>\n",
       "    <tr style=\"text-align: right;\">\n",
       "      <th></th>\n",
       "      <th>name</th>\n",
       "      <th>id</th>\n",
       "      <th>minutes</th>\n",
       "      <th>n_steps</th>\n",
       "      <th>steps</th>\n",
       "      <th>description</th>\n",
       "      <th>ingredients</th>\n",
       "      <th>n_ingredients</th>\n",
       "      <th>calories</th>\n",
       "      <th>total_fat_pdv</th>\n",
       "      <th>sugar_pdv</th>\n",
       "      <th>sodium_pdv</th>\n",
       "      <th>protein_pdv</th>\n",
       "      <th>saturated_fat</th>\n",
       "      <th>carbohydrates</th>\n",
       "      <th>recipe_id</th>\n",
       "      <th>rating</th>\n",
       "    </tr>\n",
       "  </thead>\n",
       "  <tbody>\n",
       "    <tr>\n",
       "      <th>135798</th>\n",
       "      <td>million dollar rice salad</td>\n",
       "      <td>86583</td>\n",
       "      <td>10</td>\n",
       "      <td>5</td>\n",
       "      <td>['combine cream cheese and sugar until smooth'...</td>\n",
       "      <td>grandma's salad that she would make for summer...</td>\n",
       "      <td>[['cream cheese', 'sugar', 'cooked rice', 'mar...</td>\n",
       "      <td>8</td>\n",
       "      <td>633.7</td>\n",
       "      <td>42.0</td>\n",
       "      <td>249.0</td>\n",
       "      <td>6.0</td>\n",
       "      <td>12.0</td>\n",
       "      <td>103.0</td>\n",
       "      <td>31.0</td>\n",
       "      <td>86583</td>\n",
       "      <td>5.0</td>\n",
       "    </tr>\n",
       "  </tbody>\n",
       "</table>\n",
       "</div>"
      ],
      "text/plain": [
       "                             name     id  minutes  n_steps  \\\n",
       "135798  million dollar rice salad  86583       10        5   \n",
       "\n",
       "                                                    steps  \\\n",
       "135798  ['combine cream cheese and sugar until smooth'...   \n",
       "\n",
       "                                              description  \\\n",
       "135798  grandma's salad that she would make for summer...   \n",
       "\n",
       "                                              ingredients  n_ingredients  \\\n",
       "135798  [['cream cheese', 'sugar', 'cooked rice', 'mar...              8   \n",
       "\n",
       "        calories  total_fat_pdv  sugar_pdv  sodium_pdv  protein_pdv  \\\n",
       "135798     633.7           42.0      249.0         6.0         12.0   \n",
       "\n",
       "        saturated_fat  carbohydrates  recipe_id  rating  \n",
       "135798          103.0           31.0      86583     5.0  "
      ]
     },
     "execution_count": 25,
     "metadata": {},
     "output_type": "execute_result"
    }
   ],
   "source": [
    "data8.sample(1)"
   ]
  },
  {
   "cell_type": "code",
   "execution_count": 26,
   "id": "3987d4d0-f84a-4b8a-84bc-26ee7540e3f9",
   "metadata": {
    "tags": []
   },
   "outputs": [
    {
     "name": "stdout",
     "output_type": "stream",
     "text": [
      "Columna 'name' data type: [<class 'str'> <class 'float'>]\n",
      "Columna 'id' data type: [<class 'int'>]\n",
      "Columna 'minutes' data type: [<class 'int'>]\n",
      "Columna 'n_steps' data type: [<class 'int'>]\n",
      "Columna 'steps' data type: [<class 'str'>]\n",
      "Columna 'description' data type: [<class 'str'> <class 'float'>]\n",
      "Columna 'ingredients' data type: [<class 'list'>]\n",
      "Columna 'n_ingredients' data type: [<class 'int'>]\n",
      "Columna 'calories' data type: [<class 'float'>]\n",
      "Columna 'total_fat_pdv' data type: [<class 'float'>]\n",
      "Columna 'sugar_pdv' data type: [<class 'float'>]\n",
      "Columna 'sodium_pdv' data type: [<class 'float'>]\n",
      "Columna 'protein_pdv' data type: [<class 'float'>]\n",
      "Columna 'saturated_fat' data type: [<class 'float'>]\n",
      "Columna 'carbohydrates' data type: [<class 'float'>]\n",
      "Columna 'recipe_id' data type: [<class 'int'>]\n",
      "Columna 'rating' data type: [<class 'float'>]\n"
     ]
    }
   ],
   "source": [
    "for column in data8.columns:\n",
    "    column_type = data8[column].apply(type).unique()\n",
    "    print(f\"Columna '{column}' data type: {column_type}\")"
   ]
  },
  {
   "cell_type": "code",
   "execution_count": 27,
   "id": "af7cf5a1-5df6-4ad1-b0d5-1dbda1bc9fc9",
   "metadata": {
    "tags": []
   },
   "outputs": [],
   "source": [
    "data8 = data8.dropna(subset=['name'])\n"
   ]
  },
  {
   "cell_type": "code",
   "execution_count": 28,
   "id": "1c120c70-7290-4480-9011-8a021ce191cb",
   "metadata": {
    "tags": []
   },
   "outputs": [],
   "source": [
    "data8['description'] = data8['description'].fillna('There is no description')"
   ]
  },
  {
   "cell_type": "code",
   "execution_count": 29,
   "id": "29852b5e-7097-4f25-99f5-d938774595b9",
   "metadata": {
    "tags": []
   },
   "outputs": [
    {
     "name": "stdout",
     "output_type": "stream",
     "text": [
      "There are 2528662 duplicates. Also;\n",
      "               Duplicates  NaNValues  EmptySpaces\n",
      "name                 1451          0            0\n",
      "id                      0          0            0\n",
      "minutes            230748          0            0\n",
      "n_steps            231542          0            0\n",
      "steps                 563          0            0\n",
      "description          8968          0            0\n",
      "ingredients          1162          0            0\n",
      "n_ingredients      231595          0            0\n",
      "calories           210158          0            0\n",
      "total_fat_pdv      230716          0            0\n",
      "sugar_pdv          229187          0            0\n",
      "sodium_pdv         230746          0            0\n",
      "protein_pdv        231004          0            0\n",
      "saturated_fat      230439          0            0\n",
      "carbohydrates      231123          0            0\n",
      "recipe_id               0          0            0\n",
      "rating             229260          0            0\n"
     ]
    }
   ],
   "source": [
    "def explore_data(data):\n",
    "    # Inicializa listas para almacenar resultados por columna\n",
    "    duplicates_list = []\n",
    "    nan_values_list = []\n",
    "    empty_spaces_list = []\n",
    "\n",
    "    # Itera sobre las columnas del DataFrame\n",
    "    for column in data.columns:\n",
    "        # Encuentra y cuenta duplicados basados en la representación de cadenas (excepto listas)\n",
    "        duplicates = data[column].astype(str).duplicated().sum()\n",
    "        duplicates_list.append(duplicates)\n",
    "\n",
    "        # Encuentra y cuenta valores NaN (teniendo en cuenta listas)\n",
    "        nan_values = data[column].apply(lambda x: any(pd.isna(y) for y in x) if isinstance(x, list) else pd.isna(x)).sum()\n",
    "        nan_values_list.append(nan_values)\n",
    "\n",
    "        # Encuentra y cuenta espacios en blanco (teniendo en cuenta listas)\n",
    "        empty_spaces = data[column].apply(lambda x: any(y == ' ' for y in x) if isinstance(x, list) else x == ' ').sum()\n",
    "        empty_spaces_list.append(empty_spaces)\n",
    "\n",
    "    # Nuevo DataFrame con los resultados\n",
    "    exploration = pd.DataFrame({\"Duplicates\": duplicates_list, \"NaNValues\": nan_values_list, \"EmptySpaces\": empty_spaces_list}, index=data.columns)\n",
    "\n",
    "    # Muestra los resultados\n",
    "    print(f\"There are {sum(duplicates_list)} duplicates. Also;\")\n",
    "    \n",
    "    return exploration\n",
    "\n",
    "# Ejemplo de uso con tu DataFrame data8\n",
    "explore_data_result = explore_data(data8)\n",
    "print(explore_data_result)"
   ]
  },
  {
   "cell_type": "code",
   "execution_count": 30,
   "id": "9dea56b7-722b-48c2-90c0-b9abac4f9b0c",
   "metadata": {
    "tags": []
   },
   "outputs": [
    {
     "data": {
      "text/plain": [
       "Index(['ingredients', 'recipe_id', 'num_recipes_containing_ingredient'], dtype='object')"
      ]
     },
     "execution_count": 30,
     "metadata": {},
     "output_type": "execute_result"
    }
   ],
   "source": [
    "unique_ingredients_df.columns"
   ]
  },
  {
   "cell_type": "code",
   "execution_count": 31,
   "id": "2a49963c-86a0-4e98-8350-803b3ec5037b",
   "metadata": {
    "tags": []
   },
   "outputs": [
    {
     "data": {
      "text/plain": [
       "Index(['name', 'id', 'minutes', 'n_steps', 'steps', 'description',\n",
       "       'ingredients', 'n_ingredients', 'calories', 'total_fat_pdv',\n",
       "       'sugar_pdv', 'sodium_pdv', 'protein_pdv', 'saturated_fat',\n",
       "       'carbohydrates', 'recipe_id', 'rating'],\n",
       "      dtype='object')"
      ]
     },
     "execution_count": 31,
     "metadata": {},
     "output_type": "execute_result"
    }
   ],
   "source": [
    "data8.columns\n"
   ]
  },
  {
   "cell_type": "code",
   "execution_count": 32,
   "id": "e17f49e8-b844-4b24-b6a4-74e8873d0a0a",
   "metadata": {
    "tags": []
   },
   "outputs": [
    {
     "name": "stdin",
     "output_type": "stream",
     "text": [
      "Ingrese los ingredientes disponibles separados por coma:  egg, milk \n"
     ]
    },
    {
     "data": {
      "text/html": [
       "<div>\n",
       "<style scoped>\n",
       "    .dataframe tbody tr th:only-of-type {\n",
       "        vertical-align: middle;\n",
       "    }\n",
       "\n",
       "    .dataframe tbody tr th {\n",
       "        vertical-align: top;\n",
       "    }\n",
       "\n",
       "    .dataframe thead th {\n",
       "        text-align: right;\n",
       "    }\n",
       "</style>\n",
       "<table border=\"1\" class=\"dataframe\">\n",
       "  <thead>\n",
       "    <tr style=\"text-align: right;\">\n",
       "      <th></th>\n",
       "      <th>name</th>\n",
       "      <th>recipe_id</th>\n",
       "      <th>rating</th>\n",
       "      <th>minutes</th>\n",
       "      <th>steps</th>\n",
       "      <th>description</th>\n",
       "      <th>calories</th>\n",
       "      <th>total_fat_pdv</th>\n",
       "      <th>sugar_pdv</th>\n",
       "      <th>sodium_pdv</th>\n",
       "      <th>protein_pdv</th>\n",
       "      <th>saturated_fat</th>\n",
       "      <th>carbohydrates</th>\n",
       "    </tr>\n",
       "  </thead>\n",
       "  <tbody>\n",
       "    <tr>\n",
       "      <th>111830</th>\n",
       "      <td>irish cream white chocolate cheesecake</td>\n",
       "      <td>35597</td>\n",
       "      <td>5.0</td>\n",
       "      <td>65</td>\n",
       "      <td>['break the white chocolate into pieces', 'pre...</td>\n",
       "      <td>a incredible cheesecake! 8) you may add a litt...</td>\n",
       "      <td>7278.2</td>\n",
       "      <td>887.0</td>\n",
       "      <td>1412.0</td>\n",
       "      <td>126.0</td>\n",
       "      <td>224.0</td>\n",
       "      <td>1436.0</td>\n",
       "      <td>144.0</td>\n",
       "    </tr>\n",
       "  </tbody>\n",
       "</table>\n",
       "</div>"
      ],
      "text/plain": [
       "                                          name  recipe_id  rating  minutes  \\\n",
       "111830  irish cream white chocolate cheesecake      35597     5.0       65   \n",
       "\n",
       "                                                    steps  \\\n",
       "111830  ['break the white chocolate into pieces', 'pre...   \n",
       "\n",
       "                                              description  calories  \\\n",
       "111830  a incredible cheesecake! 8) you may add a litt...    7278.2   \n",
       "\n",
       "        total_fat_pdv  sugar_pdv  sodium_pdv  protein_pdv  saturated_fat  \\\n",
       "111830          887.0     1412.0       126.0        224.0         1436.0   \n",
       "\n",
       "        carbohydrates  \n",
       "111830          144.0  "
      ]
     },
     "execution_count": 32,
     "metadata": {},
     "output_type": "execute_result"
    }
   ],
   "source": [
    "# Interfaz de línea de comandos para que el usuario ingrese los ingredientes disponibles\n",
    "ingredientes_disponibles = input(\"Ingrese los ingredientes disponibles separados por coma: \").split(',')\n",
    "ingredientes_disponibles = [ingrediente.strip() for ingrediente in ingredientes_disponibles]\n",
    "\n",
    "# Filtrar el DataFrame para encontrar recetas que contienen al menos uno de los ingredientes proporcionados\n",
    "recetas = set()\n",
    "for ingrediente in ingredientes_disponibles:\n",
    "    # Convertir la entrada del usuario en minúsculas y eliminar comillas y otros caracteres no deseados\n",
    "    ingrediente_limpio = ingrediente.lower().replace(\"'\", \"\").strip()\n",
    "    \n",
    "    # Filtrar el DataFrame para encontrar recetas que contienen el ingrediente\n",
    "    recetas_ingrediente = unique_ingredients_df[unique_ingredients_df['ingredients'].str.lower().str.contains(ingrediente_limpio)]['recipe_id']\n",
    "    \n",
    "    # Convertir cada lista de recipe_id en un conjunto antes de agregarlo al conjunto de recetas\n",
    "    for ids in recetas_ingrediente:\n",
    "        recetas.update(set(ids))\n",
    "\n",
    "# Filtrar las recetas encontradas por los ingredientes proporcionados\n",
    "recetas_encontradas = data8[data8['recipe_id'].isin(recetas)]\n",
    "\n",
    "# Presentar los resultados al usuario\n",
    "if recetas_encontradas.empty:\n",
    "    print(\"Lo siento, no se encontraron recetas con los ingredientes proporcionados.\")\n",
    "else:\n",
    "    # Seleccionar las columnas deseadas del DataFrame recetas_encontradas\n",
    "    recetas_para_mostrar = recetas_encontradas.loc[:, ['name','recipe_id', 'rating', 'minutes', 'steps', 'description','calories','total_fat_pdv', 'sugar_pdv', 'sodium_pdv', 'protein_pdv', 'saturated_fat', 'carbohydrates']]\n",
    "    \n",
    "    # Ordenar las recetas según su rating de mayor a menor y luego mostrar las primeras 10\n",
    "    recetas_ordenadas = recetas_para_mostrar.sort_values(by='rating', ascending=False)\n",
    "recetas_ordenadas.head(1)"
   ]
  },
  {
   "cell_type": "code",
   "execution_count": 33,
   "id": "8a7e4a5b-74fd-4d68-a9d0-20273a33894b",
   "metadata": {
    "tags": []
   },
   "outputs": [
    {
     "data": {
      "text/html": [
       "<div>\n",
       "<style scoped>\n",
       "    .dataframe tbody tr th:only-of-type {\n",
       "        vertical-align: middle;\n",
       "    }\n",
       "\n",
       "    .dataframe tbody tr th {\n",
       "        vertical-align: top;\n",
       "    }\n",
       "\n",
       "    .dataframe thead th {\n",
       "        text-align: right;\n",
       "    }\n",
       "</style>\n",
       "<table border=\"1\" class=\"dataframe\">\n",
       "  <thead>\n",
       "    <tr style=\"text-align: right;\">\n",
       "      <th></th>\n",
       "      <th>user_id</th>\n",
       "      <th>recipe_id</th>\n",
       "      <th>date</th>\n",
       "      <th>rating_x</th>\n",
       "      <th>review</th>\n",
       "      <th>name</th>\n",
       "      <th>id</th>\n",
       "      <th>minutes</th>\n",
       "      <th>n_steps</th>\n",
       "      <th>steps</th>\n",
       "      <th>...</th>\n",
       "      <th>ingredients</th>\n",
       "      <th>n_ingredients</th>\n",
       "      <th>calories</th>\n",
       "      <th>total_fat_pdv</th>\n",
       "      <th>sugar_pdv</th>\n",
       "      <th>sodium_pdv</th>\n",
       "      <th>protein_pdv</th>\n",
       "      <th>saturated_fat</th>\n",
       "      <th>carbohydrates</th>\n",
       "      <th>rating_y</th>\n",
       "    </tr>\n",
       "  </thead>\n",
       "  <tbody>\n",
       "    <tr>\n",
       "      <th>736295</th>\n",
       "      <td>46545</td>\n",
       "      <td>36931</td>\n",
       "      <td>2002-08-14</td>\n",
       "      <td>0</td>\n",
       "      <td>Oh my gosh!  I eat something similar to this o...</td>\n",
       "      <td>baked beans on toast au fromage</td>\n",
       "      <td>36931</td>\n",
       "      <td>10</td>\n",
       "      <td>5</td>\n",
       "      <td>['heat beans', 'toast bread , spread with butt...</td>\n",
       "      <td>...</td>\n",
       "      <td>[['bread', 'butter', 'vegetarian baked beans',...</td>\n",
       "      <td>4</td>\n",
       "      <td>609.7</td>\n",
       "      <td>34.0</td>\n",
       "      <td>100.0</td>\n",
       "      <td>74.0</td>\n",
       "      <td>54.0</td>\n",
       "      <td>64.0</td>\n",
       "      <td>27.0</td>\n",
       "      <td>2.500000</td>\n",
       "    </tr>\n",
       "    <tr>\n",
       "      <th>455080</th>\n",
       "      <td>65955</td>\n",
       "      <td>84286</td>\n",
       "      <td>2004-08-02</td>\n",
       "      <td>5</td>\n",
       "      <td>Shelly, this is fabulous! I subbed Cojita chee...</td>\n",
       "      <td>shelly s cilantro feta dip</td>\n",
       "      <td>84286</td>\n",
       "      <td>40</td>\n",
       "      <td>7</td>\n",
       "      <td>['optional: place feta and milk in bowl', 'cov...</td>\n",
       "      <td>...</td>\n",
       "      <td>[['feta cheese', 'milk', 'cream cheese', 'gree...</td>\n",
       "      <td>6</td>\n",
       "      <td>1181.3</td>\n",
       "      <td>154.0</td>\n",
       "      <td>92.0</td>\n",
       "      <td>142.0</td>\n",
       "      <td>76.0</td>\n",
       "      <td>305.0</td>\n",
       "      <td>11.0</td>\n",
       "      <td>4.266667</td>\n",
       "    </tr>\n",
       "    <tr>\n",
       "      <th>609943</th>\n",
       "      <td>50778</td>\n",
       "      <td>50082</td>\n",
       "      <td>2003-09-15</td>\n",
       "      <td>5</td>\n",
       "      <td>Made the basic recipe (didn't use the almonds ...</td>\n",
       "      <td>baked leftover turkey salad hot dish or sandwi...</td>\n",
       "      <td>50082</td>\n",
       "      <td>50</td>\n",
       "      <td>9</td>\n",
       "      <td>['heat oven to 350f', 'in a medium mixing bowl...</td>\n",
       "      <td>...</td>\n",
       "      <td>[['cooked turkey', 'celery', 'almonds', 'onion...</td>\n",
       "      <td>18</td>\n",
       "      <td>347.6</td>\n",
       "      <td>34.0</td>\n",
       "      <td>8.0</td>\n",
       "      <td>15.0</td>\n",
       "      <td>59.0</td>\n",
       "      <td>40.0</td>\n",
       "      <td>2.0</td>\n",
       "      <td>5.000000</td>\n",
       "    </tr>\n",
       "    <tr>\n",
       "      <th>637539</th>\n",
       "      <td>2000263901</td>\n",
       "      <td>467039</td>\n",
       "      <td>2015-06-12</td>\n",
       "      <td>5</td>\n",
       "      <td>Absolutely wonderful! I added chopped onion an...</td>\n",
       "      <td>completely different tuna   egg salad  no mayo</td>\n",
       "      <td>467039</td>\n",
       "      <td>10</td>\n",
       "      <td>5</td>\n",
       "      <td>['combine tuna , eggs , capers , pepper , onio...</td>\n",
       "      <td>...</td>\n",
       "      <td>[['tuna in water', 'hard-boiled eggs', 'capers...</td>\n",
       "      <td>10</td>\n",
       "      <td>219.1</td>\n",
       "      <td>18.0</td>\n",
       "      <td>3.0</td>\n",
       "      <td>28.0</td>\n",
       "      <td>48.0</td>\n",
       "      <td>14.0</td>\n",
       "      <td>0.0</td>\n",
       "      <td>4.600000</td>\n",
       "    </tr>\n",
       "    <tr>\n",
       "      <th>929845</th>\n",
       "      <td>340130</td>\n",
       "      <td>149844</td>\n",
       "      <td>2007-06-11</td>\n",
       "      <td>5</td>\n",
       "      <td>Yum-oh- easy AND healthy now thats a great rec...</td>\n",
       "      <td>healthy oven fries</td>\n",
       "      <td>149844</td>\n",
       "      <td>40</td>\n",
       "      <td>8</td>\n",
       "      <td>['combine the beaten egg white , paprika , gar...</td>\n",
       "      <td>...</td>\n",
       "      <td>[['baking potato', 'egg white', 'paprika', 'ga...</td>\n",
       "      <td>6</td>\n",
       "      <td>162.4</td>\n",
       "      <td>1.0</td>\n",
       "      <td>8.0</td>\n",
       "      <td>1.0</td>\n",
       "      <td>11.0</td>\n",
       "      <td>0.0</td>\n",
       "      <td>11.0</td>\n",
       "      <td>4.300000</td>\n",
       "    </tr>\n",
       "  </tbody>\n",
       "</table>\n",
       "<p>5 rows × 21 columns</p>\n",
       "</div>"
      ],
      "text/plain": [
       "           user_id  recipe_id        date  rating_x  \\\n",
       "736295       46545      36931  2002-08-14         0   \n",
       "455080       65955      84286  2004-08-02         5   \n",
       "609943       50778      50082  2003-09-15         5   \n",
       "637539  2000263901     467039  2015-06-12         5   \n",
       "929845      340130     149844  2007-06-11         5   \n",
       "\n",
       "                                                   review  \\\n",
       "736295  Oh my gosh!  I eat something similar to this o...   \n",
       "455080  Shelly, this is fabulous! I subbed Cojita chee...   \n",
       "609943  Made the basic recipe (didn't use the almonds ...   \n",
       "637539  Absolutely wonderful! I added chopped onion an...   \n",
       "929845  Yum-oh- easy AND healthy now thats a great rec...   \n",
       "\n",
       "                                                     name      id  minutes  \\\n",
       "736295                    baked beans on toast au fromage   36931       10   \n",
       "455080                         shelly s cilantro feta dip   84286       40   \n",
       "609943  baked leftover turkey salad hot dish or sandwi...   50082       50   \n",
       "637539     completely different tuna   egg salad  no mayo  467039       10   \n",
       "929845                                 healthy oven fries  149844       40   \n",
       "\n",
       "        n_steps                                              steps  ...  \\\n",
       "736295        5  ['heat beans', 'toast bread , spread with butt...  ...   \n",
       "455080        7  ['optional: place feta and milk in bowl', 'cov...  ...   \n",
       "609943        9  ['heat oven to 350f', 'in a medium mixing bowl...  ...   \n",
       "637539        5  ['combine tuna , eggs , capers , pepper , onio...  ...   \n",
       "929845        8  ['combine the beaten egg white , paprika , gar...  ...   \n",
       "\n",
       "                                              ingredients n_ingredients  \\\n",
       "736295  [['bread', 'butter', 'vegetarian baked beans',...             4   \n",
       "455080  [['feta cheese', 'milk', 'cream cheese', 'gree...             6   \n",
       "609943  [['cooked turkey', 'celery', 'almonds', 'onion...            18   \n",
       "637539  [['tuna in water', 'hard-boiled eggs', 'capers...            10   \n",
       "929845  [['baking potato', 'egg white', 'paprika', 'ga...             6   \n",
       "\n",
       "        calories  total_fat_pdv  sugar_pdv  sodium_pdv  protein_pdv  \\\n",
       "736295     609.7           34.0      100.0        74.0         54.0   \n",
       "455080    1181.3          154.0       92.0       142.0         76.0   \n",
       "609943     347.6           34.0        8.0        15.0         59.0   \n",
       "637539     219.1           18.0        3.0        28.0         48.0   \n",
       "929845     162.4            1.0        8.0         1.0         11.0   \n",
       "\n",
       "        saturated_fat  carbohydrates  rating_y  \n",
       "736295           64.0           27.0  2.500000  \n",
       "455080          305.0           11.0  4.266667  \n",
       "609943           40.0            2.0  5.000000  \n",
       "637539           14.0            0.0  4.600000  \n",
       "929845            0.0           11.0  4.300000  \n",
       "\n",
       "[5 rows x 21 columns]"
      ]
     },
     "execution_count": 33,
     "metadata": {},
     "output_type": "execute_result"
    }
   ],
   "source": [
    "merged_df = pd.merge(data5, data8, on='recipe_id')\n",
    "merged_df.sample(5)"
   ]
  },
  {
   "cell_type": "code",
   "execution_count": 34,
   "id": "96f2fa4a-f7a4-4b22-8f74-c8b4b7b6d096",
   "metadata": {
    "tags": []
   },
   "outputs": [
    {
     "data": {
      "text/plain": [
       "(1132366, 21)"
      ]
     },
     "execution_count": 34,
     "metadata": {},
     "output_type": "execute_result"
    }
   ],
   "source": [
    "merged_df.shape"
   ]
  },
  {
   "cell_type": "code",
   "execution_count": 35,
   "id": "ec85c2c8-7bb3-46a2-a025-ab4eb5771dda",
   "metadata": {
    "tags": []
   },
   "outputs": [
    {
     "data": {
      "text/plain": [
       "Index(['user_id', 'recipe_id', 'date', 'rating_x', 'review', 'name', 'id',\n",
       "       'minutes', 'n_steps', 'steps', 'description', 'ingredients',\n",
       "       'n_ingredients', 'calories', 'total_fat_pdv', 'sugar_pdv', 'sodium_pdv',\n",
       "       'protein_pdv', 'saturated_fat', 'carbohydrates', 'rating_y'],\n",
       "      dtype='object')"
      ]
     },
     "execution_count": 35,
     "metadata": {},
     "output_type": "execute_result"
    }
   ],
   "source": [
    "merged_df.columns"
   ]
  },
  {
   "cell_type": "code",
   "execution_count": 38,
   "id": "ba5dbd96-14af-44b3-9b48-42e2a27b882a",
   "metadata": {
    "tags": []
   },
   "outputs": [
    {
     "name": "stdout",
     "output_type": "stream",
     "text": [
      "Receta: brooklyn bialy recipe bialystok kucken\n",
      "Descripción: this was a recipe that originated in bailystok poland and brought to new york by eastern european immigrants.these were once well known in new york delicatessens ( mainly in manhattan’s lower east side) and a favorite of the jewish community. it’s not really known outside of new york because of its short self life which does not lend itself being shipped all over the country.\n",
      "these are similar to a bagel but there is no hole in the middle just a depression  which is filled with onion, garlic or poppy seeds.  it can be likened to the onion pletzel.  can also be made in different sizes from 3-4 inches to the size of a small pizza.\n"
     ]
    },
    {
     "name": "stdin",
     "output_type": "stream",
     "text": [
      "¿Te gusta esta receta? (si/no):  no\n"
     ]
    },
    {
     "name": "stdout",
     "output_type": "stream",
     "text": [
      "Entendido, buscando otra receta...\n",
      "Receta: japanese style miso salad dressing\n",
      "Descripción: this reminds me of the dressing on the salad in the bento boxes at the japanese chain asakaze here in sydney.  it's light and refreshing. please note australian recipe 1tbs=20mls.  if your miso is very thick, it can be easier to put it in a small bowl and gradually stir in the other ingredients a little at a time so that it doesn't get lumpy.  really needs the sesame seeds at the end and a little goes a long way.\n"
     ]
    },
    {
     "name": "stdin",
     "output_type": "stream",
     "text": [
      "¿Te gusta esta receta? (si/no):  si\n"
     ]
    },
    {
     "name": "stdout",
     "output_type": "stream",
     "text": [
      "¡Genial!\n",
      "Receta: easy 20 minute  texas  chili ww\n",
      "Descripción: a yummy weight watchers chili recipe that you can whip up after a long day at work. serve with my ww corn bread recipe. 5 points per 1 cup serving\n"
     ]
    },
    {
     "name": "stdin",
     "output_type": "stream",
     "text": [
      "¿Te gusta esta receta? (si/no):  si\n"
     ]
    },
    {
     "name": "stdout",
     "output_type": "stream",
     "text": [
      "¡Genial!\n",
      "Receta: poor man s pierogies\n",
      "Descripción: pierogies in a pan! this is a wonderful, rich casserole that tastes just like potato and cheese pierogies (without all the fuss!) nice, hearty comfort food!! can be served as a main dish with veggies or a salad, or as a side dish.\n"
     ]
    },
    {
     "name": "stdin",
     "output_type": "stream",
     "text": [
      "¿Te gusta esta receta? (si/no):  si\n"
     ]
    },
    {
     "name": "stdout",
     "output_type": "stream",
     "text": [
      "¡Genial!\n",
      "Receta: lemon chickpea quinoa burger\n",
      "Descripción: a delicious and protein rich vegetarian burger substitute - and easy to boot!  this one comes from www.inspired.ca.\n"
     ]
    },
    {
     "name": "stdin",
     "output_type": "stream",
     "text": [
      "¿Te gusta esta receta? (si/no):  si\n"
     ]
    },
    {
     "name": "stdout",
     "output_type": "stream",
     "text": [
      "¡Genial!\n",
      "Receta: bahamas johnny cake\n",
      "Descripción: typically served as a side dish for breakfast with salt fish.\n",
      "found online at www.caribbeanchoice.com for the zwt5\n"
     ]
    },
    {
     "name": "stdin",
     "output_type": "stream",
     "text": [
      "¿Te gusta esta receta? (si/no):  si\n"
     ]
    },
    {
     "name": "stdout",
     "output_type": "stream",
     "text": [
      "¡Genial!\n"
     ]
    }
   ],
   "source": [
    "import random\n",
    "from sklearn.feature_extraction.text import TfidfVectorizer\n",
    "from sklearn.model_selection import train_test_split  # Agregar esta línea\n",
    "from sklearn.ensemble import RandomForestClassifier\n",
    "from sklearn.metrics import classification_report\n",
    "import pandas as pd\n",
    "\n",
    "merged_df['gusto'] = 0\n",
    "recetas_gustadas = []\n",
    "while len(recetas_gustadas) < 5:\n",
    "    receta_aleatoria = random.choice(merged_df['recipe_id'])\n",
    "    receta_info = merged_df.loc[merged_df['recipe_id'] == receta_aleatoria, ['name', 'description']]\n",
    "    print(f\"Receta: {receta_info['name'].values[0]}\")\n",
    "    print(f\"Descripción: {receta_info['description'].values[0]}\")\n",
    "    respuesta = input(\"¿Te gusta esta receta? (si/no): \").lower()\n",
    "    if respuesta == \"si\":\n",
    "        recetas_gustadas.append(receta_aleatoria)\n",
    "        merged_df.loc[merged_df['recipe_id'] == receta_aleatoria, 'gusto'] = 1\n",
    "        print(\"¡Genial!\")\n",
    "    elif respuesta == \"no\":\n",
    "        merged_df.loc[merged_df['recipe_id'] == receta_aleatoria, 'gusto'] = 0\n",
    "        print(\"Entendido, buscando otra receta...\")\n",
    "    else:\n",
    "        print(\"Respuesta no válida. Por favor, responde 'si' o 'no'.\")\n"
   ]
  },
  {
   "cell_type": "code",
   "execution_count": 39,
   "id": "53f0bc1c-bebc-4d9f-a987-668663525f3d",
   "metadata": {},
   "outputs": [
    {
     "name": "stdin",
     "output_type": "stream",
     "text": [
      "¿Qué receta te gustaría hacer? Por favor, escribe el nombre de la receta:  lemon chickpea quinoa burger\n"
     ]
    },
    {
     "name": "stdout",
     "output_type": "stream",
     "text": [
      "Receta: lemon chickpea quinoa burger\n",
      "Pasos para hacer la receta:\n",
      "[ ' p u l s e   a l l   i n g r e d i e n t s   i n   a   f o o d   p r o c e s s o r   u n t i l   w e l l   c o m b i n e d   a n d   f a i r l y   s m o o t h ' ,   ' s h a p e   m i x t u r e   i n t o   4   e q u a l - s i z e d   p a t t i e s ' ,   ' c o v e r   w i t h   p l a s t i c   w r a p   a n d   r e f r i g e r a t e   u n t i l   n e e d e d ' ,   ' p r e h e a t   b a r b e c u e   t o   m e d i u m - h i g h ' ,   ' g r i l l   p a t t i e s   w i t h   l i d   c l o s e d   f o r   8   t o   1 0   m i n ' ,   ' ,   f l i p p i n g   o n c e ' ]\n",
      "\n",
      "Información adicional de la receta:\n",
      "Tiempo de preparación: 28 minutos\n",
      "Ingredientes:\n",
      "- ['chickpeas'\n",
      "- 'red onion'\n",
      "- 'fresh parsley'\n",
      "- 'garlic cloves'\n",
      "- 'lemon zest'\n",
      "- 'lemon juice'\n",
      "- 'coriander'\n",
      "- 'salt'\n",
      "- 'pepper'\n",
      "- 'egg'\n",
      "- 'quinoa'\n",
      "- 'rolled oats']\n",
      "Calorías: 289.8\n",
      "Grasa total (% del valor diario): 6.0%\n",
      "Azúcar (% del valor diario): 3.0%\n",
      "Sodio (% del valor diario): 54.0%\n",
      "Proteína (% del valor diario): 24.0%\n",
      "Grasa saturada: 3.0\n",
      "Carbohidratos: 16.0\n"
     ]
    }
   ],
   "source": [
    "# Preguntar al usuario qué receta quiere hacer\n",
    "receta_elegida = input(\"¿Qué receta te gustaría hacer? Por favor, escribe el nombre de la receta: \")\n",
    "\n",
    "# Buscar la receta en el DataFrame\n",
    "receta_elegida_info = merged_df.loc[merged_df['name'].str.lower() == receta_elegida.lower()]\n",
    "\n",
    "# Verificar si la receta existe\n",
    "if len(receta_elegida_info) == 0:\n",
    "    print(\"Lo siento, no se encontró la receta. Por favor, asegúrate de escribir el nombre correctamente.\")\n",
    "else:\n",
    "    # Mostrar la información de la receta\n",
    "    print(f\"Receta: {receta_elegida_info['name'].values[0]}\")\n",
    "    \n",
    "    # Mostrar los pasos para hacer la receta en una línea horizontal\n",
    "    print(\"Pasos para hacer la receta:\")\n",
    "    pasos_receta = ' '.join(receta_elegida_info['steps'].values[0])  # Unir los pasos en una sola cadena\n",
    "    print(pasos_receta)\n",
    "    \n",
    "    # Mostrar información adicional\n",
    "    print(\"\\nInformación adicional de la receta:\")\n",
    "    print(f\"Tiempo de preparación: {receta_elegida_info['minutes'].values[0]} minutos\")\n",
    "    print(\"Ingredientes:\")\n",
    "    for ingredient in receta_elegida_info['ingredients'].values[0]:\n",
    "        print(\"- \" + ingredient)\n",
    "    print(f\"Calorías: {receta_elegida_info['calories'].values[0]}\")\n",
    "    print(f\"Grasa total (% del valor diario): {receta_elegida_info['total_fat_pdv'].values[0]}%\")\n",
    "    print(f\"Azúcar (% del valor diario): {receta_elegida_info['sugar_pdv'].values[0]}%\")\n",
    "    print(f\"Sodio (% del valor diario): {receta_elegida_info['sodium_pdv'].values[0]}%\")\n",
    "    print(f\"Proteína (% del valor diario): {receta_elegida_info['protein_pdv'].values[0]}%\")\n",
    "    print(f\"Grasa saturada: {receta_elegida_info['saturated_fat'].values[0]}\")\n",
    "    print(f\"Carbohidratos: {receta_elegida_info['carbohydrates'].values[0]}\")\n"
   ]
  },
  {
   "cell_type": "code",
   "execution_count": 40,
   "id": "bbadaa67-4668-47c6-a7a8-1603f550d34d",
   "metadata": {},
   "outputs": [
    {
     "name": "stdin",
     "output_type": "stream",
     "text": [
      "¿Cuántas calorías necesita consumir al día?  3300\n",
      "¿Cuántas comidas realiza al día?  6\n"
     ]
    },
    {
     "name": "stdout",
     "output_type": "stream",
     "text": [
      "Recetas seleccionadas para cumplir con el criterio de calorías por comida:\n"
     ]
    },
    {
     "data": {
      "text/html": [
       "<div>\n",
       "<style scoped>\n",
       "    .dataframe tbody tr th:only-of-type {\n",
       "        vertical-align: middle;\n",
       "    }\n",
       "\n",
       "    .dataframe tbody tr th {\n",
       "        vertical-align: top;\n",
       "    }\n",
       "\n",
       "    .dataframe thead th {\n",
       "        text-align: right;\n",
       "    }\n",
       "</style>\n",
       "<table border=\"1\" class=\"dataframe\">\n",
       "  <thead>\n",
       "    <tr style=\"text-align: right;\">\n",
       "      <th></th>\n",
       "      <th>user_id</th>\n",
       "      <th>recipe_id</th>\n",
       "      <th>date</th>\n",
       "      <th>rating_x</th>\n",
       "      <th>review</th>\n",
       "      <th>name</th>\n",
       "      <th>id</th>\n",
       "      <th>minutes</th>\n",
       "      <th>n_steps</th>\n",
       "      <th>steps</th>\n",
       "      <th>...</th>\n",
       "      <th>n_ingredients</th>\n",
       "      <th>calories</th>\n",
       "      <th>total_fat_pdv</th>\n",
       "      <th>sugar_pdv</th>\n",
       "      <th>sodium_pdv</th>\n",
       "      <th>protein_pdv</th>\n",
       "      <th>saturated_fat</th>\n",
       "      <th>carbohydrates</th>\n",
       "      <th>rating_y</th>\n",
       "      <th>gusto</th>\n",
       "    </tr>\n",
       "  </thead>\n",
       "  <tbody>\n",
       "    <tr>\n",
       "      <th>12472</th>\n",
       "      <td>136997</td>\n",
       "      <td>163154</td>\n",
       "      <td>2007-06-26</td>\n",
       "      <td>5</td>\n",
       "      <td>Delicious! Couldn't taste the rum though, but ...</td>\n",
       "      <td>cubano pork tenderloin</td>\n",
       "      <td>163154</td>\n",
       "      <td>520</td>\n",
       "      <td>7</td>\n",
       "      <td>['rinse the tenderloins , pat dry and place in...</td>\n",
       "      <td>...</td>\n",
       "      <td>10</td>\n",
       "      <td>292.0</td>\n",
       "      <td>12.0</td>\n",
       "      <td>8.0</td>\n",
       "      <td>37.0</td>\n",
       "      <td>94.0</td>\n",
       "      <td>13.0</td>\n",
       "      <td>1.0</td>\n",
       "      <td>4.375000</td>\n",
       "      <td>0</td>\n",
       "    </tr>\n",
       "    <tr>\n",
       "      <th>717809</th>\n",
       "      <td>2001779933</td>\n",
       "      <td>71908</td>\n",
       "      <td>2017-11-05</td>\n",
       "      <td>0</td>\n",
       "      <td>Jello had a recipie for this about 20 years ag...</td>\n",
       "      <td>sugar free strawberry pie</td>\n",
       "      <td>71908</td>\n",
       "      <td>15</td>\n",
       "      <td>9</td>\n",
       "      <td>['in a saucepan , mix dry pudding and gelatin ...</td>\n",
       "      <td>...</td>\n",
       "      <td>5</td>\n",
       "      <td>201.2</td>\n",
       "      <td>11.0</td>\n",
       "      <td>15.0</td>\n",
       "      <td>18.0</td>\n",
       "      <td>7.0</td>\n",
       "      <td>9.0</td>\n",
       "      <td>11.0</td>\n",
       "      <td>3.500000</td>\n",
       "      <td>0</td>\n",
       "    </tr>\n",
       "    <tr>\n",
       "      <th>98866</th>\n",
       "      <td>2000147573</td>\n",
       "      <td>443758</td>\n",
       "      <td>2015-12-07</td>\n",
       "      <td>0</td>\n",
       "      <td>This SUCKED !!! Had to put back in oven, as co...</td>\n",
       "      <td>simple baked chicken drumsticks</td>\n",
       "      <td>443758</td>\n",
       "      <td>65</td>\n",
       "      <td>9</td>\n",
       "      <td>['put some olive oil in the bottom of a 9x13 p...</td>\n",
       "      <td>...</td>\n",
       "      <td>7</td>\n",
       "      <td>528.9</td>\n",
       "      <td>43.0</td>\n",
       "      <td>0.0</td>\n",
       "      <td>11.0</td>\n",
       "      <td>126.0</td>\n",
       "      <td>39.0</td>\n",
       "      <td>0.0</td>\n",
       "      <td>3.939130</td>\n",
       "      <td>0</td>\n",
       "    </tr>\n",
       "    <tr>\n",
       "      <th>133524</th>\n",
       "      <td>360437</td>\n",
       "      <td>414808</td>\n",
       "      <td>2011-07-12</td>\n",
       "      <td>5</td>\n",
       "      <td>I make fried eggs often and I really enjoyed t...</td>\n",
       "      <td>moroccan fried eggs with cumin and salt</td>\n",
       "      <td>414808</td>\n",
       "      <td>8</td>\n",
       "      <td>5</td>\n",
       "      <td>['heat the oil in a frying pan over medium hea...</td>\n",
       "      <td>...</td>\n",
       "      <td>4</td>\n",
       "      <td>182.8</td>\n",
       "      <td>21.0</td>\n",
       "      <td>1.0</td>\n",
       "      <td>5.0</td>\n",
       "      <td>25.0</td>\n",
       "      <td>18.0</td>\n",
       "      <td>0.0</td>\n",
       "      <td>4.833333</td>\n",
       "      <td>0</td>\n",
       "    </tr>\n",
       "    <tr>\n",
       "      <th>584796</th>\n",
       "      <td>50969</td>\n",
       "      <td>404277</td>\n",
       "      <td>2011-08-26</td>\n",
       "      <td>4</td>\n",
       "      <td>I made this recipe on August 25th., 2011 for t...</td>\n",
       "      <td>chicken   rice chili</td>\n",
       "      <td>404277</td>\n",
       "      <td>40</td>\n",
       "      <td>6</td>\n",
       "      <td>['spray a large pot with cooking spray then co...</td>\n",
       "      <td>...</td>\n",
       "      <td>15</td>\n",
       "      <td>441.4</td>\n",
       "      <td>17.0</td>\n",
       "      <td>16.0</td>\n",
       "      <td>42.0</td>\n",
       "      <td>69.0</td>\n",
       "      <td>15.0</td>\n",
       "      <td>17.0</td>\n",
       "      <td>4.000000</td>\n",
       "      <td>0</td>\n",
       "    </tr>\n",
       "    <tr>\n",
       "      <th>872622</th>\n",
       "      <td>654994</td>\n",
       "      <td>12975</td>\n",
       "      <td>2007-11-18</td>\n",
       "      <td>4</td>\n",
       "      <td>These came out very well. Although, I didn't h...</td>\n",
       "      <td>scrambled egg muffins</td>\n",
       "      <td>12975</td>\n",
       "      <td>50</td>\n",
       "      <td>7</td>\n",
       "      <td>['brown sausage', 'drain well', 'preheat oven ...</td>\n",
       "      <td>...</td>\n",
       "      <td>8</td>\n",
       "      <td>152.2</td>\n",
       "      <td>17.0</td>\n",
       "      <td>2.0</td>\n",
       "      <td>13.0</td>\n",
       "      <td>20.0</td>\n",
       "      <td>21.0</td>\n",
       "      <td>0.0</td>\n",
       "      <td>4.044776</td>\n",
       "      <td>0</td>\n",
       "    </tr>\n",
       "    <tr>\n",
       "      <th>332046</th>\n",
       "      <td>167782</td>\n",
       "      <td>88129</td>\n",
       "      <td>2013-05-09</td>\n",
       "      <td>4</td>\n",
       "      <td>This was lacking something for me. Maybe I&amp;#03...</td>\n",
       "      <td>vegetarian potatoes and soyrizo</td>\n",
       "      <td>88129</td>\n",
       "      <td>25</td>\n",
       "      <td>10</td>\n",
       "      <td>['section potato into quarters , then slice th...</td>\n",
       "      <td>...</td>\n",
       "      <td>8</td>\n",
       "      <td>482.4</td>\n",
       "      <td>21.0</td>\n",
       "      <td>42.0</td>\n",
       "      <td>33.0</td>\n",
       "      <td>21.0</td>\n",
       "      <td>10.0</td>\n",
       "      <td>27.0</td>\n",
       "      <td>4.500000</td>\n",
       "      <td>0</td>\n",
       "    </tr>\n",
       "    <tr>\n",
       "      <th>642400</th>\n",
       "      <td>526666</td>\n",
       "      <td>104373</td>\n",
       "      <td>2011-07-21</td>\n",
       "      <td>5</td>\n",
       "      <td>SO good; I used the white chocolate option, an...</td>\n",
       "      <td>chocolate pistachio cherries</td>\n",
       "      <td>104373</td>\n",
       "      <td>50</td>\n",
       "      <td>11</td>\n",
       "      <td>['line a baking tray with non-stick baking pap...</td>\n",
       "      <td>...</td>\n",
       "      <td>3</td>\n",
       "      <td>115.2</td>\n",
       "      <td>14.0</td>\n",
       "      <td>12.0</td>\n",
       "      <td>0.0</td>\n",
       "      <td>6.0</td>\n",
       "      <td>18.0</td>\n",
       "      <td>2.0</td>\n",
       "      <td>4.500000</td>\n",
       "      <td>0</td>\n",
       "    </tr>\n",
       "    <tr>\n",
       "      <th>728168</th>\n",
       "      <td>79503</td>\n",
       "      <td>53583</td>\n",
       "      <td>2003-03-26</td>\n",
       "      <td>4</td>\n",
       "      <td>Very good,quick too!My kids loved them.A littl...</td>\n",
       "      <td>tasty tortilla crisps</td>\n",
       "      <td>53583</td>\n",
       "      <td>15</td>\n",
       "      <td>6</td>\n",
       "      <td>['preheat oven to 350f', 'cut each tortilla in...</td>\n",
       "      <td>...</td>\n",
       "      <td>3</td>\n",
       "      <td>30.0</td>\n",
       "      <td>1.0</td>\n",
       "      <td>0.0</td>\n",
       "      <td>2.0</td>\n",
       "      <td>1.0</td>\n",
       "      <td>1.0</td>\n",
       "      <td>1.0</td>\n",
       "      <td>4.833333</td>\n",
       "      <td>0</td>\n",
       "    </tr>\n",
       "    <tr>\n",
       "      <th>125338</th>\n",
       "      <td>2000725863</td>\n",
       "      <td>92095</td>\n",
       "      <td>2016-01-24</td>\n",
       "      <td>5</td>\n",
       "      <td>These meatballs are GREAT!!!!! Easy to make an...</td>\n",
       "      <td>authentic italian meatballs</td>\n",
       "      <td>92095</td>\n",
       "      <td>200</td>\n",
       "      <td>5</td>\n",
       "      <td>['mix all ingredients in a large bowl by hand'...</td>\n",
       "      <td>...</td>\n",
       "      <td>9</td>\n",
       "      <td>138.5</td>\n",
       "      <td>12.0</td>\n",
       "      <td>1.0</td>\n",
       "      <td>8.0</td>\n",
       "      <td>21.0</td>\n",
       "      <td>15.0</td>\n",
       "      <td>1.0</td>\n",
       "      <td>4.308793</td>\n",
       "      <td>0</td>\n",
       "    </tr>\n",
       "    <tr>\n",
       "      <th>705780</th>\n",
       "      <td>1028247</td>\n",
       "      <td>17180</td>\n",
       "      <td>2009-08-23</td>\n",
       "      <td>3</td>\n",
       "      <td>Excellent with coffee, The amounts shown only ...</td>\n",
       "      <td>banana bread  with a twist</td>\n",
       "      <td>17180</td>\n",
       "      <td>55</td>\n",
       "      <td>9</td>\n",
       "      <td>['grease 2 loaf pans', 'preheat oven to 350', ...</td>\n",
       "      <td>...</td>\n",
       "      <td>6</td>\n",
       "      <td>219.3</td>\n",
       "      <td>6.0</td>\n",
       "      <td>94.0</td>\n",
       "      <td>7.0</td>\n",
       "      <td>10.0</td>\n",
       "      <td>5.0</td>\n",
       "      <td>13.0</td>\n",
       "      <td>4.000000</td>\n",
       "      <td>0</td>\n",
       "    </tr>\n",
       "    <tr>\n",
       "      <th>398968</th>\n",
       "      <td>278524</td>\n",
       "      <td>190724</td>\n",
       "      <td>2007-02-28</td>\n",
       "      <td>5</td>\n",
       "      <td>I have been following the Abs Diet for about t...</td>\n",
       "      <td>abs diet ultimate power smoothie</td>\n",
       "      <td>190724</td>\n",
       "      <td>5</td>\n",
       "      <td>1</td>\n",
       "      <td>['put in smoothie machine and blend']</td>\n",
       "      <td>...</td>\n",
       "      <td>6</td>\n",
       "      <td>212.6</td>\n",
       "      <td>9.0</td>\n",
       "      <td>37.0</td>\n",
       "      <td>3.0</td>\n",
       "      <td>22.0</td>\n",
       "      <td>8.0</td>\n",
       "      <td>9.0</td>\n",
       "      <td>5.000000</td>\n",
       "      <td>0</td>\n",
       "    </tr>\n",
       "    <tr>\n",
       "      <th>803708</th>\n",
       "      <td>1595620</td>\n",
       "      <td>180657</td>\n",
       "      <td>2010-04-11</td>\n",
       "      <td>5</td>\n",
       "      <td>Wow!  I'm a clam nut!  I have, for 30 yrs or m...</td>\n",
       "      <td>aunt phyllis  clam casserole</td>\n",
       "      <td>180657</td>\n",
       "      <td>40</td>\n",
       "      <td>5</td>\n",
       "      <td>['saute first 4 ingredients in a large skillet...</td>\n",
       "      <td>...</td>\n",
       "      <td>13</td>\n",
       "      <td>494.4</td>\n",
       "      <td>29.0</td>\n",
       "      <td>22.0</td>\n",
       "      <td>44.0</td>\n",
       "      <td>72.0</td>\n",
       "      <td>16.0</td>\n",
       "      <td>14.0</td>\n",
       "      <td>5.000000</td>\n",
       "      <td>0</td>\n",
       "    </tr>\n",
       "  </tbody>\n",
       "</table>\n",
       "<p>13 rows × 22 columns</p>\n",
       "</div>"
      ],
      "text/plain": [
       "           user_id recipe_id        date rating_x  \\\n",
       "12472       136997    163154  2007-06-26        5   \n",
       "717809  2001779933     71908  2017-11-05        0   \n",
       "98866   2000147573    443758  2015-12-07        0   \n",
       "133524      360437    414808  2011-07-12        5   \n",
       "584796       50969    404277  2011-08-26        4   \n",
       "872622      654994     12975  2007-11-18        4   \n",
       "332046      167782     88129  2013-05-09        4   \n",
       "642400      526666    104373  2011-07-21        5   \n",
       "728168       79503     53583  2003-03-26        4   \n",
       "125338  2000725863     92095  2016-01-24        5   \n",
       "705780     1028247     17180  2009-08-23        3   \n",
       "398968      278524    190724  2007-02-28        5   \n",
       "803708     1595620    180657  2010-04-11        5   \n",
       "\n",
       "                                                   review  \\\n",
       "12472   Delicious! Couldn't taste the rum though, but ...   \n",
       "717809  Jello had a recipie for this about 20 years ag...   \n",
       "98866   This SUCKED !!! Had to put back in oven, as co...   \n",
       "133524  I make fried eggs often and I really enjoyed t...   \n",
       "584796  I made this recipe on August 25th., 2011 for t...   \n",
       "872622  These came out very well. Although, I didn't h...   \n",
       "332046  This was lacking something for me. Maybe I&#03...   \n",
       "642400  SO good; I used the white chocolate option, an...   \n",
       "728168  Very good,quick too!My kids loved them.A littl...   \n",
       "125338  These meatballs are GREAT!!!!! Easy to make an...   \n",
       "705780  Excellent with coffee, The amounts shown only ...   \n",
       "398968  I have been following the Abs Diet for about t...   \n",
       "803708  Wow!  I'm a clam nut!  I have, for 30 yrs or m...   \n",
       "\n",
       "                                           name      id minutes n_steps  \\\n",
       "12472                    cubano pork tenderloin  163154     520       7   \n",
       "717809                sugar free strawberry pie   71908      15       9   \n",
       "98866           simple baked chicken drumsticks  443758      65       9   \n",
       "133524  moroccan fried eggs with cumin and salt  414808       8       5   \n",
       "584796                     chicken   rice chili  404277      40       6   \n",
       "872622                    scrambled egg muffins   12975      50       7   \n",
       "332046          vegetarian potatoes and soyrizo   88129      25      10   \n",
       "642400             chocolate pistachio cherries  104373      50      11   \n",
       "728168                    tasty tortilla crisps   53583      15       6   \n",
       "125338              authentic italian meatballs   92095     200       5   \n",
       "705780               banana bread  with a twist   17180      55       9   \n",
       "398968         abs diet ultimate power smoothie  190724       5       1   \n",
       "803708             aunt phyllis  clam casserole  180657      40       5   \n",
       "\n",
       "                                                    steps  ... n_ingredients  \\\n",
       "12472   ['rinse the tenderloins , pat dry and place in...  ...            10   \n",
       "717809  ['in a saucepan , mix dry pudding and gelatin ...  ...             5   \n",
       "98866   ['put some olive oil in the bottom of a 9x13 p...  ...             7   \n",
       "133524  ['heat the oil in a frying pan over medium hea...  ...             4   \n",
       "584796  ['spray a large pot with cooking spray then co...  ...            15   \n",
       "872622  ['brown sausage', 'drain well', 'preheat oven ...  ...             8   \n",
       "332046  ['section potato into quarters , then slice th...  ...             8   \n",
       "642400  ['line a baking tray with non-stick baking pap...  ...             3   \n",
       "728168  ['preheat oven to 350f', 'cut each tortilla in...  ...             3   \n",
       "125338  ['mix all ingredients in a large bowl by hand'...  ...             9   \n",
       "705780  ['grease 2 loaf pans', 'preheat oven to 350', ...  ...             6   \n",
       "398968              ['put in smoothie machine and blend']  ...             6   \n",
       "803708  ['saute first 4 ingredients in a large skillet...  ...            13   \n",
       "\n",
       "       calories total_fat_pdv  sugar_pdv  sodium_pdv  protein_pdv  \\\n",
       "12472     292.0          12.0        8.0        37.0         94.0   \n",
       "717809    201.2          11.0       15.0        18.0          7.0   \n",
       "98866     528.9          43.0        0.0        11.0        126.0   \n",
       "133524    182.8          21.0        1.0         5.0         25.0   \n",
       "584796    441.4          17.0       16.0        42.0         69.0   \n",
       "872622    152.2          17.0        2.0        13.0         20.0   \n",
       "332046    482.4          21.0       42.0        33.0         21.0   \n",
       "642400    115.2          14.0       12.0         0.0          6.0   \n",
       "728168     30.0           1.0        0.0         2.0          1.0   \n",
       "125338    138.5          12.0        1.0         8.0         21.0   \n",
       "705780    219.3           6.0       94.0         7.0         10.0   \n",
       "398968    212.6           9.0       37.0         3.0         22.0   \n",
       "803708    494.4          29.0       22.0        44.0         72.0   \n",
       "\n",
       "        saturated_fat  carbohydrates  rating_y  gusto  \n",
       "12472            13.0            1.0  4.375000      0  \n",
       "717809            9.0           11.0  3.500000      0  \n",
       "98866            39.0            0.0  3.939130      0  \n",
       "133524           18.0            0.0  4.833333      0  \n",
       "584796           15.0           17.0  4.000000      0  \n",
       "872622           21.0            0.0  4.044776      0  \n",
       "332046           10.0           27.0  4.500000      0  \n",
       "642400           18.0            2.0  4.500000      0  \n",
       "728168            1.0            1.0  4.833333      0  \n",
       "125338           15.0            1.0  4.308793      0  \n",
       "705780            5.0           13.0  4.000000      0  \n",
       "398968            8.0            9.0  5.000000      0  \n",
       "803708           16.0           14.0  5.000000      0  \n",
       "\n",
       "[13 rows x 22 columns]"
      ]
     },
     "execution_count": 40,
     "metadata": {},
     "output_type": "execute_result"
    }
   ],
   "source": [
    "import pandas as pd\n",
    "\n",
    "# Preguntar al usuario cuántas calorías necesita consumir al día y cuántas comidas realiza al día\n",
    "calorias_diarias = int(input(\"¿Cuántas calorías necesita consumir al día? \"))\n",
    "comidas_al_dia = int(input(\"¿Cuántas comidas realiza al día? \"))\n",
    "\n",
    "# Calcular el número de calorías por comida\n",
    "calorias_por_comida = calorias_diarias / comidas_al_dia\n",
    "\n",
    "# Crear un DataFrame vacío para almacenar las recetas seleccionadas\n",
    "recetas_seleccionadas = pd.DataFrame(columns=merged_df.columns)\n",
    "\n",
    "# Inicializar la suma de calorías de las recetas seleccionadas\n",
    "calorias_totales = 0\n",
    "\n",
    "# Iterar hasta alcanzar o superar el número total de calorías necesarias\n",
    "while calorias_totales < calorias_diarias:\n",
    "    # Filtrar las recetas que tengan un contenido calórico por debajo o igual a las calorías por comida\n",
    "    recetas_filtradas = merged_df[merged_df['calories'] <= calorias_por_comida]\n",
    "\n",
    "    # Seleccionar una receta aleatoria de las que cumplen el criterio\n",
    "    receta_seleccionada = recetas_filtradas.sample(n=1)\n",
    "\n",
    "    # Agregar la receta seleccionada al DataFrame de recetas seleccionadas\n",
    "    recetas_seleccionadas = pd.concat([recetas_seleccionadas, receta_seleccionada])\n",
    "\n",
    "    # Actualizar la suma de calorías totales\n",
    "    calorias_totales += receta_seleccionada['calories'].iloc[0]\n",
    "\n",
    "# Mostrar el DataFrame con las recetas seleccionadas\n",
    "print(\"Recetas seleccionadas para cumplir con el criterio de calorías por comida:\")\n",
    "recetas_seleccionadas\n",
    "\n"
   ]
  },
  {
   "cell_type": "code",
   "execution_count": null,
   "id": "61e358f0-e007-4957-8e9f-ddc652e39c1c",
   "metadata": {},
   "outputs": [],
   "source": []
  },
  {
   "cell_type": "code",
   "execution_count": null,
   "id": "6f6e5e94-49ed-49e7-b859-26ad19a0504e",
   "metadata": {},
   "outputs": [],
   "source": []
  }
 ],
 "metadata": {
  "kernelspec": {
   "display_name": "Python 3 (ipykernel)",
   "language": "python",
   "name": "python3"
  },
  "language_info": {
   "codemirror_mode": {
    "name": "ipython",
    "version": 3
   },
   "file_extension": ".py",
   "mimetype": "text/x-python",
   "name": "python",
   "nbconvert_exporter": "python",
   "pygments_lexer": "ipython3",
   "version": "3.11.5"
  }
 },
 "nbformat": 4,
 "nbformat_minor": 5
}
