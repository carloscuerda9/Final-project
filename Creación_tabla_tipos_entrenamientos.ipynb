{
 "cells": [
  {
   "cell_type": "code",
   "execution_count": 1,
   "id": "865235c3-32a6-47d7-be2d-c4e8fe24b02b",
   "metadata": {
    "tags": []
   },
   "outputs": [],
   "source": [
    "import numpy as np # operaciones matemáticas (numerical python)\n",
    "import pandas as pd # manipulación de datos\n",
    "import warnings # nobody likes warnings\n",
    "import plotly.express as px\n"
   ]
  },
  {
   "cell_type": "code",
   "execution_count": 2,
   "id": "2abafe93-c995-4616-b4ff-e757b74c326a",
   "metadata": {
    "tags": []
   },
   "outputs": [],
   "source": [
    "# Crear el DataFrame con los datos proporcionados\n",
    "data = {\n",
    "    'strength type': ['potencia', 'maxima', 'resistencia'],\n",
    "    'duration': ['4-6 semanas', '4-6 semanas', '4-8 semanas'],\n",
    "    'series': ['3-5', '3-6', '2-4'],\n",
    "    'repetitions': ['3-6', '1-5', '10-15'],\n",
    "    'rest interval': ['2-3 minutos', '2-4 minutos', '30 segundos - 1 minuto']\n",
    "}\n",
    "\n",
    "df = pd.DataFrame(data)\n"
   ]
  },
  {
   "cell_type": "code",
   "execution_count": 3,
   "id": "065585d4-ad36-46ea-9f93-7a425f67837a",
   "metadata": {
    "tags": []
   },
   "outputs": [
    {
     "data": {
      "text/html": [
       "<div>\n",
       "<style scoped>\n",
       "    .dataframe tbody tr th:only-of-type {\n",
       "        vertical-align: middle;\n",
       "    }\n",
       "\n",
       "    .dataframe tbody tr th {\n",
       "        vertical-align: top;\n",
       "    }\n",
       "\n",
       "    .dataframe thead th {\n",
       "        text-align: right;\n",
       "    }\n",
       "</style>\n",
       "<table border=\"1\" class=\"dataframe\">\n",
       "  <thead>\n",
       "    <tr style=\"text-align: right;\">\n",
       "      <th></th>\n",
       "      <th>strength type</th>\n",
       "      <th>duration</th>\n",
       "      <th>series</th>\n",
       "      <th>repetitions</th>\n",
       "      <th>rest interval</th>\n",
       "    </tr>\n",
       "  </thead>\n",
       "  <tbody>\n",
       "    <tr>\n",
       "      <th>0</th>\n",
       "      <td>potencia</td>\n",
       "      <td>4-6 semanas</td>\n",
       "      <td>3-5</td>\n",
       "      <td>3-6</td>\n",
       "      <td>2-3 minutos</td>\n",
       "    </tr>\n",
       "    <tr>\n",
       "      <th>1</th>\n",
       "      <td>maxima</td>\n",
       "      <td>4-6 semanas</td>\n",
       "      <td>3-6</td>\n",
       "      <td>1-5</td>\n",
       "      <td>2-4 minutos</td>\n",
       "    </tr>\n",
       "    <tr>\n",
       "      <th>2</th>\n",
       "      <td>resistencia</td>\n",
       "      <td>4-8 semanas</td>\n",
       "      <td>2-4</td>\n",
       "      <td>10-15</td>\n",
       "      <td>30 segundos - 1 minuto</td>\n",
       "    </tr>\n",
       "  </tbody>\n",
       "</table>\n",
       "</div>"
      ],
      "text/plain": [
       "  strength type     duration series repetitions           rest interval\n",
       "0      potencia  4-6 semanas    3-5         3-6             2-3 minutos\n",
       "1        maxima  4-6 semanas    3-6         1-5             2-4 minutos\n",
       "2   resistencia  4-8 semanas    2-4       10-15  30 segundos - 1 minuto"
      ]
     },
     "execution_count": 3,
     "metadata": {},
     "output_type": "execute_result"
    }
   ],
   "source": [
    "df"
   ]
  },
  {
   "cell_type": "code",
   "execution_count": 4,
   "id": "59cc1c59-9e25-4967-9fc9-29861c22782c",
   "metadata": {
    "tags": []
   },
   "outputs": [],
   "source": [
    "# Guardar el DataFrame como un archivo CSV\n",
    "df.to_csv('strength_table.csv', index=False)"
   ]
  }
 ],
 "metadata": {
  "kernelspec": {
   "display_name": "Python 3 (ipykernel)",
   "language": "python",
   "name": "python3"
  },
  "language_info": {
   "codemirror_mode": {
    "name": "ipython",
    "version": 3
   },
   "file_extension": ".py",
   "mimetype": "text/x-python",
   "name": "python",
   "nbconvert_exporter": "python",
   "pygments_lexer": "ipython3",
   "version": "3.11.5"
  }
 },
 "nbformat": 4,
 "nbformat_minor": 5
}
